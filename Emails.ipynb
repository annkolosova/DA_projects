{
 "cells": [
  {
   "cell_type": "code",
   "execution_count": 1,
   "id": "e526bff0",
   "metadata": {},
   "outputs": [],
   "source": [
    "import pandas as pd\n",
    "import numpy as np\n",
    "import seaborn as sns\n",
    "import matplotlib.pyplot as plt\n",
    "from dateutil import relativedelta\n",
    "import datetime"
   ]
  },
  {
   "cell_type": "code",
   "execution_count": 2,
   "id": "eb3902c6",
   "metadata": {},
   "outputs": [],
   "source": [
    "sns.set()"
   ]
  },
  {
   "cell_type": "code",
   "execution_count": 2,
   "id": "a1bbba07",
   "metadata": {},
   "outputs": [],
   "source": [
    "# Функция для предварительного анализа данных\n",
    "def df_eda(df):\n",
    "  class color:\n",
    "    BLUE = '\\033[94m'\n",
    "    BOLD = '\\033[1m'\n",
    "    END = '\\033[0m'\n",
    "  \n",
    "  def tbl_dict_base(df, col):\n",
    "    tbl_dict = {}\n",
    "    tbl_dict['valid'] = (~df[col].isnull()).sum()\n",
    "    tbl_dict['valid_pct'] = tbl_dict['valid']/len(df)\n",
    "    tbl_dict['missing'] = (df[col].isnull()).sum()\n",
    "    tbl_dict['missing_pct'] = tbl_dict['missing']/len(df)\n",
    "    tbl_dict['unique_values'] = df[col].nunique()\n",
    "    return tbl_dict\n",
    "\n",
    "  def display_table(tbl_dict, subset1=['missing', 'missing_pct'], \\\n",
    "                    subset2=['valid_pct', 'missing_pct']):\n",
    "    tbl_det = pd.DataFrame([tbl_dict])\n",
    "    tbl_det = (\n",
    "        tbl_det.style.applymap(lambda x: 'color:red' if x > 0 else 'color:green', \n",
    "                              subset=subset1)\n",
    "        .format('{:0.2%}', subset=subset2).hide(axis='index')\n",
    "      )\n",
    "    display(tbl_det)\n",
    "\n",
    "  pd.set_option('display.max_columns', None)\n",
    "  print(color.BOLD + 'General information' + color.END)\n",
    "#   display(df.head())\n",
    "#   print('')\n",
    "  display(df.info())\n",
    "  df_duples = df.copy()\n",
    "  print('')\n",
    "\n",
    "#   print(color.BOLD + 'Heatmap - missing values' + color.END)\n",
    "#   fig, ax = plt.subplots(figsize=(8,5))\n",
    "#   sns.heatmap(df.isna(), cmap='Blues', cbar=False)\n",
    "#   plt.show();\n",
    "  print('')\n",
    "  print('')\n",
    "  print(color.BOLD + 'Column stats' + color.END)\n",
    "  print('')\n",
    "\n",
    "  missing_cols_cnt = 0\n",
    "  missing_cols_list = []\n",
    "  id_duples = 0\n",
    "  \n",
    "  for col in df.columns:\n",
    "    if df[col].dtype == 'object':\n",
    "      print(color.BLUE + f'{col} - dtype: {df[col].dtype}' + color.END)\n",
    "      tbl_dict = tbl_dict_base(df, col)\n",
    "      try:\n",
    "        df[col] = df[col].str.replace('ё','е')\n",
    "        tbl_dict['case_sensitive_dupl'] = (\n",
    "          df[col].str.lower().duplicated().sum() - df[col].duplicated().sum()\n",
    "        )\n",
    "        if tbl_dict['case_sensitive_dupl'] > 0:\n",
    "          df_duples[col] = df_duples[col].str.lower()\n",
    "        \n",
    "        display_table(tbl_dict, ['missing', 'missing_pct', 'case_sensitive_dupl'])\n",
    "      \n",
    "      except:\n",
    "        print('Dtype check needed')\n",
    "        display_table(tbl_dict)\n",
    "            \n",
    "      if tbl_dict['missing'] > 0:\n",
    "        missing_cols_cnt += 1\n",
    "        missing_cols_list.append(col)\n",
    "\n",
    "      if tbl_dict['unique_values'] > 5:\n",
    "        most_common = df[col].value_counts(normalize=True).reset_index()\n",
    "        most_common.columns=['Most common', col]\n",
    "        most_common['Most common'] = (\n",
    "            most_common['Most common']\n",
    "            .where(most_common['Most common']\n",
    "                  .isin(df[col].value_counts(normalize=True).head(5).index), 'other')\n",
    "        )\n",
    "        most_common = (\n",
    "            most_common.groupby('Most common', sort=False)[col]\n",
    "            .agg('sum').to_frame('')\n",
    "        )\n",
    "\n",
    "      else:\n",
    "        most_common = df[col].value_counts(normalize=True).reset_index()\n",
    "        most_common.columns=['Most common', '']\n",
    "        most_common = most_common.set_index('Most common')\n",
    "      \n",
    "      display(most_common.style.format('{:0.1%}'))\n",
    "      print('')\n",
    "\n",
    "    elif df[col].dtype == 'float' or df[col].dtype == 'int64':\n",
    "      print(color.BLUE + f'{col} - dtype: {df[col].dtype}' + color.END)\n",
    "      tbl_dict = tbl_dict_base(df, col)\n",
    "      tbl_dict['zeros'] = len(df[df[col] == 0])\n",
    "      tbl_dict['negatives'] = len(df[df[col] < 0])\n",
    "      display_table(tbl_dict)\n",
    "\n",
    "      if tbl_dict['missing'] > 0:\n",
    "        missing_cols_cnt += 1\n",
    "        missing_cols_list.append(col)\n",
    "      \n",
    "      if tbl_dict['unique_values'] < 50:\n",
    "        sns.histplot(df[col], bins=tbl_dict['unique_values'])\n",
    "      elif tbl_dict['unique_values'] > 100:\n",
    "        sns.histplot(df[col], bins=50)\n",
    "      else:\n",
    "        sns.histplot(df[col], bins=tbl_dict['unique_values']//2)\n",
    "      plt.show();\n",
    "      tbl_stats = pd.DataFrame({'':[df[col].mean(), df[col].median(), \n",
    "                                   df[col].std(), df[col].min(),\n",
    "                                   df[col].max(), df[col].quantile(0.01),\n",
    "                                   df[col].quantile(0.99)]})\n",
    "      tbl_stats.index = ['mean', 'median', 'std', 'min', 'max', \n",
    "                         '1st quantile', '99th quantile']\n",
    "      display(tbl_stats.style.format('{:.2f}'))\n",
    "      # display(df[col].describe().to_frame('')[1:].style.format(\"{:.2f}\"))\n",
    "      print('')\n",
    "\n",
    "    elif df[col].dtype == 'datetime64[ns]':\n",
    "      print(color.BLUE + f'{col} - dtype: {df[col].dtype}' + color.END)\n",
    "      tbl_dict = tbl_dict_base(df, col)\n",
    "      display_table(tbl_dict)\n",
    "\n",
    "      if tbl_dict['missing'] > 0:\n",
    "        missing_cols_cnt += 1\n",
    "        missing_cols_list.append(col)\n",
    "\n",
    "      if tbl_dict['unique_values'] < 50:\n",
    "        sns.histplot(df[col], bins=tbl_dict['unique_values'])\n",
    "      elif tbl_dict['unique_values'] > 100:\n",
    "        sns.histplot(df[col], bins=50)\n",
    "      else:\n",
    "        sns.histplot(df[col], bins=tbl_dict['unique_values']//2)\n",
    "      plt.xticks(rotation=45)\n",
    "      plt.show();\n",
    "      display(df[col].apply(['min', 'max', 'mean']).to_frame(''))\n",
    "      print('')\n",
    "\n",
    "    elif df[col].dtype == 'bool':\n",
    "      print(color.BLUE + f'{col} - dtype: {df[col].dtype}' + color.END)\n",
    "      tbl_dict = tbl_dict_base(df, col)\n",
    "      display_table(tbl_dict)\n",
    "      display(df[col].value_counts(normalize=True).to_frame('').style.format('{:0.1%}'))\n",
    "      \n",
    "      if tbl_dict['missing'] > 0:\n",
    "        missing_cols_cnt += 1\n",
    "        missing_cols_list.append(col)\n",
    "    \n",
    "    else:\n",
    "      print(color.BLUE + col + color.END)\n",
    "      print('check format')\n",
    "\n",
    "    if col.lower() == 'id' or col.lower() == 'userid' or col.lower() == 'user_id':\n",
    "        id_duples = df[col].duplicated().sum()\n",
    "  \n",
    "  print(color.BLUE + 'EDA brief' + color.END)\n",
    "  print('')\n",
    "  print(f'Rows in dataset: {df.shape[0]}')\n",
    "  print(f'Columns in dataset: {df.shape[1]}')\n",
    "  print(f'Number of columns with missing values: {missing_cols_cnt}')\n",
    "  print('Columns with missing values: ', missing_cols_list)\n",
    "  print('')\n",
    "\n",
    "  print(color.BOLD + 'Duplicates in dataset: ' + color.END)\n",
    "  tbl_dupl = (\n",
    "      pd.DataFrame({'duples_cnt':[df.duplicated().sum()], \n",
    "                    'duples_pct':[df.duplicated().sum()/len(df)],\n",
    "                    'case_sensitive_duples':[(df_duples.duplicated().sum()-df.duplicated().sum())],\n",
    "                    'case_sensitive_pct':[(df_duples.duplicated().sum()-df.duplicated().sum())/len(df)], \n",
    "                    'id_duples':[id_duples],\n",
    "                    'id_duples_pct':[id_duples/len(df)]})\n",
    "      .style.applymap(lambda x: 'color:red' if x > 0 else 'color:green')\n",
    "      .format('{:.2%}', subset=['duples_pct', 'case_sensitive_pct', 'id_duples_pct'])\n",
    "  )\n",
    "  display(tbl_dupl)"
   ]
  },
  {
   "cell_type": "code",
   "execution_count": 3,
   "id": "93ece480",
   "metadata": {},
   "outputs": [],
   "source": [
    "cities = pd.read_excel('C:/Rabota/IT/Datasets/russian_cities.xlsx')"
   ]
  },
  {
   "cell_type": "code",
   "execution_count": 4,
   "id": "f7794130",
   "metadata": {},
   "outputs": [
    {
     "data": {
      "text/html": [
       "<div>\n",
       "<style scoped>\n",
       "    .dataframe tbody tr th:only-of-type {\n",
       "        vertical-align: middle;\n",
       "    }\n",
       "\n",
       "    .dataframe tbody tr th {\n",
       "        vertical-align: top;\n",
       "    }\n",
       "\n",
       "    .dataframe thead th {\n",
       "        text-align: right;\n",
       "    }\n",
       "</style>\n",
       "<table border=\"1\" class=\"dataframe\">\n",
       "  <thead>\n",
       "    <tr style=\"text-align: right;\">\n",
       "      <th></th>\n",
       "      <th>city</th>\n",
       "      <th>region</th>\n",
       "      <th>federal_district</th>\n",
       "      <th>population</th>\n",
       "    </tr>\n",
       "  </thead>\n",
       "  <tbody>\n",
       "    <tr>\n",
       "      <th>0</th>\n",
       "      <td>Абаза</td>\n",
       "      <td>Хакасия</td>\n",
       "      <td>Сибирский</td>\n",
       "      <td>17111</td>\n",
       "    </tr>\n",
       "    <tr>\n",
       "      <th>1</th>\n",
       "      <td>Абакан</td>\n",
       "      <td>Хакасия</td>\n",
       "      <td>Сибирский</td>\n",
       "      <td>165183</td>\n",
       "    </tr>\n",
       "    <tr>\n",
       "      <th>2</th>\n",
       "      <td>Абдулино</td>\n",
       "      <td>Оренбургская обл</td>\n",
       "      <td>Приволжский</td>\n",
       "      <td>20663</td>\n",
       "    </tr>\n",
       "    <tr>\n",
       "      <th>3</th>\n",
       "      <td>Абинск</td>\n",
       "      <td>Краснодарский край</td>\n",
       "      <td>Южный</td>\n",
       "      <td>34926</td>\n",
       "    </tr>\n",
       "    <tr>\n",
       "      <th>4</th>\n",
       "      <td>Агидель</td>\n",
       "      <td>Башкортостан</td>\n",
       "      <td>Приволжский</td>\n",
       "      <td>16365</td>\n",
       "    </tr>\n",
       "  </tbody>\n",
       "</table>\n",
       "</div>"
      ],
      "text/plain": [
       "       city              region federal_district  population\n",
       "0     Абаза             Хакасия        Сибирский       17111\n",
       "1    Абакан             Хакасия        Сибирский      165183\n",
       "2  Абдулино    Оренбургская обл      Приволжский       20663\n",
       "3    Абинск  Краснодарский край            Южный       34926\n",
       "4   Агидель        Башкортостан      Приволжский       16365"
      ]
     },
     "execution_count": 4,
     "metadata": {},
     "output_type": "execute_result"
    }
   ],
   "source": [
    "cities.head()"
   ]
  },
  {
   "cell_type": "code",
   "execution_count": 3,
   "id": "ec24eb99",
   "metadata": {},
   "outputs": [],
   "source": [
    "df = pd.read_csv('C:/Rabota/IT/test_tasks/frame_2.csv')"
   ]
  },
  {
   "cell_type": "code",
   "execution_count": 4,
   "id": "c2e5cce2",
   "metadata": {},
   "outputs": [
    {
     "data": {
      "text/html": [
       "<div>\n",
       "<style scoped>\n",
       "    .dataframe tbody tr th:only-of-type {\n",
       "        vertical-align: middle;\n",
       "    }\n",
       "\n",
       "    .dataframe tbody tr th {\n",
       "        vertical-align: top;\n",
       "    }\n",
       "\n",
       "    .dataframe thead th {\n",
       "        text-align: right;\n",
       "    }\n",
       "</style>\n",
       "<table border=\"1\" class=\"dataframe\">\n",
       "  <thead>\n",
       "    <tr style=\"text-align: right;\">\n",
       "      <th></th>\n",
       "      <th>Id</th>\n",
       "      <th>Город</th>\n",
       "      <th>Пол</th>\n",
       "      <th>Дата рождения</th>\n",
       "      <th>Дата отправки</th>\n",
       "      <th>Статус отправки</th>\n",
       "      <th>Название_письма</th>\n",
       "    </tr>\n",
       "  </thead>\n",
       "  <tbody>\n",
       "    <tr>\n",
       "      <th>0</th>\n",
       "      <td>2</td>\n",
       "      <td>Мытищи</td>\n",
       "      <td>мужской</td>\n",
       "      <td>1964-02-24</td>\n",
       "      <td>2020-11-19 00:46:09</td>\n",
       "      <td>Открыто</td>\n",
       "      <td>Еженедельный Аналитический Дайджест</td>\n",
       "    </tr>\n",
       "    <tr>\n",
       "      <th>1</th>\n",
       "      <td>2</td>\n",
       "      <td>Мытищи</td>\n",
       "      <td>мужской</td>\n",
       "      <td>1964-02-24</td>\n",
       "      <td>2020-11-26 01:58:27</td>\n",
       "      <td>Открыто</td>\n",
       "      <td>Еженедельный Аналитический Дайджест</td>\n",
       "    </tr>\n",
       "    <tr>\n",
       "      <th>2</th>\n",
       "      <td>2</td>\n",
       "      <td>Мытищи</td>\n",
       "      <td>мужской</td>\n",
       "      <td>1964-02-24</td>\n",
       "      <td>2020-11-27 00:24:05</td>\n",
       "      <td>Отправлено</td>\n",
       "      <td>Еженедельный Аналитический Дайджест</td>\n",
       "    </tr>\n",
       "    <tr>\n",
       "      <th>3</th>\n",
       "      <td>2</td>\n",
       "      <td>Мытищи</td>\n",
       "      <td>мужской</td>\n",
       "      <td>1964-02-24</td>\n",
       "      <td>2020-12-03 02:21:10</td>\n",
       "      <td>Открыто</td>\n",
       "      <td>Еженедельный Аналитический Дайджест</td>\n",
       "    </tr>\n",
       "    <tr>\n",
       "      <th>4</th>\n",
       "      <td>2</td>\n",
       "      <td>Мытищи</td>\n",
       "      <td>мужской</td>\n",
       "      <td>1964-02-24</td>\n",
       "      <td>2020-12-04 00:46:05</td>\n",
       "      <td>Отправлено</td>\n",
       "      <td>Еженедельный Аналитический Дайджест</td>\n",
       "    </tr>\n",
       "  </tbody>\n",
       "</table>\n",
       "</div>"
      ],
      "text/plain": [
       "   Id   Город      Пол Дата рождения        Дата отправки Статус отправки  \\\n",
       "0   2  Мытищи  мужской    1964-02-24  2020-11-19 00:46:09         Открыто   \n",
       "1   2  Мытищи  мужской    1964-02-24  2020-11-26 01:58:27         Открыто   \n",
       "2   2  Мытищи  мужской    1964-02-24  2020-11-27 00:24:05      Отправлено   \n",
       "3   2  Мытищи  мужской    1964-02-24  2020-12-03 02:21:10         Открыто   \n",
       "4   2  Мытищи  мужской    1964-02-24  2020-12-04 00:46:05      Отправлено   \n",
       "\n",
       "                       Название_письма  \n",
       "0  Еженедельный Аналитический Дайджест  \n",
       "1  Еженедельный Аналитический Дайджест  \n",
       "2  Еженедельный Аналитический Дайджест  \n",
       "3  Еженедельный Аналитический Дайджест  \n",
       "4  Еженедельный Аналитический Дайджест  "
      ]
     },
     "execution_count": 4,
     "metadata": {},
     "output_type": "execute_result"
    }
   ],
   "source": [
    "df.head()"
   ]
  },
  {
   "cell_type": "code",
   "execution_count": 5,
   "id": "df786d29",
   "metadata": {},
   "outputs": [],
   "source": [
    "df['dob'] = pd.to_datetime(df['Дата рождения'], format='%Y-%m-%d')\n",
    "df['sent_dt'] = pd.to_datetime(df['Дата отправки'], format='%Y-%m-%d %H:%M:%S')"
   ]
  },
  {
   "cell_type": "code",
   "execution_count": 243,
   "id": "55f2c189",
   "metadata": {},
   "outputs": [
    {
     "name": "stdout",
     "output_type": "stream",
     "text": [
      "\u001b[1mGeneral information\u001b[0m\n",
      "<class 'pandas.core.frame.DataFrame'>\n",
      "Int64Index: 359967 entries, 0 to 360126\n",
      "Data columns (total 15 columns):\n",
      " #   Column       Non-Null Count   Dtype         \n",
      "---  ------       --------------   -----         \n",
      " 0   id           359967 non-null  int64         \n",
      " 1   locality     359967 non-null  object        \n",
      " 2   gender       359967 non-null  object        \n",
      " 3   dob_str      359967 non-null  object        \n",
      " 4   sent_dt_str  359967 non-null  object        \n",
      " 5   sent_status  359967 non-null  object        \n",
      " 6   dob          359967 non-null  datetime64[ns]\n",
      " 7   sent_dt      359967 non-null  datetime64[ns]\n",
      " 8   age          359967 non-null  int64         \n",
      " 9   flag         359967 non-null  int64         \n",
      " 10  hour         359967 non-null  int32         \n",
      " 11  month        359967 non-null  int32         \n",
      " 12  weekday      359967 non-null  int64         \n",
      " 13  weekday2     359967 non-null  object        \n",
      " 14  date         359967 non-null  datetime64[ns]\n",
      "dtypes: datetime64[ns](3), int32(2), int64(4), object(6)\n",
      "memory usage: 41.2+ MB\n"
     ]
    },
    {
     "data": {
      "text/plain": [
       "None"
      ]
     },
     "metadata": {},
     "output_type": "display_data"
    },
    {
     "name": "stdout",
     "output_type": "stream",
     "text": [
      "\n",
      "\n",
      "\n",
      "\u001b[1mColumn stats\u001b[0m\n",
      "\n",
      "\u001b[94mid - dtype: int64\u001b[0m\n"
     ]
    },
    {
     "data": {
      "text/html": [
       "<style type=\"text/css\">\n",
       "#T_48415_row0_col2, #T_48415_row0_col3 {\n",
       "  color: green;\n",
       "}\n",
       "</style>\n",
       "<table id=\"T_48415\">\n",
       "  <thead>\n",
       "    <tr>\n",
       "      <th id=\"T_48415_level0_col0\" class=\"col_heading level0 col0\" >valid</th>\n",
       "      <th id=\"T_48415_level0_col1\" class=\"col_heading level0 col1\" >valid_pct</th>\n",
       "      <th id=\"T_48415_level0_col2\" class=\"col_heading level0 col2\" >missing</th>\n",
       "      <th id=\"T_48415_level0_col3\" class=\"col_heading level0 col3\" >missing_pct</th>\n",
       "      <th id=\"T_48415_level0_col4\" class=\"col_heading level0 col4\" >unique_values</th>\n",
       "      <th id=\"T_48415_level0_col5\" class=\"col_heading level0 col5\" >zeros</th>\n",
       "      <th id=\"T_48415_level0_col6\" class=\"col_heading level0 col6\" >negatives</th>\n",
       "    </tr>\n",
       "  </thead>\n",
       "  <tbody>\n",
       "    <tr>\n",
       "      <td id=\"T_48415_row0_col0\" class=\"data row0 col0\" >359967</td>\n",
       "      <td id=\"T_48415_row0_col1\" class=\"data row0 col1\" >100.00%</td>\n",
       "      <td id=\"T_48415_row0_col2\" class=\"data row0 col2\" >0</td>\n",
       "      <td id=\"T_48415_row0_col3\" class=\"data row0 col3\" >0.00%</td>\n",
       "      <td id=\"T_48415_row0_col4\" class=\"data row0 col4\" >17734</td>\n",
       "      <td id=\"T_48415_row0_col5\" class=\"data row0 col5\" >0</td>\n",
       "      <td id=\"T_48415_row0_col6\" class=\"data row0 col6\" >0</td>\n",
       "    </tr>\n",
       "  </tbody>\n",
       "</table>\n"
      ],
      "text/plain": [
       "<pandas.io.formats.style.Styler at 0x19a04265130>"
      ]
     },
     "metadata": {},
     "output_type": "display_data"
    },
    {
     "data": {
      "image/png": "[encoded data removed]",
      "text/plain": [
       "<Figure size 432x288 with 1 Axes>"
      ]
     },
     "metadata": {},
     "output_type": "display_data"
    },
    {
     "data": {
      "text/html": [
       "<style type=\"text/css\">\n",
       "</style>\n",
       "<table id=\"T_13a38\">\n",
       "  <thead>\n",
       "    <tr>\n",
       "      <th class=\"blank level0\" >&nbsp;</th>\n",
       "      <th id=\"T_13a38_level0_col0\" class=\"col_heading level0 col0\" ></th>\n",
       "    </tr>\n",
       "  </thead>\n",
       "  <tbody>\n",
       "    <tr>\n",
       "      <th id=\"T_13a38_level0_row0\" class=\"row_heading level0 row0\" >mean</th>\n",
       "      <td id=\"T_13a38_row0_col0\" class=\"data row0 col0\" >12329.30</td>\n",
       "    </tr>\n",
       "    <tr>\n",
       "      <th id=\"T_13a38_level0_row1\" class=\"row_heading level0 row1\" >median</th>\n",
       "      <td id=\"T_13a38_row1_col0\" class=\"data row1 col0\" >12315.00</td>\n",
       "    </tr>\n",
       "    <tr>\n",
       "      <th id=\"T_13a38_level0_row2\" class=\"row_heading level0 row2\" >std</th>\n",
       "      <td id=\"T_13a38_row2_col0\" class=\"data row2 col0\" >7113.74</td>\n",
       "    </tr>\n",
       "    <tr>\n",
       "      <th id=\"T_13a38_level0_row3\" class=\"row_heading level0 row3\" >min</th>\n",
       "      <td id=\"T_13a38_row3_col0\" class=\"data row3 col0\" >2.00</td>\n",
       "    </tr>\n",
       "    <tr>\n",
       "      <th id=\"T_13a38_level0_row4\" class=\"row_heading level0 row4\" >max</th>\n",
       "      <td id=\"T_13a38_row4_col0\" class=\"data row4 col0\" >24584.00</td>\n",
       "    </tr>\n",
       "    <tr>\n",
       "      <th id=\"T_13a38_level0_row5\" class=\"row_heading level0 row5\" >1st quantile</th>\n",
       "      <td id=\"T_13a38_row5_col0\" class=\"data row5 col0\" >255.00</td>\n",
       "    </tr>\n",
       "    <tr>\n",
       "      <th id=\"T_13a38_level0_row6\" class=\"row_heading level0 row6\" >99th quantile</th>\n",
       "      <td id=\"T_13a38_row6_col0\" class=\"data row6 col0\" >24331.34</td>\n",
       "    </tr>\n",
       "  </tbody>\n",
       "</table>\n"
      ],
      "text/plain": [
       "<pandas.io.formats.style.Styler at 0x19a07741940>"
      ]
     },
     "metadata": {},
     "output_type": "display_data"
    },
    {
     "name": "stdout",
     "output_type": "stream",
     "text": [
      "\n",
      "\u001b[94mlocality - dtype: object\u001b[0m\n"
     ]
    },
    {
     "data": {
      "text/html": [
       "<style type=\"text/css\">\n",
       "#T_5459f_row0_col2, #T_5459f_row0_col3, #T_5459f_row0_col5 {\n",
       "  color: green;\n",
       "}\n",
       "</style>\n",
       "<table id=\"T_5459f\">\n",
       "  <thead>\n",
       "    <tr>\n",
       "      <th id=\"T_5459f_level0_col0\" class=\"col_heading level0 col0\" >valid</th>\n",
       "      <th id=\"T_5459f_level0_col1\" class=\"col_heading level0 col1\" >valid_pct</th>\n",
       "      <th id=\"T_5459f_level0_col2\" class=\"col_heading level0 col2\" >missing</th>\n",
       "      <th id=\"T_5459f_level0_col3\" class=\"col_heading level0 col3\" >missing_pct</th>\n",
       "      <th id=\"T_5459f_level0_col4\" class=\"col_heading level0 col4\" >unique_values</th>\n",
       "      <th id=\"T_5459f_level0_col5\" class=\"col_heading level0 col5\" >case_sensitive_dupl</th>\n",
       "    </tr>\n",
       "  </thead>\n",
       "  <tbody>\n",
       "    <tr>\n",
       "      <td id=\"T_5459f_row0_col0\" class=\"data row0 col0\" >359967</td>\n",
       "      <td id=\"T_5459f_row0_col1\" class=\"data row0 col1\" >100.00%</td>\n",
       "      <td id=\"T_5459f_row0_col2\" class=\"data row0 col2\" >0</td>\n",
       "      <td id=\"T_5459f_row0_col3\" class=\"data row0 col3\" >0.00%</td>\n",
       "      <td id=\"T_5459f_row0_col4\" class=\"data row0 col4\" >732</td>\n",
       "      <td id=\"T_5459f_row0_col5\" class=\"data row0 col5\" >0</td>\n",
       "    </tr>\n",
       "  </tbody>\n",
       "</table>\n"
      ],
      "text/plain": [
       "<pandas.io.formats.style.Styler at 0x19a0772d8b0>"
      ]
     },
     "metadata": {},
     "output_type": "display_data"
    },
    {
     "data": {
      "text/html": [
       "<style type=\"text/css\">\n",
       "</style>\n",
       "<table id=\"T_e29d9\">\n",
       "  <thead>\n",
       "    <tr>\n",
       "      <th class=\"blank level0\" >&nbsp;</th>\n",
       "      <th id=\"T_e29d9_level0_col0\" class=\"col_heading level0 col0\" ></th>\n",
       "    </tr>\n",
       "    <tr>\n",
       "      <th class=\"index_name level0\" >Most common</th>\n",
       "      <th class=\"blank col0\" >&nbsp;</th>\n",
       "    </tr>\n",
       "  </thead>\n",
       "  <tbody>\n",
       "    <tr>\n",
       "      <th id=\"T_e29d9_level0_row0\" class=\"row_heading level0 row0\" >Москва</th>\n",
       "      <td id=\"T_e29d9_row0_col0\" class=\"data row0 col0\" >20.5%</td>\n",
       "    </tr>\n",
       "    <tr>\n",
       "      <th id=\"T_e29d9_level0_row1\" class=\"row_heading level0 row1\" >Санкт-Петербург</th>\n",
       "      <td id=\"T_e29d9_row1_col0\" class=\"data row1 col0\" >6.2%</td>\n",
       "    </tr>\n",
       "    <tr>\n",
       "      <th id=\"T_e29d9_level0_row2\" class=\"row_heading level0 row2\" >Уфа</th>\n",
       "      <td id=\"T_e29d9_row2_col0\" class=\"data row2 col0\" >2.3%</td>\n",
       "    </tr>\n",
       "    <tr>\n",
       "      <th id=\"T_e29d9_level0_row3\" class=\"row_heading level0 row3\" >Нижний Новгород</th>\n",
       "      <td id=\"T_e29d9_row3_col0\" class=\"data row3 col0\" >2.3%</td>\n",
       "    </tr>\n",
       "    <tr>\n",
       "      <th id=\"T_e29d9_level0_row4\" class=\"row_heading level0 row4\" >Краснодар</th>\n",
       "      <td id=\"T_e29d9_row4_col0\" class=\"data row4 col0\" >2.3%</td>\n",
       "    </tr>\n",
       "    <tr>\n",
       "      <th id=\"T_e29d9_level0_row5\" class=\"row_heading level0 row5\" >other</th>\n",
       "      <td id=\"T_e29d9_row5_col0\" class=\"data row5 col0\" >66.3%</td>\n",
       "    </tr>\n",
       "  </tbody>\n",
       "</table>\n"
      ],
      "text/plain": [
       "<pandas.io.formats.style.Styler at 0x19a775bca30>"
      ]
     },
     "metadata": {},
     "output_type": "display_data"
    },
    {
     "name": "stdout",
     "output_type": "stream",
     "text": [
      "\n",
      "\u001b[94mgender - dtype: object\u001b[0m\n"
     ]
    },
    {
     "data": {
      "text/html": [
       "<style type=\"text/css\">\n",
       "#T_6007b_row0_col2, #T_6007b_row0_col3, #T_6007b_row0_col5 {\n",
       "  color: green;\n",
       "}\n",
       "</style>\n",
       "<table id=\"T_6007b\">\n",
       "  <thead>\n",
       "    <tr>\n",
       "      <th id=\"T_6007b_level0_col0\" class=\"col_heading level0 col0\" >valid</th>\n",
       "      <th id=\"T_6007b_level0_col1\" class=\"col_heading level0 col1\" >valid_pct</th>\n",
       "      <th id=\"T_6007b_level0_col2\" class=\"col_heading level0 col2\" >missing</th>\n",
       "      <th id=\"T_6007b_level0_col3\" class=\"col_heading level0 col3\" >missing_pct</th>\n",
       "      <th id=\"T_6007b_level0_col4\" class=\"col_heading level0 col4\" >unique_values</th>\n",
       "      <th id=\"T_6007b_level0_col5\" class=\"col_heading level0 col5\" >case_sensitive_dupl</th>\n",
       "    </tr>\n",
       "  </thead>\n",
       "  <tbody>\n",
       "    <tr>\n",
       "      <td id=\"T_6007b_row0_col0\" class=\"data row0 col0\" >359967</td>\n",
       "      <td id=\"T_6007b_row0_col1\" class=\"data row0 col1\" >100.00%</td>\n",
       "      <td id=\"T_6007b_row0_col2\" class=\"data row0 col2\" >0</td>\n",
       "      <td id=\"T_6007b_row0_col3\" class=\"data row0 col3\" >0.00%</td>\n",
       "      <td id=\"T_6007b_row0_col4\" class=\"data row0 col4\" >2</td>\n",
       "      <td id=\"T_6007b_row0_col5\" class=\"data row0 col5\" >0</td>\n",
       "    </tr>\n",
       "  </tbody>\n",
       "</table>\n"
      ],
      "text/plain": [
       "<pandas.io.formats.style.Styler at 0x19a010e2d60>"
      ]
     },
     "metadata": {},
     "output_type": "display_data"
    },
    {
     "data": {
      "text/html": [
       "<style type=\"text/css\">\n",
       "</style>\n",
       "<table id=\"T_e3fda\">\n",
       "  <thead>\n",
       "    <tr>\n",
       "      <th class=\"blank level0\" >&nbsp;</th>\n",
       "      <th id=\"T_e3fda_level0_col0\" class=\"col_heading level0 col0\" ></th>\n",
       "    </tr>\n",
       "    <tr>\n",
       "      <th class=\"index_name level0\" >Most common</th>\n",
       "      <th class=\"blank col0\" >&nbsp;</th>\n",
       "    </tr>\n",
       "  </thead>\n",
       "  <tbody>\n",
       "    <tr>\n",
       "      <th id=\"T_e3fda_level0_row0\" class=\"row_heading level0 row0\" >мужской</th>\n",
       "      <td id=\"T_e3fda_row0_col0\" class=\"data row0 col0\" >75.8%</td>\n",
       "    </tr>\n",
       "    <tr>\n",
       "      <th id=\"T_e3fda_level0_row1\" class=\"row_heading level0 row1\" >женский</th>\n",
       "      <td id=\"T_e3fda_row1_col0\" class=\"data row1 col0\" >24.2%</td>\n",
       "    </tr>\n",
       "  </tbody>\n",
       "</table>\n"
      ],
      "text/plain": [
       "<pandas.io.formats.style.Styler at 0x19a010e2ca0>"
      ]
     },
     "metadata": {},
     "output_type": "display_data"
    },
    {
     "name": "stdout",
     "output_type": "stream",
     "text": [
      "\n",
      "\u001b[94mdob_str - dtype: object\u001b[0m\n"
     ]
    },
    {
     "data": {
      "text/html": [
       "<style type=\"text/css\">\n",
       "#T_1ebc2_row0_col2, #T_1ebc2_row0_col3, #T_1ebc2_row0_col5 {\n",
       "  color: green;\n",
       "}\n",
       "</style>\n",
       "<table id=\"T_1ebc2\">\n",
       "  <thead>\n",
       "    <tr>\n",
       "      <th id=\"T_1ebc2_level0_col0\" class=\"col_heading level0 col0\" >valid</th>\n",
       "      <th id=\"T_1ebc2_level0_col1\" class=\"col_heading level0 col1\" >valid_pct</th>\n",
       "      <th id=\"T_1ebc2_level0_col2\" class=\"col_heading level0 col2\" >missing</th>\n",
       "      <th id=\"T_1ebc2_level0_col3\" class=\"col_heading level0 col3\" >missing_pct</th>\n",
       "      <th id=\"T_1ebc2_level0_col4\" class=\"col_heading level0 col4\" >unique_values</th>\n",
       "      <th id=\"T_1ebc2_level0_col5\" class=\"col_heading level0 col5\" >case_sensitive_dupl</th>\n",
       "    </tr>\n",
       "  </thead>\n",
       "  <tbody>\n",
       "    <tr>\n",
       "      <td id=\"T_1ebc2_row0_col0\" class=\"data row0 col0\" >359967</td>\n",
       "      <td id=\"T_1ebc2_row0_col1\" class=\"data row0 col1\" >100.00%</td>\n",
       "      <td id=\"T_1ebc2_row0_col2\" class=\"data row0 col2\" >0</td>\n",
       "      <td id=\"T_1ebc2_row0_col3\" class=\"data row0 col3\" >0.00%</td>\n",
       "      <td id=\"T_1ebc2_row0_col4\" class=\"data row0 col4\" >10422</td>\n",
       "      <td id=\"T_1ebc2_row0_col5\" class=\"data row0 col5\" >0</td>\n",
       "    </tr>\n",
       "  </tbody>\n",
       "</table>\n"
      ],
      "text/plain": [
       "<pandas.io.formats.style.Styler at 0x19a010f2910>"
      ]
     },
     "metadata": {},
     "output_type": "display_data"
    },
    {
     "data": {
      "text/html": [
       "<style type=\"text/css\">\n",
       "</style>\n",
       "<table id=\"T_c83f7\">\n",
       "  <thead>\n",
       "    <tr>\n",
       "      <th class=\"blank level0\" >&nbsp;</th>\n",
       "      <th id=\"T_c83f7_level0_col0\" class=\"col_heading level0 col0\" ></th>\n",
       "    </tr>\n",
       "    <tr>\n",
       "      <th class=\"index_name level0\" >Most common</th>\n",
       "      <th class=\"blank col0\" >&nbsp;</th>\n",
       "    </tr>\n",
       "  </thead>\n",
       "  <tbody>\n",
       "    <tr>\n",
       "      <th id=\"T_c83f7_level0_row0\" class=\"row_heading level0 row0\" >1985-01-01</th>\n",
       "      <td id=\"T_c83f7_row0_col0\" class=\"data row0 col0\" >0.1%</td>\n",
       "    </tr>\n",
       "    <tr>\n",
       "      <th id=\"T_c83f7_level0_row1\" class=\"row_heading level0 row1\" >1984-10-23</th>\n",
       "      <td id=\"T_c83f7_row1_col0\" class=\"data row1 col0\" >0.1%</td>\n",
       "    </tr>\n",
       "    <tr>\n",
       "      <th id=\"T_c83f7_level0_row2\" class=\"row_heading level0 row2\" >1986-06-25</th>\n",
       "      <td id=\"T_c83f7_row2_col0\" class=\"data row2 col0\" >0.0%</td>\n",
       "    </tr>\n",
       "    <tr>\n",
       "      <th id=\"T_c83f7_level0_row3\" class=\"row_heading level0 row3\" >1977-05-23</th>\n",
       "      <td id=\"T_c83f7_row3_col0\" class=\"data row3 col0\" >0.0%</td>\n",
       "    </tr>\n",
       "    <tr>\n",
       "      <th id=\"T_c83f7_level0_row4\" class=\"row_heading level0 row4\" >1982-05-17</th>\n",
       "      <td id=\"T_c83f7_row4_col0\" class=\"data row4 col0\" >0.0%</td>\n",
       "    </tr>\n",
       "    <tr>\n",
       "      <th id=\"T_c83f7_level0_row5\" class=\"row_heading level0 row5\" >other</th>\n",
       "      <td id=\"T_c83f7_row5_col0\" class=\"data row5 col0\" >99.7%</td>\n",
       "    </tr>\n",
       "  </tbody>\n",
       "</table>\n"
      ],
      "text/plain": [
       "<pandas.io.formats.style.Styler at 0x19a07745bb0>"
      ]
     },
     "metadata": {},
     "output_type": "display_data"
    },
    {
     "name": "stdout",
     "output_type": "stream",
     "text": [
      "\n",
      "\u001b[94msent_dt_str - dtype: object\u001b[0m\n"
     ]
    },
    {
     "data": {
      "text/html": [
       "<style type=\"text/css\">\n",
       "#T_942ab_row0_col2, #T_942ab_row0_col3, #T_942ab_row0_col5 {\n",
       "  color: green;\n",
       "}\n",
       "</style>\n",
       "<table id=\"T_942ab\">\n",
       "  <thead>\n",
       "    <tr>\n",
       "      <th id=\"T_942ab_level0_col0\" class=\"col_heading level0 col0\" >valid</th>\n",
       "      <th id=\"T_942ab_level0_col1\" class=\"col_heading level0 col1\" >valid_pct</th>\n",
       "      <th id=\"T_942ab_level0_col2\" class=\"col_heading level0 col2\" >missing</th>\n",
       "      <th id=\"T_942ab_level0_col3\" class=\"col_heading level0 col3\" >missing_pct</th>\n",
       "      <th id=\"T_942ab_level0_col4\" class=\"col_heading level0 col4\" >unique_values</th>\n",
       "      <th id=\"T_942ab_level0_col5\" class=\"col_heading level0 col5\" >case_sensitive_dupl</th>\n",
       "    </tr>\n",
       "  </thead>\n",
       "  <tbody>\n",
       "    <tr>\n",
       "      <td id=\"T_942ab_row0_col0\" class=\"data row0 col0\" >359967</td>\n",
       "      <td id=\"T_942ab_row0_col1\" class=\"data row0 col1\" >100.00%</td>\n",
       "      <td id=\"T_942ab_row0_col2\" class=\"data row0 col2\" >0</td>\n",
       "      <td id=\"T_942ab_row0_col3\" class=\"data row0 col3\" >0.00%</td>\n",
       "      <td id=\"T_942ab_row0_col4\" class=\"data row0 col4\" >85120</td>\n",
       "      <td id=\"T_942ab_row0_col5\" class=\"data row0 col5\" >0</td>\n",
       "    </tr>\n",
       "  </tbody>\n",
       "</table>\n"
      ],
      "text/plain": [
       "<pandas.io.formats.style.Styler at 0x19a077339a0>"
      ]
     },
     "metadata": {},
     "output_type": "display_data"
    },
    {
     "data": {
      "text/html": [
       "<style type=\"text/css\">\n",
       "</style>\n",
       "<table id=\"T_2014e\">\n",
       "  <thead>\n",
       "    <tr>\n",
       "      <th class=\"blank level0\" >&nbsp;</th>\n",
       "      <th id=\"T_2014e_level0_col0\" class=\"col_heading level0 col0\" ></th>\n",
       "    </tr>\n",
       "    <tr>\n",
       "      <th class=\"index_name level0\" >Most common</th>\n",
       "      <th class=\"blank col0\" >&nbsp;</th>\n",
       "    </tr>\n",
       "  </thead>\n",
       "  <tbody>\n",
       "    <tr>\n",
       "      <th id=\"T_2014e_level0_row0\" class=\"row_heading level0 row0\" >2021-02-27 00:34:58</th>\n",
       "      <td id=\"T_2014e_row0_col0\" class=\"data row0 col0\" >0.0%</td>\n",
       "    </tr>\n",
       "    <tr>\n",
       "      <th id=\"T_2014e_level0_row1\" class=\"row_heading level0 row1\" >2021-03-26 00:32:52</th>\n",
       "      <td id=\"T_2014e_row1_col0\" class=\"data row1 col0\" >0.0%</td>\n",
       "    </tr>\n",
       "    <tr>\n",
       "      <th id=\"T_2014e_level0_row2\" class=\"row_heading level0 row2\" >2021-03-18 23:51:34</th>\n",
       "      <td id=\"T_2014e_row2_col0\" class=\"data row2 col0\" >0.0%</td>\n",
       "    </tr>\n",
       "    <tr>\n",
       "      <th id=\"T_2014e_level0_row3\" class=\"row_heading level0 row3\" >2021-01-29 00:29:17</th>\n",
       "      <td id=\"T_2014e_row3_col0\" class=\"data row3 col0\" >0.0%</td>\n",
       "    </tr>\n",
       "    <tr>\n",
       "      <th id=\"T_2014e_level0_row4\" class=\"row_heading level0 row4\" >2021-04-15 23:57:59</th>\n",
       "      <td id=\"T_2014e_row4_col0\" class=\"data row4 col0\" >0.0%</td>\n",
       "    </tr>\n",
       "    <tr>\n",
       "      <th id=\"T_2014e_level0_row5\" class=\"row_heading level0 row5\" >other</th>\n",
       "      <td id=\"T_2014e_row5_col0\" class=\"data row5 col0\" >100.0%</td>\n",
       "    </tr>\n",
       "  </tbody>\n",
       "</table>\n"
      ],
      "text/plain": [
       "<pandas.io.formats.style.Styler at 0x19a7762cd90>"
      ]
     },
     "metadata": {},
     "output_type": "display_data"
    },
    {
     "name": "stdout",
     "output_type": "stream",
     "text": [
      "\n",
      "\u001b[94msent_status - dtype: object\u001b[0m\n"
     ]
    },
    {
     "data": {
      "text/html": [
       "<style type=\"text/css\">\n",
       "#T_3e0ff_row0_col2, #T_3e0ff_row0_col3, #T_3e0ff_row0_col5 {\n",
       "  color: green;\n",
       "}\n",
       "</style>\n",
       "<table id=\"T_3e0ff\">\n",
       "  <thead>\n",
       "    <tr>\n",
       "      <th id=\"T_3e0ff_level0_col0\" class=\"col_heading level0 col0\" >valid</th>\n",
       "      <th id=\"T_3e0ff_level0_col1\" class=\"col_heading level0 col1\" >valid_pct</th>\n",
       "      <th id=\"T_3e0ff_level0_col2\" class=\"col_heading level0 col2\" >missing</th>\n",
       "      <th id=\"T_3e0ff_level0_col3\" class=\"col_heading level0 col3\" >missing_pct</th>\n",
       "      <th id=\"T_3e0ff_level0_col4\" class=\"col_heading level0 col4\" >unique_values</th>\n",
       "      <th id=\"T_3e0ff_level0_col5\" class=\"col_heading level0 col5\" >case_sensitive_dupl</th>\n",
       "    </tr>\n",
       "  </thead>\n",
       "  <tbody>\n",
       "    <tr>\n",
       "      <td id=\"T_3e0ff_row0_col0\" class=\"data row0 col0\" >359967</td>\n",
       "      <td id=\"T_3e0ff_row0_col1\" class=\"data row0 col1\" >100.00%</td>\n",
       "      <td id=\"T_3e0ff_row0_col2\" class=\"data row0 col2\" >0</td>\n",
       "      <td id=\"T_3e0ff_row0_col3\" class=\"data row0 col3\" >0.00%</td>\n",
       "      <td id=\"T_3e0ff_row0_col4\" class=\"data row0 col4\" >4</td>\n",
       "      <td id=\"T_3e0ff_row0_col5\" class=\"data row0 col5\" >0</td>\n",
       "    </tr>\n",
       "  </tbody>\n",
       "</table>\n"
      ],
      "text/plain": [
       "<pandas.io.formats.style.Styler at 0x19a775c5a00>"
      ]
     },
     "metadata": {},
     "output_type": "display_data"
    },
    {
     "data": {
      "text/html": [
       "<style type=\"text/css\">\n",
       "</style>\n",
       "<table id=\"T_ce265\">\n",
       "  <thead>\n",
       "    <tr>\n",
       "      <th class=\"blank level0\" >&nbsp;</th>\n",
       "      <th id=\"T_ce265_level0_col0\" class=\"col_heading level0 col0\" ></th>\n",
       "    </tr>\n",
       "    <tr>\n",
       "      <th class=\"index_name level0\" >Most common</th>\n",
       "      <th class=\"blank col0\" >&nbsp;</th>\n",
       "    </tr>\n",
       "  </thead>\n",
       "  <tbody>\n",
       "    <tr>\n",
       "      <th id=\"T_ce265_level0_row0\" class=\"row_heading level0 row0\" >Отправлено</th>\n",
       "      <td id=\"T_ce265_row0_col0\" class=\"data row0 col0\" >73.6%</td>\n",
       "    </tr>\n",
       "    <tr>\n",
       "      <th id=\"T_ce265_level0_row1\" class=\"row_heading level0 row1\" >Открыто</th>\n",
       "      <td id=\"T_ce265_row1_col0\" class=\"data row1 col0\" >24.3%</td>\n",
       "    </tr>\n",
       "    <tr>\n",
       "      <th id=\"T_ce265_level0_row2\" class=\"row_heading level0 row2\" >Переход по ссылке</th>\n",
       "      <td id=\"T_ce265_row2_col0\" class=\"data row2 col0\" >1.9%</td>\n",
       "    </tr>\n",
       "    <tr>\n",
       "      <th id=\"T_ce265_level0_row3\" class=\"row_heading level0 row3\" >Не отправлено</th>\n",
       "      <td id=\"T_ce265_row3_col0\" class=\"data row3 col0\" >0.2%</td>\n",
       "    </tr>\n",
       "  </tbody>\n",
       "</table>\n"
      ],
      "text/plain": [
       "<pandas.io.formats.style.Styler at 0x19a010e2a90>"
      ]
     },
     "metadata": {},
     "output_type": "display_data"
    },
    {
     "name": "stdout",
     "output_type": "stream",
     "text": [
      "\n",
      "\u001b[94mdob - dtype: datetime64[ns]\u001b[0m\n"
     ]
    },
    {
     "data": {
      "text/html": [
       "<style type=\"text/css\">\n",
       "#T_57485_row0_col2, #T_57485_row0_col3 {\n",
       "  color: green;\n",
       "}\n",
       "</style>\n",
       "<table id=\"T_57485\">\n",
       "  <thead>\n",
       "    <tr>\n",
       "      <th id=\"T_57485_level0_col0\" class=\"col_heading level0 col0\" >valid</th>\n",
       "      <th id=\"T_57485_level0_col1\" class=\"col_heading level0 col1\" >valid_pct</th>\n",
       "      <th id=\"T_57485_level0_col2\" class=\"col_heading level0 col2\" >missing</th>\n",
       "      <th id=\"T_57485_level0_col3\" class=\"col_heading level0 col3\" >missing_pct</th>\n",
       "      <th id=\"T_57485_level0_col4\" class=\"col_heading level0 col4\" >unique_values</th>\n",
       "    </tr>\n",
       "  </thead>\n",
       "  <tbody>\n",
       "    <tr>\n",
       "      <td id=\"T_57485_row0_col0\" class=\"data row0 col0\" >359967</td>\n",
       "      <td id=\"T_57485_row0_col1\" class=\"data row0 col1\" >100.00%</td>\n",
       "      <td id=\"T_57485_row0_col2\" class=\"data row0 col2\" >0</td>\n",
       "      <td id=\"T_57485_row0_col3\" class=\"data row0 col3\" >0.00%</td>\n",
       "      <td id=\"T_57485_row0_col4\" class=\"data row0 col4\" >10422</td>\n",
       "    </tr>\n",
       "  </tbody>\n",
       "</table>\n"
      ],
      "text/plain": [
       "<pandas.io.formats.style.Styler at 0x19a775c5a00>"
      ]
     },
     "metadata": {},
     "output_type": "display_data"
    },
    {
     "data": {
      "image/png": "[encoded data removed]",
      "text/plain": [
       "<Figure size 432x288 with 1 Axes>"
      ]
     },
     "metadata": {},
     "output_type": "display_data"
    },
    {
     "data": {
      "text/html": [
       "<div>\n",
       "<style scoped>\n",
       "    .dataframe tbody tr th:only-of-type {\n",
       "        vertical-align: middle;\n",
       "    }\n",
       "\n",
       "    .dataframe tbody tr th {\n",
       "        vertical-align: top;\n",
       "    }\n",
       "\n",
       "    .dataframe thead th {\n",
       "        text-align: right;\n",
       "    }\n",
       "</style>\n",
       "<table border=\"1\" class=\"dataframe\">\n",
       "  <thead>\n",
       "    <tr style=\"text-align: right;\">\n",
       "      <th></th>\n",
       "      <th></th>\n",
       "    </tr>\n",
       "  </thead>\n",
       "  <tbody>\n",
       "    <tr>\n",
       "      <th>min</th>\n",
       "      <td>1899-12-31 00:00:00.000000000</td>\n",
       "    </tr>\n",
       "    <tr>\n",
       "      <th>max</th>\n",
       "      <td>2007-03-29 00:00:00.000000000</td>\n",
       "    </tr>\n",
       "    <tr>\n",
       "      <th>mean</th>\n",
       "      <td>1977-04-30 12:18:33.102034368</td>\n",
       "    </tr>\n",
       "  </tbody>\n",
       "</table>\n",
       "</div>"
      ],
      "text/plain": [
       "                                  \n",
       "min  1899-12-31 00:00:00.000000000\n",
       "max  2007-03-29 00:00:00.000000000\n",
       "mean 1977-04-30 12:18:33.102034368"
      ]
     },
     "metadata": {},
     "output_type": "display_data"
    },
    {
     "name": "stdout",
     "output_type": "stream",
     "text": [
      "\n",
      "\u001b[94msent_dt - dtype: datetime64[ns]\u001b[0m\n"
     ]
    },
    {
     "data": {
      "text/html": [
       "<style type=\"text/css\">\n",
       "#T_ea8cd_row0_col2, #T_ea8cd_row0_col3 {\n",
       "  color: green;\n",
       "}\n",
       "</style>\n",
       "<table id=\"T_ea8cd\">\n",
       "  <thead>\n",
       "    <tr>\n",
       "      <th id=\"T_ea8cd_level0_col0\" class=\"col_heading level0 col0\" >valid</th>\n",
       "      <th id=\"T_ea8cd_level0_col1\" class=\"col_heading level0 col1\" >valid_pct</th>\n",
       "      <th id=\"T_ea8cd_level0_col2\" class=\"col_heading level0 col2\" >missing</th>\n",
       "      <th id=\"T_ea8cd_level0_col3\" class=\"col_heading level0 col3\" >missing_pct</th>\n",
       "      <th id=\"T_ea8cd_level0_col4\" class=\"col_heading level0 col4\" >unique_values</th>\n",
       "    </tr>\n",
       "  </thead>\n",
       "  <tbody>\n",
       "    <tr>\n",
       "      <td id=\"T_ea8cd_row0_col0\" class=\"data row0 col0\" >359967</td>\n",
       "      <td id=\"T_ea8cd_row0_col1\" class=\"data row0 col1\" >100.00%</td>\n",
       "      <td id=\"T_ea8cd_row0_col2\" class=\"data row0 col2\" >0</td>\n",
       "      <td id=\"T_ea8cd_row0_col3\" class=\"data row0 col3\" >0.00%</td>\n",
       "      <td id=\"T_ea8cd_row0_col4\" class=\"data row0 col4\" >85120</td>\n",
       "    </tr>\n",
       "  </tbody>\n",
       "</table>\n"
      ],
      "text/plain": [
       "<pandas.io.formats.style.Styler at 0x19a7ca7d1c0>"
      ]
     },
     "metadata": {},
     "output_type": "display_data"
    },
    {
     "data": {
      "image/png": "[encoded data removed]",
      "text/plain": [
       "<Figure size 432x288 with 1 Axes>"
      ]
     },
     "metadata": {},
     "output_type": "display_data"
    },
    {
     "data": {
      "text/html": [
       "<div>\n",
       "<style scoped>\n",
       "    .dataframe tbody tr th:only-of-type {\n",
       "        vertical-align: middle;\n",
       "    }\n",
       "\n",
       "    .dataframe tbody tr th {\n",
       "        vertical-align: top;\n",
       "    }\n",
       "\n",
       "    .dataframe thead th {\n",
       "        text-align: right;\n",
       "    }\n",
       "</style>\n",
       "<table border=\"1\" class=\"dataframe\">\n",
       "  <thead>\n",
       "    <tr style=\"text-align: right;\">\n",
       "      <th></th>\n",
       "      <th></th>\n",
       "    </tr>\n",
       "  </thead>\n",
       "  <tbody>\n",
       "    <tr>\n",
       "      <th>min</th>\n",
       "      <td>2020-11-19 00:10:37.000000000</td>\n",
       "    </tr>\n",
       "    <tr>\n",
       "      <th>max</th>\n",
       "      <td>2021-05-31 23:18:22.000000000</td>\n",
       "    </tr>\n",
       "    <tr>\n",
       "      <th>mean</th>\n",
       "      <td>2021-03-03 03:33:39.536912896</td>\n",
       "    </tr>\n",
       "  </tbody>\n",
       "</table>\n",
       "</div>"
      ],
      "text/plain": [
       "                                  \n",
       "min  2020-11-19 00:10:37.000000000\n",
       "max  2021-05-31 23:18:22.000000000\n",
       "mean 2021-03-03 03:33:39.536912896"
      ]
     },
     "metadata": {},
     "output_type": "display_data"
    },
    {
     "name": "stdout",
     "output_type": "stream",
     "text": [
      "\n",
      "\u001b[94mage - dtype: int64\u001b[0m\n"
     ]
    },
    {
     "data": {
      "text/html": [
       "<style type=\"text/css\">\n",
       "#T_21053_row0_col2, #T_21053_row0_col3 {\n",
       "  color: green;\n",
       "}\n",
       "</style>\n",
       "<table id=\"T_21053\">\n",
       "  <thead>\n",
       "    <tr>\n",
       "      <th id=\"T_21053_level0_col0\" class=\"col_heading level0 col0\" >valid</th>\n",
       "      <th id=\"T_21053_level0_col1\" class=\"col_heading level0 col1\" >valid_pct</th>\n",
       "      <th id=\"T_21053_level0_col2\" class=\"col_heading level0 col2\" >missing</th>\n",
       "      <th id=\"T_21053_level0_col3\" class=\"col_heading level0 col3\" >missing_pct</th>\n",
       "      <th id=\"T_21053_level0_col4\" class=\"col_heading level0 col4\" >unique_values</th>\n",
       "      <th id=\"T_21053_level0_col5\" class=\"col_heading level0 col5\" >zeros</th>\n",
       "      <th id=\"T_21053_level0_col6\" class=\"col_heading level0 col6\" >negatives</th>\n",
       "    </tr>\n",
       "  </thead>\n",
       "  <tbody>\n",
       "    <tr>\n",
       "      <td id=\"T_21053_row0_col0\" class=\"data row0 col0\" >359967</td>\n",
       "      <td id=\"T_21053_row0_col1\" class=\"data row0 col1\" >100.00%</td>\n",
       "      <td id=\"T_21053_row0_col2\" class=\"data row0 col2\" >0</td>\n",
       "      <td id=\"T_21053_row0_col3\" class=\"data row0 col3\" >0.00%</td>\n",
       "      <td id=\"T_21053_row0_col4\" class=\"data row0 col4\" >76</td>\n",
       "      <td id=\"T_21053_row0_col5\" class=\"data row0 col5\" >0</td>\n",
       "      <td id=\"T_21053_row0_col6\" class=\"data row0 col6\" >0</td>\n",
       "    </tr>\n",
       "  </tbody>\n",
       "</table>\n"
      ],
      "text/plain": [
       "<pandas.io.formats.style.Styler at 0x19a7ca818b0>"
      ]
     },
     "metadata": {},
     "output_type": "display_data"
    },
    {
     "data": {
      "image/png": "[encoded data removed]",
      "text/plain": [
       "<Figure size 432x288 with 1 Axes>"
      ]
     },
     "metadata": {},
     "output_type": "display_data"
    },
    {
     "data": {
      "text/html": [
       "<style type=\"text/css\">\n",
       "</style>\n",
       "<table id=\"T_8aef2\">\n",
       "  <thead>\n",
       "    <tr>\n",
       "      <th class=\"blank level0\" >&nbsp;</th>\n",
       "      <th id=\"T_8aef2_level0_col0\" class=\"col_heading level0 col0\" ></th>\n",
       "    </tr>\n",
       "  </thead>\n",
       "  <tbody>\n",
       "    <tr>\n",
       "      <th id=\"T_8aef2_level0_row0\" class=\"row_heading level0 row0\" >mean</th>\n",
       "      <td id=\"T_8aef2_row0_col0\" class=\"data row0 col0\" >43.34</td>\n",
       "    </tr>\n",
       "    <tr>\n",
       "      <th id=\"T_8aef2_level0_row1\" class=\"row_heading level0 row1\" >median</th>\n",
       "      <td id=\"T_8aef2_row1_col0\" class=\"data row1 col0\" >42.00</td>\n",
       "    </tr>\n",
       "    <tr>\n",
       "      <th id=\"T_8aef2_level0_row2\" class=\"row_heading level0 row2\" >std</th>\n",
       "      <td id=\"T_8aef2_row2_col0\" class=\"data row2 col0\" >11.18</td>\n",
       "    </tr>\n",
       "    <tr>\n",
       "      <th id=\"T_8aef2_level0_row3\" class=\"row_heading level0 row3\" >min</th>\n",
       "      <td id=\"T_8aef2_row3_col0\" class=\"data row3 col0\" >14.00</td>\n",
       "    </tr>\n",
       "    <tr>\n",
       "      <th id=\"T_8aef2_level0_row4\" class=\"row_heading level0 row4\" >max</th>\n",
       "      <td id=\"T_8aef2_row4_col0\" class=\"data row4 col0\" >121.00</td>\n",
       "    </tr>\n",
       "    <tr>\n",
       "      <th id=\"T_8aef2_level0_row5\" class=\"row_heading level0 row5\" >1st quantile</th>\n",
       "      <td id=\"T_8aef2_row5_col0\" class=\"data row5 col0\" >21.00</td>\n",
       "    </tr>\n",
       "    <tr>\n",
       "      <th id=\"T_8aef2_level0_row6\" class=\"row_heading level0 row6\" >99th quantile</th>\n",
       "      <td id=\"T_8aef2_row6_col0\" class=\"data row6 col0\" >72.00</td>\n",
       "    </tr>\n",
       "  </tbody>\n",
       "</table>\n"
      ],
      "text/plain": [
       "<pandas.io.formats.style.Styler at 0x19a07741dc0>"
      ]
     },
     "metadata": {},
     "output_type": "display_data"
    },
    {
     "name": "stdout",
     "output_type": "stream",
     "text": [
      "\n",
      "\u001b[94mflag - dtype: int64\u001b[0m\n"
     ]
    },
    {
     "data": {
      "text/html": [
       "<style type=\"text/css\">\n",
       "#T_f21db_row0_col2, #T_f21db_row0_col3 {\n",
       "  color: green;\n",
       "}\n",
       "</style>\n",
       "<table id=\"T_f21db\">\n",
       "  <thead>\n",
       "    <tr>\n",
       "      <th id=\"T_f21db_level0_col0\" class=\"col_heading level0 col0\" >valid</th>\n",
       "      <th id=\"T_f21db_level0_col1\" class=\"col_heading level0 col1\" >valid_pct</th>\n",
       "      <th id=\"T_f21db_level0_col2\" class=\"col_heading level0 col2\" >missing</th>\n",
       "      <th id=\"T_f21db_level0_col3\" class=\"col_heading level0 col3\" >missing_pct</th>\n",
       "      <th id=\"T_f21db_level0_col4\" class=\"col_heading level0 col4\" >unique_values</th>\n",
       "      <th id=\"T_f21db_level0_col5\" class=\"col_heading level0 col5\" >zeros</th>\n",
       "      <th id=\"T_f21db_level0_col6\" class=\"col_heading level0 col6\" >negatives</th>\n",
       "    </tr>\n",
       "  </thead>\n",
       "  <tbody>\n",
       "    <tr>\n",
       "      <td id=\"T_f21db_row0_col0\" class=\"data row0 col0\" >359967</td>\n",
       "      <td id=\"T_f21db_row0_col1\" class=\"data row0 col1\" >100.00%</td>\n",
       "      <td id=\"T_f21db_row0_col2\" class=\"data row0 col2\" >0</td>\n",
       "      <td id=\"T_f21db_row0_col3\" class=\"data row0 col3\" >0.00%</td>\n",
       "      <td id=\"T_f21db_row0_col4\" class=\"data row0 col4\" >2</td>\n",
       "      <td id=\"T_f21db_row0_col5\" class=\"data row0 col5\" >265626</td>\n",
       "      <td id=\"T_f21db_row0_col6\" class=\"data row0 col6\" >0</td>\n",
       "    </tr>\n",
       "  </tbody>\n",
       "</table>\n"
      ],
      "text/plain": [
       "<pandas.io.formats.style.Styler at 0x19a0500eb80>"
      ]
     },
     "metadata": {},
     "output_type": "display_data"
    },
    {
     "data": {
      "image/png": "[encoded data removed]",
      "text/plain": [
       "<Figure size 432x288 with 1 Axes>"
      ]
     },
     "metadata": {},
     "output_type": "display_data"
    },
    {
     "data": {
      "text/html": [
       "<style type=\"text/css\">\n",
       "</style>\n",
       "<table id=\"T_be4f5\">\n",
       "  <thead>\n",
       "    <tr>\n",
       "      <th class=\"blank level0\" >&nbsp;</th>\n",
       "      <th id=\"T_be4f5_level0_col0\" class=\"col_heading level0 col0\" ></th>\n",
       "    </tr>\n",
       "  </thead>\n",
       "  <tbody>\n",
       "    <tr>\n",
       "      <th id=\"T_be4f5_level0_row0\" class=\"row_heading level0 row0\" >mean</th>\n",
       "      <td id=\"T_be4f5_row0_col0\" class=\"data row0 col0\" >0.26</td>\n",
       "    </tr>\n",
       "    <tr>\n",
       "      <th id=\"T_be4f5_level0_row1\" class=\"row_heading level0 row1\" >median</th>\n",
       "      <td id=\"T_be4f5_row1_col0\" class=\"data row1 col0\" >0.00</td>\n",
       "    </tr>\n",
       "    <tr>\n",
       "      <th id=\"T_be4f5_level0_row2\" class=\"row_heading level0 row2\" >std</th>\n",
       "      <td id=\"T_be4f5_row2_col0\" class=\"data row2 col0\" >0.44</td>\n",
       "    </tr>\n",
       "    <tr>\n",
       "      <th id=\"T_be4f5_level0_row3\" class=\"row_heading level0 row3\" >min</th>\n",
       "      <td id=\"T_be4f5_row3_col0\" class=\"data row3 col0\" >0.00</td>\n",
       "    </tr>\n",
       "    <tr>\n",
       "      <th id=\"T_be4f5_level0_row4\" class=\"row_heading level0 row4\" >max</th>\n",
       "      <td id=\"T_be4f5_row4_col0\" class=\"data row4 col0\" >1.00</td>\n",
       "    </tr>\n",
       "    <tr>\n",
       "      <th id=\"T_be4f5_level0_row5\" class=\"row_heading level0 row5\" >1st quantile</th>\n",
       "      <td id=\"T_be4f5_row5_col0\" class=\"data row5 col0\" >0.00</td>\n",
       "    </tr>\n",
       "    <tr>\n",
       "      <th id=\"T_be4f5_level0_row6\" class=\"row_heading level0 row6\" >99th quantile</th>\n",
       "      <td id=\"T_be4f5_row6_col0\" class=\"data row6 col0\" >1.00</td>\n",
       "    </tr>\n",
       "  </tbody>\n",
       "</table>\n"
      ],
      "text/plain": [
       "<pandas.io.formats.style.Styler at 0x19a07745460>"
      ]
     },
     "metadata": {},
     "output_type": "display_data"
    },
    {
     "name": "stdout",
     "output_type": "stream",
     "text": [
      "\n",
      "\u001b[94mhour\u001b[0m\n",
      "check format\n",
      "\u001b[94mmonth\u001b[0m\n",
      "check format\n",
      "\u001b[94mweekday - dtype: int64\u001b[0m\n"
     ]
    },
    {
     "data": {
      "text/html": [
       "<style type=\"text/css\">\n",
       "#T_aff61_row0_col2, #T_aff61_row0_col3 {\n",
       "  color: green;\n",
       "}\n",
       "</style>\n",
       "<table id=\"T_aff61\">\n",
       "  <thead>\n",
       "    <tr>\n",
       "      <th id=\"T_aff61_level0_col0\" class=\"col_heading level0 col0\" >valid</th>\n",
       "      <th id=\"T_aff61_level0_col1\" class=\"col_heading level0 col1\" >valid_pct</th>\n",
       "      <th id=\"T_aff61_level0_col2\" class=\"col_heading level0 col2\" >missing</th>\n",
       "      <th id=\"T_aff61_level0_col3\" class=\"col_heading level0 col3\" >missing_pct</th>\n",
       "      <th id=\"T_aff61_level0_col4\" class=\"col_heading level0 col4\" >unique_values</th>\n",
       "      <th id=\"T_aff61_level0_col5\" class=\"col_heading level0 col5\" >zeros</th>\n",
       "      <th id=\"T_aff61_level0_col6\" class=\"col_heading level0 col6\" >negatives</th>\n",
       "    </tr>\n",
       "  </thead>\n",
       "  <tbody>\n",
       "    <tr>\n",
       "      <td id=\"T_aff61_row0_col0\" class=\"data row0 col0\" >359967</td>\n",
       "      <td id=\"T_aff61_row0_col1\" class=\"data row0 col1\" >100.00%</td>\n",
       "      <td id=\"T_aff61_row0_col2\" class=\"data row0 col2\" >0</td>\n",
       "      <td id=\"T_aff61_row0_col3\" class=\"data row0 col3\" >0.00%</td>\n",
       "      <td id=\"T_aff61_row0_col4\" class=\"data row0 col4\" >7</td>\n",
       "      <td id=\"T_aff61_row0_col5\" class=\"data row0 col5\" >308</td>\n",
       "      <td id=\"T_aff61_row0_col6\" class=\"data row0 col6\" >0</td>\n",
       "    </tr>\n",
       "  </tbody>\n",
       "</table>\n"
      ],
      "text/plain": [
       "<pandas.io.formats.style.Styler at 0x19a7ca84940>"
      ]
     },
     "metadata": {},
     "output_type": "display_data"
    },
    {
     "data": {
      "image/png": "[encoded data removed]",
      "text/plain": [
       "<Figure size 432x288 with 1 Axes>"
      ]
     },
     "metadata": {},
     "output_type": "display_data"
    },
    {
     "data": {
      "text/html": [
       "<style type=\"text/css\">\n",
       "</style>\n",
       "<table id=\"T_8fbef\">\n",
       "  <thead>\n",
       "    <tr>\n",
       "      <th class=\"blank level0\" >&nbsp;</th>\n",
       "      <th id=\"T_8fbef_level0_col0\" class=\"col_heading level0 col0\" ></th>\n",
       "    </tr>\n",
       "  </thead>\n",
       "  <tbody>\n",
       "    <tr>\n",
       "      <th id=\"T_8fbef_level0_row0\" class=\"row_heading level0 row0\" >mean</th>\n",
       "      <td id=\"T_8fbef_row0_col0\" class=\"data row0 col0\" >3.71</td>\n",
       "    </tr>\n",
       "    <tr>\n",
       "      <th id=\"T_8fbef_level0_row1\" class=\"row_heading level0 row1\" >median</th>\n",
       "      <td id=\"T_8fbef_row1_col0\" class=\"data row1 col0\" >4.00</td>\n",
       "    </tr>\n",
       "    <tr>\n",
       "      <th id=\"T_8fbef_level0_row2\" class=\"row_heading level0 row2\" >std</th>\n",
       "      <td id=\"T_8fbef_row2_col0\" class=\"data row2 col0\" >0.76</td>\n",
       "    </tr>\n",
       "    <tr>\n",
       "      <th id=\"T_8fbef_level0_row3\" class=\"row_heading level0 row3\" >min</th>\n",
       "      <td id=\"T_8fbef_row3_col0\" class=\"data row3 col0\" >0.00</td>\n",
       "    </tr>\n",
       "    <tr>\n",
       "      <th id=\"T_8fbef_level0_row4\" class=\"row_heading level0 row4\" >max</th>\n",
       "      <td id=\"T_8fbef_row4_col0\" class=\"data row4 col0\" >6.00</td>\n",
       "    </tr>\n",
       "    <tr>\n",
       "      <th id=\"T_8fbef_level0_row5\" class=\"row_heading level0 row5\" >1st quantile</th>\n",
       "      <td id=\"T_8fbef_row5_col0\" class=\"data row5 col0\" >2.00</td>\n",
       "    </tr>\n",
       "    <tr>\n",
       "      <th id=\"T_8fbef_level0_row6\" class=\"row_heading level0 row6\" >99th quantile</th>\n",
       "      <td id=\"T_8fbef_row6_col0\" class=\"data row6 col0\" >5.00</td>\n",
       "    </tr>\n",
       "  </tbody>\n",
       "</table>\n"
      ],
      "text/plain": [
       "<pandas.io.formats.style.Styler at 0x19a042659a0>"
      ]
     },
     "metadata": {},
     "output_type": "display_data"
    },
    {
     "name": "stdout",
     "output_type": "stream",
     "text": [
      "\n",
      "\u001b[94mweekday2 - dtype: object\u001b[0m\n"
     ]
    },
    {
     "data": {
      "text/html": [
       "<style type=\"text/css\">\n",
       "#T_02bd6_row0_col2, #T_02bd6_row0_col3, #T_02bd6_row0_col5 {\n",
       "  color: green;\n",
       "}\n",
       "</style>\n",
       "<table id=\"T_02bd6\">\n",
       "  <thead>\n",
       "    <tr>\n",
       "      <th id=\"T_02bd6_level0_col0\" class=\"col_heading level0 col0\" >valid</th>\n",
       "      <th id=\"T_02bd6_level0_col1\" class=\"col_heading level0 col1\" >valid_pct</th>\n",
       "      <th id=\"T_02bd6_level0_col2\" class=\"col_heading level0 col2\" >missing</th>\n",
       "      <th id=\"T_02bd6_level0_col3\" class=\"col_heading level0 col3\" >missing_pct</th>\n",
       "      <th id=\"T_02bd6_level0_col4\" class=\"col_heading level0 col4\" >unique_values</th>\n",
       "      <th id=\"T_02bd6_level0_col5\" class=\"col_heading level0 col5\" >case_sensitive_dupl</th>\n",
       "    </tr>\n",
       "  </thead>\n",
       "  <tbody>\n",
       "    <tr>\n",
       "      <td id=\"T_02bd6_row0_col0\" class=\"data row0 col0\" >359967</td>\n",
       "      <td id=\"T_02bd6_row0_col1\" class=\"data row0 col1\" >100.00%</td>\n",
       "      <td id=\"T_02bd6_row0_col2\" class=\"data row0 col2\" >0</td>\n",
       "      <td id=\"T_02bd6_row0_col3\" class=\"data row0 col3\" >0.00%</td>\n",
       "      <td id=\"T_02bd6_row0_col4\" class=\"data row0 col4\" >7</td>\n",
       "      <td id=\"T_02bd6_row0_col5\" class=\"data row0 col5\" >0</td>\n",
       "    </tr>\n",
       "  </tbody>\n",
       "</table>\n"
      ],
      "text/plain": [
       "<pandas.io.formats.style.Styler at 0x19a0500eb80>"
      ]
     },
     "metadata": {},
     "output_type": "display_data"
    },
    {
     "data": {
      "text/html": [
       "<style type=\"text/css\">\n",
       "</style>\n",
       "<table id=\"T_64a11\">\n",
       "  <thead>\n",
       "    <tr>\n",
       "      <th class=\"blank level0\" >&nbsp;</th>\n",
       "      <th id=\"T_64a11_level0_col0\" class=\"col_heading level0 col0\" ></th>\n",
       "    </tr>\n",
       "    <tr>\n",
       "      <th class=\"index_name level0\" >Most common</th>\n",
       "      <th class=\"blank col0\" >&nbsp;</th>\n",
       "    </tr>\n",
       "  </thead>\n",
       "  <tbody>\n",
       "    <tr>\n",
       "      <th id=\"T_64a11_level0_row0\" class=\"row_heading level0 row0\" >Friday</th>\n",
       "      <td id=\"T_64a11_row0_col0\" class=\"data row0 col0\" >43.4%</td>\n",
       "    </tr>\n",
       "    <tr>\n",
       "      <th id=\"T_64a11_level0_row1\" class=\"row_heading level0 row1\" >Thursday</th>\n",
       "      <td id=\"T_64a11_row1_col0\" class=\"data row1 col0\" >39.0%</td>\n",
       "    </tr>\n",
       "    <tr>\n",
       "      <th id=\"T_64a11_level0_row2\" class=\"row_heading level0 row2\" >Saturday</th>\n",
       "      <td id=\"T_64a11_row2_col0\" class=\"data row2 col0\" >15.0%</td>\n",
       "    </tr>\n",
       "    <tr>\n",
       "      <th id=\"T_64a11_level0_row3\" class=\"row_heading level0 row3\" >Wednesday</th>\n",
       "      <td id=\"T_64a11_row3_col0\" class=\"data row3 col0\" >2.4%</td>\n",
       "    </tr>\n",
       "    <tr>\n",
       "      <th id=\"T_64a11_level0_row4\" class=\"row_heading level0 row4\" >Sunday</th>\n",
       "      <td id=\"T_64a11_row4_col0\" class=\"data row4 col0\" >0.1%</td>\n",
       "    </tr>\n",
       "    <tr>\n",
       "      <th id=\"T_64a11_level0_row5\" class=\"row_heading level0 row5\" >other</th>\n",
       "      <td id=\"T_64a11_row5_col0\" class=\"data row5 col0\" >0.2%</td>\n",
       "    </tr>\n",
       "  </tbody>\n",
       "</table>\n"
      ],
      "text/plain": [
       "<pandas.io.formats.style.Styler at 0x19a7c9b0400>"
      ]
     },
     "metadata": {},
     "output_type": "display_data"
    },
    {
     "name": "stdout",
     "output_type": "stream",
     "text": [
      "\n",
      "\u001b[94mdate - dtype: datetime64[ns]\u001b[0m\n"
     ]
    },
    {
     "data": {
      "text/html": [
       "<style type=\"text/css\">\n",
       "#T_e483f_row0_col2, #T_e483f_row0_col3 {\n",
       "  color: green;\n",
       "}\n",
       "</style>\n",
       "<table id=\"T_e483f\">\n",
       "  <thead>\n",
       "    <tr>\n",
       "      <th id=\"T_e483f_level0_col0\" class=\"col_heading level0 col0\" >valid</th>\n",
       "      <th id=\"T_e483f_level0_col1\" class=\"col_heading level0 col1\" >valid_pct</th>\n",
       "      <th id=\"T_e483f_level0_col2\" class=\"col_heading level0 col2\" >missing</th>\n",
       "      <th id=\"T_e483f_level0_col3\" class=\"col_heading level0 col3\" >missing_pct</th>\n",
       "      <th id=\"T_e483f_level0_col4\" class=\"col_heading level0 col4\" >unique_values</th>\n",
       "    </tr>\n",
       "  </thead>\n",
       "  <tbody>\n",
       "    <tr>\n",
       "      <td id=\"T_e483f_row0_col0\" class=\"data row0 col0\" >359967</td>\n",
       "      <td id=\"T_e483f_row0_col1\" class=\"data row0 col1\" >100.00%</td>\n",
       "      <td id=\"T_e483f_row0_col2\" class=\"data row0 col2\" >0</td>\n",
       "      <td id=\"T_e483f_row0_col3\" class=\"data row0 col3\" >0.00%</td>\n",
       "      <td id=\"T_e483f_row0_col4\" class=\"data row0 col4\" >123</td>\n",
       "    </tr>\n",
       "  </tbody>\n",
       "</table>\n"
      ],
      "text/plain": [
       "<pandas.io.formats.style.Styler at 0x19a05abf070>"
      ]
     },
     "metadata": {},
     "output_type": "display_data"
    },
    {
     "data": {
      "image/png": "[encoded data removed]",
      "text/plain": [
       "<Figure size 432x288 with 1 Axes>"
      ]
     },
     "metadata": {},
     "output_type": "display_data"
    },
    {
     "data": {
      "text/html": [
       "<div>\n",
       "<style scoped>\n",
       "    .dataframe tbody tr th:only-of-type {\n",
       "        vertical-align: middle;\n",
       "    }\n",
       "\n",
       "    .dataframe tbody tr th {\n",
       "        vertical-align: top;\n",
       "    }\n",
       "\n",
       "    .dataframe thead th {\n",
       "        text-align: right;\n",
       "    }\n",
       "</style>\n",
       "<table border=\"1\" class=\"dataframe\">\n",
       "  <thead>\n",
       "    <tr style=\"text-align: right;\">\n",
       "      <th></th>\n",
       "      <th></th>\n",
       "    </tr>\n",
       "  </thead>\n",
       "  <tbody>\n",
       "    <tr>\n",
       "      <th>min</th>\n",
       "      <td>2020-01-03 00:12:00.000000000</td>\n",
       "    </tr>\n",
       "    <tr>\n",
       "      <th>max</th>\n",
       "      <td>2021-01-31 00:05:00.000000000</td>\n",
       "    </tr>\n",
       "    <tr>\n",
       "      <th>mean</th>\n",
       "      <td>2020-11-03 20:08:21.796998144</td>\n",
       "    </tr>\n",
       "  </tbody>\n",
       "</table>\n",
       "</div>"
      ],
      "text/plain": [
       "                                  \n",
       "min  2020-01-03 00:12:00.000000000\n",
       "max  2021-01-31 00:05:00.000000000\n",
       "mean 2020-11-03 20:08:21.796998144"
      ]
     },
     "metadata": {},
     "output_type": "display_data"
    },
    {
     "name": "stdout",
     "output_type": "stream",
     "text": [
      "\n",
      "\u001b[94mEDA brief\u001b[0m\n",
      "\n",
      "Rows in dataset: 359967\n",
      "Columns in dataset: 15\n",
      "Number of columns with missing values: 0\n",
      "Columns with missing values:  []\n",
      "\n",
      "\u001b[1mDuplicates in dataset: \u001b[0m\n"
     ]
    },
    {
     "data": {
      "text/html": [
       "<style type=\"text/css\">\n",
       "#T_73fbb_row0_col0, #T_73fbb_row0_col1, #T_73fbb_row0_col2, #T_73fbb_row0_col3 {\n",
       "  color: green;\n",
       "}\n",
       "#T_73fbb_row0_col4, #T_73fbb_row0_col5 {\n",
       "  color: red;\n",
       "}\n",
       "</style>\n",
       "<table id=\"T_73fbb\">\n",
       "  <thead>\n",
       "    <tr>\n",
       "      <th class=\"blank level0\" >&nbsp;</th>\n",
       "      <th id=\"T_73fbb_level0_col0\" class=\"col_heading level0 col0\" >duples_cnt</th>\n",
       "      <th id=\"T_73fbb_level0_col1\" class=\"col_heading level0 col1\" >duples_pct</th>\n",
       "      <th id=\"T_73fbb_level0_col2\" class=\"col_heading level0 col2\" >case_sensitive_duples</th>\n",
       "      <th id=\"T_73fbb_level0_col3\" class=\"col_heading level0 col3\" >case_sensitive_pct</th>\n",
       "      <th id=\"T_73fbb_level0_col4\" class=\"col_heading level0 col4\" >id_duples</th>\n",
       "      <th id=\"T_73fbb_level0_col5\" class=\"col_heading level0 col5\" >id_duples_pct</th>\n",
       "    </tr>\n",
       "  </thead>\n",
       "  <tbody>\n",
       "    <tr>\n",
       "      <th id=\"T_73fbb_level0_row0\" class=\"row_heading level0 row0\" >0</th>\n",
       "      <td id=\"T_73fbb_row0_col0\" class=\"data row0 col0\" >0</td>\n",
       "      <td id=\"T_73fbb_row0_col1\" class=\"data row0 col1\" >0.00%</td>\n",
       "      <td id=\"T_73fbb_row0_col2\" class=\"data row0 col2\" >0</td>\n",
       "      <td id=\"T_73fbb_row0_col3\" class=\"data row0 col3\" >0.00%</td>\n",
       "      <td id=\"T_73fbb_row0_col4\" class=\"data row0 col4\" >342233</td>\n",
       "      <td id=\"T_73fbb_row0_col5\" class=\"data row0 col5\" >95.07%</td>\n",
       "    </tr>\n",
       "  </tbody>\n",
       "</table>\n"
      ],
      "text/plain": [
       "<pandas.io.formats.style.Styler at 0x19a775bc0d0>"
      ]
     },
     "metadata": {},
     "output_type": "display_data"
    }
   ],
   "source": [
    "df_eda(df)"
   ]
  },
  {
   "cell_type": "code",
   "execution_count": 8,
   "id": "01593b17",
   "metadata": {},
   "outputs": [
    {
     "data": {
      "text/plain": [
       "Index(['Id', 'Город', 'Пол', 'Дата рождения', 'Дата отправки',\n",
       "       'Статус отправки', 'Название_письма', 'dob', 'sent_dt'],\n",
       "      dtype='object')"
      ]
     },
     "execution_count": 8,
     "metadata": {},
     "output_type": "execute_result"
    }
   ],
   "source": [
    "df.columns"
   ]
  },
  {
   "cell_type": "code",
   "execution_count": 6,
   "id": "288efa8e",
   "metadata": {},
   "outputs": [],
   "source": [
    "df.columns = ['id', 'locality', 'gender', 'dob_str', 'sent_dt_str', 'sent_status', 'letter_name', 'dob',\n",
    "       'sent_dt']"
   ]
  },
  {
   "cell_type": "code",
   "execution_count": 7,
   "id": "684bdb79",
   "metadata": {},
   "outputs": [],
   "source": [
    "df = df.drop_duplicates()"
   ]
  },
  {
   "cell_type": "code",
   "execution_count": 8,
   "id": "3a35e964",
   "metadata": {},
   "outputs": [
    {
     "name": "stdout",
     "output_type": "stream",
     "text": [
      "<class 'pandas.core.frame.DataFrame'>\n",
      "Int64Index: 360118 entries, 0 to 360126\n",
      "Data columns (total 9 columns):\n",
      " #   Column       Non-Null Count   Dtype         \n",
      "---  ------       --------------   -----         \n",
      " 0   id           360118 non-null  int64         \n",
      " 1   locality     360118 non-null  object        \n",
      " 2   gender       360118 non-null  object        \n",
      " 3   dob_str      359998 non-null  object        \n",
      " 4   sent_dt_str  360118 non-null  object        \n",
      " 5   sent_status  360087 non-null  object        \n",
      " 6   letter_name  360118 non-null  object        \n",
      " 7   dob          359998 non-null  datetime64[ns]\n",
      " 8   sent_dt      360118 non-null  datetime64[ns]\n",
      "dtypes: datetime64[ns](2), int64(1), object(6)\n",
      "memory usage: 27.5+ MB\n"
     ]
    }
   ],
   "source": [
    "df.info()"
   ]
  },
  {
   "cell_type": "code",
   "execution_count": 11,
   "id": "914f3b3f",
   "metadata": {},
   "outputs": [],
   "source": [
    "df.dropna(subset=['sent_status', 'dob'], inplace=True)"
   ]
  },
  {
   "cell_type": "code",
   "execution_count": 12,
   "id": "fe0768b9",
   "metadata": {},
   "outputs": [],
   "source": [
    "def age_in_years(row):\n",
    "    rd = relativedelta.relativedelta(row['sent_dt'], row['dob'])\n",
    "    return rd.years"
   ]
  },
  {
   "cell_type": "code",
   "execution_count": 13,
   "id": "091c2764",
   "metadata": {},
   "outputs": [],
   "source": [
    "df['age'] = df.apply(age_in_years, axis=1)"
   ]
  },
  {
   "cell_type": "code",
   "execution_count": 14,
   "id": "49ceb376",
   "metadata": {},
   "outputs": [],
   "source": [
    "df['flag'] = [1 if x == 'Открыто' or x == 'Переход по ссылке' else 0 for x in df.sent_status]"
   ]
  },
  {
   "cell_type": "code",
   "execution_count": 15,
   "id": "3b8f95f9",
   "metadata": {},
   "outputs": [],
   "source": [
    "df['locality'] = df['locality'].replace('крым', 'Крым')"
   ]
  },
  {
   "cell_type": "code",
   "execution_count": 16,
   "id": "8625d881",
   "metadata": {},
   "outputs": [],
   "source": [
    "readers_list = df.groupby('id')['flag'].agg(['count', 'mean']).query('mean > 0').index"
   ]
  },
  {
   "cell_type": "code",
   "execution_count": 19,
   "id": "e8bbb721",
   "metadata": {},
   "outputs": [],
   "source": [
    "readers = df.query('id in @readers_list').copy()"
   ]
  },
  {
   "cell_type": "code",
   "execution_count": 19,
   "id": "68c2db6e",
   "metadata": {},
   "outputs": [
    {
     "data": {
      "text/plain": [
       "Index(['id', 'locality', 'gender', 'dob_str', 'sent_dt_str', 'sent_status',\n",
       "       'letter_name', 'dob', 'sent_dt', 'age', 'flag'],\n",
       "      dtype='object')"
      ]
     },
     "execution_count": 19,
     "metadata": {},
     "output_type": "execute_result"
    }
   ],
   "source": [
    "readers.columns"
   ]
  },
  {
   "cell_type": "code",
   "execution_count": 21,
   "id": "a8e6fde3",
   "metadata": {},
   "outputs": [],
   "source": [
    "readers = readers.drop(['dob_str', 'sent_dt_str', 'letter_name'], axis=1)"
   ]
  },
  {
   "cell_type": "code",
   "execution_count": 20,
   "id": "fe4f8919",
   "metadata": {},
   "outputs": [],
   "source": [
    "readers['city'] = readers['locality'].str.split(',').str[0]"
   ]
  },
  {
   "cell_type": "code",
   "execution_count": 22,
   "id": "2ee32c49",
   "metadata": {},
   "outputs": [],
   "source": [
    "readers = readers.merge(cities, how='left', on='city')"
   ]
  },
  {
   "cell_type": "code",
   "execution_count": 23,
   "id": "13f972cc",
   "metadata": {},
   "outputs": [],
   "source": [
    "readers['age_groups'] = pd.cut(readers['age'], bins=[0, 30, 40, 50, 60, float('inf')], \n",
    "           labels=['До 30', 'От 31 до 40', 'От 41 до 50', 'От 51 до 60', 'После 61'])"
   ]
  },
  {
   "cell_type": "code",
   "execution_count": 24,
   "id": "2fbe7f92",
   "metadata": {},
   "outputs": [
    {
     "data": {
      "text/plain": [
       "age_groups\n",
       "До 30          1406\n",
       "От 31 до 40    4431\n",
       "От 41 до 50    4133\n",
       "От 51 до 60    2213\n",
       "После 61       1079\n",
       "Name: id, dtype: int64"
      ]
     },
     "execution_count": 24,
     "metadata": {},
     "output_type": "execute_result"
    }
   ],
   "source": [
    "readers.groupby('age_groups')['id'].agg('nunique')"
   ]
  },
  {
   "cell_type": "code",
   "execution_count": 25,
   "id": "2631eb7e",
   "metadata": {},
   "outputs": [],
   "source": [
    "readers['population_groups'] = (\n",
    "    pd.cut(readers['population'], \\\n",
    "           bins=[0, 50000, 100000, 250000, 1000000, float('inf')], \\\n",
    "           labels=['малый город', 'средний город', 'большой город', 'крупный город', 'миллионник'])\n",
    ")"
   ]
  },
  {
   "cell_type": "code",
   "execution_count": 26,
   "id": "0dcfb513",
   "metadata": {},
   "outputs": [],
   "source": [
    "readers = readers.replace('женский', 'женщины')\n",
    "readers = readers.replace('мужской', 'мужчины')"
   ]
  },
  {
   "cell_type": "code",
   "execution_count": 27,
   "id": "b721eb49",
   "metadata": {},
   "outputs": [
    {
     "data": {
      "text/html": [
       "<div>\n",
       "<style scoped>\n",
       "    .dataframe tbody tr th:only-of-type {\n",
       "        vertical-align: middle;\n",
       "    }\n",
       "\n",
       "    .dataframe tbody tr th {\n",
       "        vertical-align: top;\n",
       "    }\n",
       "\n",
       "    .dataframe thead th {\n",
       "        text-align: right;\n",
       "    }\n",
       "</style>\n",
       "<table border=\"1\" class=\"dataframe\">\n",
       "  <thead>\n",
       "    <tr style=\"text-align: right;\">\n",
       "      <th></th>\n",
       "      <th>id</th>\n",
       "      <th>locality</th>\n",
       "      <th>gender</th>\n",
       "      <th>sent_status</th>\n",
       "      <th>dob</th>\n",
       "      <th>sent_dt</th>\n",
       "      <th>age</th>\n",
       "      <th>flag</th>\n",
       "      <th>city</th>\n",
       "      <th>region</th>\n",
       "      <th>federal_district</th>\n",
       "      <th>population</th>\n",
       "      <th>age_groups</th>\n",
       "      <th>population_groups</th>\n",
       "    </tr>\n",
       "  </thead>\n",
       "  <tbody>\n",
       "    <tr>\n",
       "      <th>0</th>\n",
       "      <td>2</td>\n",
       "      <td>Мытищи</td>\n",
       "      <td>мужчины</td>\n",
       "      <td>Открыто</td>\n",
       "      <td>1964-02-24</td>\n",
       "      <td>2020-11-19 00:46:09</td>\n",
       "      <td>56</td>\n",
       "      <td>1</td>\n",
       "      <td>Мытищи</td>\n",
       "      <td>Московская обл</td>\n",
       "      <td>Центральный</td>\n",
       "      <td>173341.0</td>\n",
       "      <td>От 51 до 60</td>\n",
       "      <td>большой город</td>\n",
       "    </tr>\n",
       "    <tr>\n",
       "      <th>1</th>\n",
       "      <td>2</td>\n",
       "      <td>Мытищи</td>\n",
       "      <td>мужчины</td>\n",
       "      <td>Открыто</td>\n",
       "      <td>1964-02-24</td>\n",
       "      <td>2020-11-26 01:58:27</td>\n",
       "      <td>56</td>\n",
       "      <td>1</td>\n",
       "      <td>Мытищи</td>\n",
       "      <td>Московская обл</td>\n",
       "      <td>Центральный</td>\n",
       "      <td>173341.0</td>\n",
       "      <td>От 51 до 60</td>\n",
       "      <td>большой город</td>\n",
       "    </tr>\n",
       "    <tr>\n",
       "      <th>2</th>\n",
       "      <td>2</td>\n",
       "      <td>Мытищи</td>\n",
       "      <td>мужчины</td>\n",
       "      <td>Отправлено</td>\n",
       "      <td>1964-02-24</td>\n",
       "      <td>2020-11-27 00:24:05</td>\n",
       "      <td>56</td>\n",
       "      <td>0</td>\n",
       "      <td>Мытищи</td>\n",
       "      <td>Московская обл</td>\n",
       "      <td>Центральный</td>\n",
       "      <td>173341.0</td>\n",
       "      <td>От 51 до 60</td>\n",
       "      <td>большой город</td>\n",
       "    </tr>\n",
       "    <tr>\n",
       "      <th>3</th>\n",
       "      <td>2</td>\n",
       "      <td>Мытищи</td>\n",
       "      <td>мужчины</td>\n",
       "      <td>Открыто</td>\n",
       "      <td>1964-02-24</td>\n",
       "      <td>2020-12-03 02:21:10</td>\n",
       "      <td>56</td>\n",
       "      <td>1</td>\n",
       "      <td>Мытищи</td>\n",
       "      <td>Московская обл</td>\n",
       "      <td>Центральный</td>\n",
       "      <td>173341.0</td>\n",
       "      <td>От 51 до 60</td>\n",
       "      <td>большой город</td>\n",
       "    </tr>\n",
       "    <tr>\n",
       "      <th>4</th>\n",
       "      <td>2</td>\n",
       "      <td>Мытищи</td>\n",
       "      <td>мужчины</td>\n",
       "      <td>Отправлено</td>\n",
       "      <td>1964-02-24</td>\n",
       "      <td>2020-12-04 00:46:05</td>\n",
       "      <td>56</td>\n",
       "      <td>0</td>\n",
       "      <td>Мытищи</td>\n",
       "      <td>Московская обл</td>\n",
       "      <td>Центральный</td>\n",
       "      <td>173341.0</td>\n",
       "      <td>От 51 до 60</td>\n",
       "      <td>большой город</td>\n",
       "    </tr>\n",
       "  </tbody>\n",
       "</table>\n",
       "</div>"
      ],
      "text/plain": [
       "   id locality   gender sent_status        dob             sent_dt  age  flag  \\\n",
       "0   2   Мытищи  мужчины     Открыто 1964-02-24 2020-11-19 00:46:09   56     1   \n",
       "1   2   Мытищи  мужчины     Открыто 1964-02-24 2020-11-26 01:58:27   56     1   \n",
       "2   2   Мытищи  мужчины  Отправлено 1964-02-24 2020-11-27 00:24:05   56     0   \n",
       "3   2   Мытищи  мужчины     Открыто 1964-02-24 2020-12-03 02:21:10   56     1   \n",
       "4   2   Мытищи  мужчины  Отправлено 1964-02-24 2020-12-04 00:46:05   56     0   \n",
       "\n",
       "     city          region federal_district  population   age_groups  \\\n",
       "0  Мытищи  Московская обл      Центральный    173341.0  От 51 до 60   \n",
       "1  Мытищи  Московская обл      Центральный    173341.0  От 51 до 60   \n",
       "2  Мытищи  Московская обл      Центральный    173341.0  От 51 до 60   \n",
       "3  Мытищи  Московская обл      Центральный    173341.0  От 51 до 60   \n",
       "4  Мытищи  Московская обл      Центральный    173341.0  От 51 до 60   \n",
       "\n",
       "  population_groups  \n",
       "0     большой город  \n",
       "1     большой город  \n",
       "2     большой город  \n",
       "3     большой город  \n",
       "4     большой город  "
      ]
     },
     "execution_count": 27,
     "metadata": {},
     "output_type": "execute_result"
    }
   ],
   "source": [
    "readers.head()"
   ]
  },
  {
   "cell_type": "code",
   "execution_count": 36,
   "id": "57533b60",
   "metadata": {},
   "outputs": [],
   "source": [
    "readers_grouped = readers.groupby(['federal_district', 'region', 'population_groups', 'age_groups', 'gender'])['id'].agg('nunique').reset_index()"
   ]
  },
  {
   "cell_type": "code",
   "execution_count": 28,
   "id": "06b0e06c",
   "metadata": {},
   "outputs": [],
   "source": [
    "colors= ['#14D21E', '#14871E', '#AAAAAA', '#00B4D2', '#2D82A5','#FFBE1E', '#FFEB50', '#9B5028']\n",
    "# '#0F4B0F'"
   ]
  },
  {
   "cell_type": "code",
   "execution_count": 62,
   "id": "79418da7",
   "metadata": {},
   "outputs": [],
   "source": [
    "genders = (\n",
    "    readers.groupby('gender')\n",
    "    .agg({'id':'nunique', 'flag':'mean'})\n",
    "    .sort_values(by='flag', ascending=False)\n",
    "    .reset_index()\n",
    ")"
   ]
  },
  {
   "cell_type": "code",
   "execution_count": 63,
   "id": "a420ce62",
   "metadata": {},
   "outputs": [
    {
     "data": {
      "text/html": [
       "<div>\n",
       "<style scoped>\n",
       "    .dataframe tbody tr th:only-of-type {\n",
       "        vertical-align: middle;\n",
       "    }\n",
       "\n",
       "    .dataframe tbody tr th {\n",
       "        vertical-align: top;\n",
       "    }\n",
       "\n",
       "    .dataframe thead th {\n",
       "        text-align: right;\n",
       "    }\n",
       "</style>\n",
       "<table border=\"1\" class=\"dataframe\">\n",
       "  <thead>\n",
       "    <tr style=\"text-align: right;\">\n",
       "      <th></th>\n",
       "      <th>gender</th>\n",
       "      <th>id</th>\n",
       "      <th>flag</th>\n",
       "    </tr>\n",
       "  </thead>\n",
       "  <tbody>\n",
       "    <tr>\n",
       "      <th>0</th>\n",
       "      <td>мужчины</td>\n",
       "      <td>9406</td>\n",
       "      <td>0.325725</td>\n",
       "    </tr>\n",
       "    <tr>\n",
       "      <th>1</th>\n",
       "      <td>женщины</td>\n",
       "      <td>3342</td>\n",
       "      <td>0.294471</td>\n",
       "    </tr>\n",
       "  </tbody>\n",
       "</table>\n",
       "</div>"
      ],
      "text/plain": [
       "    gender    id      flag\n",
       "0  мужчины  9406  0.325725\n",
       "1  женщины  3342  0.294471"
      ]
     },
     "execution_count": 63,
     "metadata": {},
     "output_type": "execute_result"
    }
   ],
   "source": [
    "genders"
   ]
  },
  {
   "cell_type": "code",
   "execution_count": 232,
   "id": "0a914f46",
   "metadata": {},
   "outputs": [
    {
     "data": {
      "image/png": "[encoded data removed]",
      "text/plain": [
       "<Figure size 576x432 with 1 Axes>"
      ]
     },
     "metadata": {},
     "output_type": "display_data"
    }
   ],
   "source": [
    "fig, ax = plt.subplots(figsize=(8,6))\n",
    "labels = genders.gender\n",
    "explode = (0.01, 0.01)\n",
    "clrs=[colors[0], colors[5]]\n",
    "genders.plot(kind='pie',\n",
    "               x='gender',\n",
    "               y='id',\n",
    "               autopct='%1.0f%%',\n",
    "               wedgeprops=dict(width=.4), \n",
    "               textprops={'size': 'large'},\n",
    "               pctdistance=0.8, \n",
    "               labeldistance=1.1,\n",
    "               colors=clrs, \n",
    "               labels=labels,\n",
    "               explode=explode,\n",
    "               legend=False,\n",
    "               fontsize=13, \n",
    "               ax=ax).set(ylabel='')\n",
    "# plt.legend(labels=labels, fontsize=12, loc='upper right', bbox_to_anchor=(1.1, 0.95))\n",
    "plt.title('Распределение читающих рассылки по половому признаку', fontweight='bold', fontsize=13)\n",
    "plt.show();"
   ]
  },
  {
   "cell_type": "code",
   "execution_count": 58,
   "id": "1bda758e",
   "metadata": {},
   "outputs": [],
   "source": [
    "sns.set_style(\"whitegrid\", {'axes.grid' : False})"
   ]
  },
  {
   "cell_type": "code",
   "execution_count": 237,
   "id": "c9e8cf87",
   "metadata": {},
   "outputs": [
    {
     "data": {
      "image/png": "[encoded data removed]",
      "text/plain": [
       "<Figure size 504x216 with 1 Axes>"
      ]
     },
     "metadata": {},
     "output_type": "display_data"
    }
   ],
   "source": [
    "cols = [colors[0] if x == 'мужчины' else colors[5] for x in genders.gender]\n",
    "ax, fig = plt.subplots(figsize=(7,3))\n",
    "ax = sns.barplot(x=genders['flag']*100, y=genders['gender'], palette=cols)\n",
    "ax.bar_label(ax.containers[0], fmt='%.1f%%', fontsize=13)\n",
    "plt.title('Open rate рассылок среди мужчин и женщин', fontweight='bold', fontsize=13,)\n",
    "plt.xlabel('open rate, %')\n",
    "plt.ylabel('', fontsize=13)\n",
    "plt.yticks(fontsize=13)\n",
    "plt.xlim(0,40)\n",
    "plt.show();"
   ]
  },
  {
   "cell_type": "code",
   "execution_count": 242,
   "id": "672e9d1c",
   "metadata": {},
   "outputs": [
    {
     "data": {
      "image/png": "[encoded data removed]",
      "text/plain": [
       "<Figure size 432x288 with 1 Axes>"
      ]
     },
     "metadata": {},
     "output_type": "display_data"
    }
   ],
   "source": [
    "cols = [colors[0] if x == 'мужчины' else colors[5] for x in genders.gender]\n",
    "ax, fig = plt.subplots(figsize=(6,4))\n",
    "ax = sns.barplot(y=genders['flag']*100, x=genders['gender'], palette=cols)\n",
    "ax.bar_label(ax.containers[0], fmt='%.1f%%', fontsize=13)\n",
    "plt.title('Open rate рассылок среди мужчин и женщин', fontweight='bold', fontsize=13)\n",
    "plt.ylabel('open rate, %')\n",
    "plt.xlabel('', fontsize=13)\n",
    "plt.ylim(0,35)\n",
    "plt.show();"
   ]
  },
  {
   "cell_type": "code",
   "execution_count": 97,
   "id": "1c638c5b",
   "metadata": {},
   "outputs": [],
   "source": [
    "ages = (\n",
    "    readers.groupby('age_groups')\n",
    "    .agg({'id':'nunique', 'flag':'mean'})\n",
    "    .sort_values(by='flag')\n",
    "    .reset_index()\n",
    ")"
   ]
  },
  {
   "cell_type": "code",
   "execution_count": 98,
   "id": "55d6bb28",
   "metadata": {},
   "outputs": [
    {
     "data": {
      "text/html": [
       "<div>\n",
       "<style scoped>\n",
       "    .dataframe tbody tr th:only-of-type {\n",
       "        vertical-align: middle;\n",
       "    }\n",
       "\n",
       "    .dataframe tbody tr th {\n",
       "        vertical-align: top;\n",
       "    }\n",
       "\n",
       "    .dataframe thead th {\n",
       "        text-align: right;\n",
       "    }\n",
       "</style>\n",
       "<table border=\"1\" class=\"dataframe\">\n",
       "  <thead>\n",
       "    <tr style=\"text-align: right;\">\n",
       "      <th></th>\n",
       "      <th>age_groups</th>\n",
       "      <th>id</th>\n",
       "      <th>flag</th>\n",
       "    </tr>\n",
       "  </thead>\n",
       "  <tbody>\n",
       "    <tr>\n",
       "      <th>0</th>\n",
       "      <td>До 30</td>\n",
       "      <td>1406</td>\n",
       "      <td>0.264604</td>\n",
       "    </tr>\n",
       "    <tr>\n",
       "      <th>1</th>\n",
       "      <td>От 31 до 40</td>\n",
       "      <td>4431</td>\n",
       "      <td>0.292851</td>\n",
       "    </tr>\n",
       "    <tr>\n",
       "      <th>2</th>\n",
       "      <td>От 41 до 50</td>\n",
       "      <td>4133</td>\n",
       "      <td>0.319174</td>\n",
       "    </tr>\n",
       "    <tr>\n",
       "      <th>3</th>\n",
       "      <td>От 51 до 60</td>\n",
       "      <td>2213</td>\n",
       "      <td>0.368276</td>\n",
       "    </tr>\n",
       "    <tr>\n",
       "      <th>4</th>\n",
       "      <td>После 61</td>\n",
       "      <td>1079</td>\n",
       "      <td>0.369552</td>\n",
       "    </tr>\n",
       "  </tbody>\n",
       "</table>\n",
       "</div>"
      ],
      "text/plain": [
       "    age_groups    id      flag\n",
       "0        До 30  1406  0.264604\n",
       "1  От 31 до 40  4431  0.292851\n",
       "2  От 41 до 50  4133  0.319174\n",
       "3  От 51 до 60  2213  0.368276\n",
       "4     После 61  1079  0.369552"
      ]
     },
     "execution_count": 98,
     "metadata": {},
     "output_type": "execute_result"
    }
   ],
   "source": [
    "ages"
   ]
  },
  {
   "cell_type": "code",
   "execution_count": 238,
   "id": "156432f0",
   "metadata": {},
   "outputs": [
    {
     "data": {
      "image/png": "[encoded data removed]",
      "text/plain": [
       "<Figure size 576x432 with 1 Axes>"
      ]
     },
     "metadata": {},
     "output_type": "display_data"
    }
   ],
   "source": [
    "fig, ax = plt.subplots(figsize=(8,6))\n",
    "labels = ages.age_groups\n",
    "explode = (0.01, 0.01, 0.01, 0.01, 0.01)\n",
    "ages.plot(kind='pie',\n",
    "               x='age_groups', y='id',\n",
    "               autopct='%1.0f%%',\n",
    "               wedgeprops=dict(width=.4), \n",
    "               textprops={'size': 'medium'},\n",
    "               pctdistance=0.8, \n",
    "               labeldistance=1.1,\n",
    "               colors=colors[3:], fontsize=13,\n",
    "               explode=explode, labels=labels,          \n",
    "               legend=False,                \n",
    "               ax=ax).set(ylabel='')\n",
    "plt.title('Распределение читающих рассылки по возрасту', fontweight='bold', fontsize=13)\n",
    "plt.show();"
   ]
  },
  {
   "cell_type": "code",
   "execution_count": 245,
   "id": "0af158a8",
   "metadata": {},
   "outputs": [
    {
     "data": {
      "image/png": "[encoded data removed]",
      "text/plain": [
       "<Figure size 504x288 with 1 Axes>"
      ]
     },
     "metadata": {},
     "output_type": "display_data"
    }
   ],
   "source": [
    "ax, fig = plt.subplots(figsize=(7,4))\n",
    "ax = sns.barplot(x=ages['flag']*100, y=ages['age_groups'], palette=colors[3:])\n",
    "ax.bar_label(ax.containers[0], fmt='%.1f%%', fontsize=13)\n",
    "plt.title('Open rate рассылок среди возрастных групп', fontsize=13, fontweight='bold')\n",
    "plt.xlabel('open rate, %')\n",
    "plt.ylabel('')\n",
    "plt.yticks(fontsize=13)\n",
    "plt.xlim(0,45)\n",
    "plt.show();"
   ]
  },
  {
   "cell_type": "code",
   "execution_count": 111,
   "id": "7ec410e4",
   "metadata": {},
   "outputs": [],
   "source": [
    "population = (\n",
    "    readers.groupby('population_groups')\n",
    "    .agg({'id':'nunique', 'flag':'mean'})\n",
    "    .sort_values(by='flag', ascending=False)\n",
    "    .reset_index()\n",
    ")"
   ]
  },
  {
   "cell_type": "code",
   "execution_count": 231,
   "id": "c063f51c",
   "metadata": {},
   "outputs": [
    {
     "data": {
      "image/png": "[encoded data removed]",
      "text/plain": [
       "<Figure size 576x432 with 1 Axes>"
      ]
     },
     "metadata": {},
     "output_type": "display_data"
    }
   ],
   "source": [
    "fig, ax = plt.subplots(figsize=(8,6))\n",
    "labels = population.population_groups\n",
    "explode = (0.01, 0.01, 0.01, 0.01, 0.01)\n",
    "population.plot(kind='pie',\n",
    "               x='population_groups', y='id',\n",
    "               autopct='%1.0f%%',\n",
    "               wedgeprops=dict(width=.4), \n",
    "               textprops={'size': 'medium'},\n",
    "               pctdistance=0.8, \n",
    "               labeldistance=1.1,\n",
    "               colors=colors[1:], \n",
    "               explode=explode, labels=labels,          \n",
    "               legend=False, fontsize=13,               \n",
    "               ax=ax).set(ylabel='')\n",
    "plt.title('Распределение читающих рассылки по размеру городов', fontweight='bold', fontsize=13)\n",
    "plt.show();"
   ]
  },
  {
   "cell_type": "code",
   "execution_count": 116,
   "id": "348378fa",
   "metadata": {},
   "outputs": [
    {
     "data": {
      "text/plain": [
       "['большой город', 'крупный город', 'средний город', 'миллионник', 'малый город']\n",
       "Categories (5, object): ['малый город' < 'средний город' < 'большой город' < 'крупный город' < 'миллионник']"
      ]
     },
     "execution_count": 116,
     "metadata": {},
     "output_type": "execute_result"
    }
   ],
   "source": [
    "population.population_groups.values"
   ]
  },
  {
   "cell_type": "code",
   "execution_count": 246,
   "id": "c48faf2d",
   "metadata": {},
   "outputs": [
    {
     "data": {
      "image/png": "[encoded data removed]",
      "text/plain": [
       "<Figure size 504x288 with 1 Axes>"
      ]
     },
     "metadata": {},
     "output_type": "display_data"
    }
   ],
   "source": [
    "order=['большой город', 'крупный город', 'средний город', 'миллионник', 'малый город']\n",
    "ax, fig = plt.subplots(figsize=(7,4))\n",
    "ax = sns.barplot(x=population['flag']*100, y=population['population_groups'], palette=colors[1:], order=order)\n",
    "ax.bar_label(ax.containers[0], fmt='%.1f%%', fontsize=13)\n",
    "plt.title('Open rate рассылок в зависимости от размера городов', fontsize=13, fontweight='bold')\n",
    "plt.xlabel('open rate, %')\n",
    "plt.ylabel('')\n",
    "plt.yticks(fontsize=13)\n",
    "plt.xlim(0,45)\n",
    "plt.show();"
   ]
  },
  {
   "cell_type": "code",
   "execution_count": 240,
   "id": "64b87159",
   "metadata": {},
   "outputs": [
    {
     "data": {
      "image/png": "[encoded data removed]",
      "text/plain": [
       "<Figure size 576x432 with 1 Axes>"
      ]
     },
     "metadata": {},
     "output_type": "display_data"
    }
   ],
   "source": [
    "fig, ax = plt.subplots(figsize=(8,6))\n",
    "labels = federal.federal_district\n",
    "explode = (0.01, 0.01, 0.01, 0.01, 0.01, 0.01, 0.01, 0.01)\n",
    "federal.plot(kind='pie',\n",
    "               x='federal_district', y='id',\n",
    "               autopct='%1.0f%%',\n",
    "               pctdistance=0.8, \n",
    "               labeldistance=1.1,\n",
    "               wedgeprops=dict(width=.4), \n",
    "               textprops={'size': 'small'}, fontsize=13,\n",
    "               colors=colors[::-1], legend=False,\n",
    "               explode=explode, labels=labels,          \n",
    "               ax=ax).set(ylabel='')\n",
    "plt.title('Распределение читающих рассылки по округам', fontweight='bold', fontsize=13)\n",
    "plt.show();"
   ]
  },
  {
   "cell_type": "code",
   "execution_count": 132,
   "id": "a911727e",
   "metadata": {},
   "outputs": [
    {
     "data": {
      "text/plain": [
       "array(['Северо-Западный', 'Сибирский', 'Уральский', 'Центральный',\n",
       "       'Приволжский', 'Южный', 'Дальневосточный', 'Северо-Кавказский'],\n",
       "      dtype=object)"
      ]
     },
     "execution_count": 132,
     "metadata": {},
     "output_type": "execute_result"
    }
   ],
   "source": [
    "federal.sort_values(by='flag', ascending=False).federal_district.values"
   ]
  },
  {
   "cell_type": "code",
   "execution_count": 250,
   "id": "63cb4455",
   "metadata": {},
   "outputs": [
    {
     "data": {
      "image/png": "[encoded data removed]",
      "text/plain": [
       "<Figure size 432x288 with 1 Axes>"
      ]
     },
     "metadata": {},
     "output_type": "display_data"
    }
   ],
   "source": [
    "order=federal.sort_values(by='flag', ascending=False).federal_district.values\n",
    "clrs = [colors[5], colors[3], colors[2],colors[1],colors[6],colors[0],colors[7],colors[4]]\n",
    "ax, fig = plt.subplots(figsize=(6,4))\n",
    "ax = sns.barplot(x=federal['flag']*100, y=federal['federal_district'], palette=clrs, order=order)\n",
    "ax.bar_label(ax.containers[0], fmt='%.1f%%',fontsize=13)\n",
    "plt.title('Open rate рассылок в зависимости от округа', fontsize=13, fontweight='bold')\n",
    "plt.xlabel('open rate, %')\n",
    "plt.ylabel('')\n",
    "plt.yticks(fontsize=13)\n",
    "plt.xlim(0,40)\n",
    "plt.show();"
   ]
  },
  {
   "cell_type": "code",
   "execution_count": 34,
   "id": "041721ee",
   "metadata": {},
   "outputs": [],
   "source": [
    "localities = readers.groupby('city').agg({'id':'nunique'}).sort_values(by='id',ascending=False).head(10)"
   ]
  },
  {
   "cell_type": "code",
   "execution_count": 30,
   "id": "ccdd7daa",
   "metadata": {},
   "outputs": [],
   "source": [
    "colors2= ['#14D21E', '#14871E', '#AAAAAA', '#00B4D2', '#2D82A5','#FFBE1E', '#FFEB50', '#9B5028', '#0F4B0F', '#A8A8A8']"
   ]
  },
  {
   "cell_type": "code",
   "execution_count": 33,
   "id": "393ce403",
   "metadata": {},
   "outputs": [
    {
     "data": {
      "text/html": [
       "<div>\n",
       "<style scoped>\n",
       "    .dataframe tbody tr th:only-of-type {\n",
       "        vertical-align: middle;\n",
       "    }\n",
       "\n",
       "    .dataframe tbody tr th {\n",
       "        vertical-align: top;\n",
       "    }\n",
       "\n",
       "    .dataframe thead th {\n",
       "        text-align: right;\n",
       "    }\n",
       "</style>\n",
       "<table border=\"1\" class=\"dataframe\">\n",
       "  <thead>\n",
       "    <tr style=\"text-align: right;\">\n",
       "      <th></th>\n",
       "      <th>id</th>\n",
       "      <th>locality</th>\n",
       "      <th>gender</th>\n",
       "      <th>sent_status</th>\n",
       "      <th>dob</th>\n",
       "      <th>sent_dt</th>\n",
       "      <th>age</th>\n",
       "      <th>flag</th>\n",
       "      <th>city</th>\n",
       "      <th>region</th>\n",
       "      <th>federal_district</th>\n",
       "      <th>population</th>\n",
       "      <th>age_groups</th>\n",
       "      <th>population_groups</th>\n",
       "    </tr>\n",
       "  </thead>\n",
       "  <tbody>\n",
       "    <tr>\n",
       "      <th>0</th>\n",
       "      <td>2</td>\n",
       "      <td>Мытищи</td>\n",
       "      <td>мужчины</td>\n",
       "      <td>Открыто</td>\n",
       "      <td>1964-02-24</td>\n",
       "      <td>2020-11-19 00:46:09</td>\n",
       "      <td>56</td>\n",
       "      <td>1</td>\n",
       "      <td>Мытищи</td>\n",
       "      <td>Московская обл</td>\n",
       "      <td>Центральный</td>\n",
       "      <td>173341.0</td>\n",
       "      <td>От 51 до 60</td>\n",
       "      <td>большой город</td>\n",
       "    </tr>\n",
       "    <tr>\n",
       "      <th>1</th>\n",
       "      <td>2</td>\n",
       "      <td>Мытищи</td>\n",
       "      <td>мужчины</td>\n",
       "      <td>Открыто</td>\n",
       "      <td>1964-02-24</td>\n",
       "      <td>2020-11-26 01:58:27</td>\n",
       "      <td>56</td>\n",
       "      <td>1</td>\n",
       "      <td>Мытищи</td>\n",
       "      <td>Московская обл</td>\n",
       "      <td>Центральный</td>\n",
       "      <td>173341.0</td>\n",
       "      <td>От 51 до 60</td>\n",
       "      <td>большой город</td>\n",
       "    </tr>\n",
       "    <tr>\n",
       "      <th>2</th>\n",
       "      <td>2</td>\n",
       "      <td>Мытищи</td>\n",
       "      <td>мужчины</td>\n",
       "      <td>Отправлено</td>\n",
       "      <td>1964-02-24</td>\n",
       "      <td>2020-11-27 00:24:05</td>\n",
       "      <td>56</td>\n",
       "      <td>0</td>\n",
       "      <td>Мытищи</td>\n",
       "      <td>Московская обл</td>\n",
       "      <td>Центральный</td>\n",
       "      <td>173341.0</td>\n",
       "      <td>От 51 до 60</td>\n",
       "      <td>большой город</td>\n",
       "    </tr>\n",
       "    <tr>\n",
       "      <th>3</th>\n",
       "      <td>2</td>\n",
       "      <td>Мытищи</td>\n",
       "      <td>мужчины</td>\n",
       "      <td>Открыто</td>\n",
       "      <td>1964-02-24</td>\n",
       "      <td>2020-12-03 02:21:10</td>\n",
       "      <td>56</td>\n",
       "      <td>1</td>\n",
       "      <td>Мытищи</td>\n",
       "      <td>Московская обл</td>\n",
       "      <td>Центральный</td>\n",
       "      <td>173341.0</td>\n",
       "      <td>От 51 до 60</td>\n",
       "      <td>большой город</td>\n",
       "    </tr>\n",
       "    <tr>\n",
       "      <th>4</th>\n",
       "      <td>2</td>\n",
       "      <td>Мытищи</td>\n",
       "      <td>мужчины</td>\n",
       "      <td>Отправлено</td>\n",
       "      <td>1964-02-24</td>\n",
       "      <td>2020-12-04 00:46:05</td>\n",
       "      <td>56</td>\n",
       "      <td>0</td>\n",
       "      <td>Мытищи</td>\n",
       "      <td>Московская обл</td>\n",
       "      <td>Центральный</td>\n",
       "      <td>173341.0</td>\n",
       "      <td>От 51 до 60</td>\n",
       "      <td>большой город</td>\n",
       "    </tr>\n",
       "  </tbody>\n",
       "</table>\n",
       "</div>"
      ],
      "text/plain": [
       "   id locality   gender sent_status        dob             sent_dt  age  flag  \\\n",
       "0   2   Мытищи  мужчины     Открыто 1964-02-24 2020-11-19 00:46:09   56     1   \n",
       "1   2   Мытищи  мужчины     Открыто 1964-02-24 2020-11-26 01:58:27   56     1   \n",
       "2   2   Мытищи  мужчины  Отправлено 1964-02-24 2020-11-27 00:24:05   56     0   \n",
       "3   2   Мытищи  мужчины     Открыто 1964-02-24 2020-12-03 02:21:10   56     1   \n",
       "4   2   Мытищи  мужчины  Отправлено 1964-02-24 2020-12-04 00:46:05   56     0   \n",
       "\n",
       "     city          region federal_district  population   age_groups  \\\n",
       "0  Мытищи  Московская обл      Центральный    173341.0  От 51 до 60   \n",
       "1  Мытищи  Московская обл      Центральный    173341.0  От 51 до 60   \n",
       "2  Мытищи  Московская обл      Центральный    173341.0  От 51 до 60   \n",
       "3  Мытищи  Московская обл      Центральный    173341.0  От 51 до 60   \n",
       "4  Мытищи  Московская обл      Центральный    173341.0  От 51 до 60   \n",
       "\n",
       "  population_groups  \n",
       "0     большой город  \n",
       "1     большой город  \n",
       "2     большой город  \n",
       "3     большой город  \n",
       "4     большой город  "
      ]
     },
     "execution_count": 33,
     "metadata": {},
     "output_type": "execute_result"
    }
   ],
   "source": [
    "readers.head()"
   ]
  },
  {
   "cell_type": "code",
   "execution_count": 37,
   "id": "dd41ac45",
   "metadata": {},
   "outputs": [
    {
     "data": {
      "image/png": "[encoded data removed]",
      "text/plain": [
       "<Figure size 468x360 with 1 Axes>"
      ]
     },
     "metadata": {},
     "output_type": "display_data"
    }
   ],
   "source": [
    "ax, fig = plt.subplots(figsize=(6.5,5))\n",
    "ax = (\n",
    "    sns.barplot(x=localities.id, \n",
    "                y=localities.index, \n",
    "                palette=colors2)\n",
    ")\n",
    "ax.bar_label(ax.containers[0], fmt='%.0f', fontsize=13)\n",
    "plt.title('Топ-10 городов по кол-ву читающих рассылки', fontsize=13, fontweight='bold')\n",
    "plt.xlabel('человек')\n",
    "plt.ylabel('')\n",
    "plt.yticks(fontsize=13)\n",
    "plt.xlim(0,2900)\n",
    "plt.show();"
   ]
  },
  {
   "cell_type": "code",
   "execution_count": 374,
   "id": "294acbbe",
   "metadata": {},
   "outputs": [],
   "source": [
    "regions = (\n",
    "    readers.groupby('region')\n",
    "    .agg({'id':'nunique', 'flag':'mean'})\n",
    "    .sort_values(by='id', ascending=False)\n",
    "    .reset_index().head(10)\n",
    ")"
   ]
  },
  {
   "cell_type": "code",
   "execution_count": 390,
   "id": "afdf98b6",
   "metadata": {},
   "outputs": [
    {
     "data": {
      "image/png": "[encoded data removed]",
      "text/plain": [
       "<Figure size 432x360 with 1 Axes>"
      ]
     },
     "metadata": {},
     "output_type": "display_data"
    }
   ],
   "source": [
    "# order=federal.sort_values(by='flag', ascending=False).federal_district.values\n",
    "ax, fig = plt.subplots(figsize=(6,5))\n",
    "ax = sns.barplot(x=regions['id'], y=regions['region'], palette=colors2)\n",
    "ax.bar_label(ax.containers[0], fmt='%.0f',fontsize=13)\n",
    "plt.title('Топ-10 регионов по кол-ву читающих рассылки', fontsize=13, fontweight='bold')\n",
    "plt.xlabel('число человек')\n",
    "plt.ylabel('')\n",
    "plt.yticks(fontsize=13)\n",
    "plt.xlim(0,3000)\n",
    "plt.show();"
   ]
  },
  {
   "cell_type": "code",
   "execution_count": null,
   "id": "2d5e84f1",
   "metadata": {},
   "outputs": [],
   "source": []
  },
  {
   "cell_type": "code",
   "execution_count": 160,
   "id": "6984ef0c",
   "metadata": {},
   "outputs": [],
   "source": [
    "df = df.drop(['letter_name'], axis=1)"
   ]
  },
  {
   "cell_type": "code",
   "execution_count": 161,
   "id": "bedfe303",
   "metadata": {},
   "outputs": [
    {
     "data": {
      "text/html": [
       "<div>\n",
       "<style scoped>\n",
       "    .dataframe tbody tr th:only-of-type {\n",
       "        vertical-align: middle;\n",
       "    }\n",
       "\n",
       "    .dataframe tbody tr th {\n",
       "        vertical-align: top;\n",
       "    }\n",
       "\n",
       "    .dataframe thead th {\n",
       "        text-align: right;\n",
       "    }\n",
       "</style>\n",
       "<table border=\"1\" class=\"dataframe\">\n",
       "  <thead>\n",
       "    <tr style=\"text-align: right;\">\n",
       "      <th></th>\n",
       "      <th>id</th>\n",
       "      <th>locality</th>\n",
       "      <th>gender</th>\n",
       "      <th>dob_str</th>\n",
       "      <th>sent_dt_str</th>\n",
       "      <th>sent_status</th>\n",
       "      <th>dob</th>\n",
       "      <th>sent_dt</th>\n",
       "      <th>age</th>\n",
       "      <th>flag</th>\n",
       "    </tr>\n",
       "  </thead>\n",
       "  <tbody>\n",
       "    <tr>\n",
       "      <th>0</th>\n",
       "      <td>2</td>\n",
       "      <td>Мытищи</td>\n",
       "      <td>мужской</td>\n",
       "      <td>1964-02-24</td>\n",
       "      <td>2020-11-19 00:46:09</td>\n",
       "      <td>Открыто</td>\n",
       "      <td>1964-02-24</td>\n",
       "      <td>2020-11-19 00:46:09</td>\n",
       "      <td>56</td>\n",
       "      <td>1</td>\n",
       "    </tr>\n",
       "    <tr>\n",
       "      <th>1</th>\n",
       "      <td>2</td>\n",
       "      <td>Мытищи</td>\n",
       "      <td>мужской</td>\n",
       "      <td>1964-02-24</td>\n",
       "      <td>2020-11-26 01:58:27</td>\n",
       "      <td>Открыто</td>\n",
       "      <td>1964-02-24</td>\n",
       "      <td>2020-11-26 01:58:27</td>\n",
       "      <td>56</td>\n",
       "      <td>1</td>\n",
       "    </tr>\n",
       "    <tr>\n",
       "      <th>2</th>\n",
       "      <td>2</td>\n",
       "      <td>Мытищи</td>\n",
       "      <td>мужской</td>\n",
       "      <td>1964-02-24</td>\n",
       "      <td>2020-11-27 00:24:05</td>\n",
       "      <td>Отправлено</td>\n",
       "      <td>1964-02-24</td>\n",
       "      <td>2020-11-27 00:24:05</td>\n",
       "      <td>56</td>\n",
       "      <td>0</td>\n",
       "    </tr>\n",
       "    <tr>\n",
       "      <th>3</th>\n",
       "      <td>2</td>\n",
       "      <td>Мытищи</td>\n",
       "      <td>мужской</td>\n",
       "      <td>1964-02-24</td>\n",
       "      <td>2020-12-03 02:21:10</td>\n",
       "      <td>Открыто</td>\n",
       "      <td>1964-02-24</td>\n",
       "      <td>2020-12-03 02:21:10</td>\n",
       "      <td>56</td>\n",
       "      <td>1</td>\n",
       "    </tr>\n",
       "    <tr>\n",
       "      <th>4</th>\n",
       "      <td>2</td>\n",
       "      <td>Мытищи</td>\n",
       "      <td>мужской</td>\n",
       "      <td>1964-02-24</td>\n",
       "      <td>2020-12-04 00:46:05</td>\n",
       "      <td>Отправлено</td>\n",
       "      <td>1964-02-24</td>\n",
       "      <td>2020-12-04 00:46:05</td>\n",
       "      <td>56</td>\n",
       "      <td>0</td>\n",
       "    </tr>\n",
       "  </tbody>\n",
       "</table>\n",
       "</div>"
      ],
      "text/plain": [
       "   id locality   gender     dob_str          sent_dt_str sent_status  \\\n",
       "0   2   Мытищи  мужской  1964-02-24  2020-11-19 00:46:09     Открыто   \n",
       "1   2   Мытищи  мужской  1964-02-24  2020-11-26 01:58:27     Открыто   \n",
       "2   2   Мытищи  мужской  1964-02-24  2020-11-27 00:24:05  Отправлено   \n",
       "3   2   Мытищи  мужской  1964-02-24  2020-12-03 02:21:10     Открыто   \n",
       "4   2   Мытищи  мужской  1964-02-24  2020-12-04 00:46:05  Отправлено   \n",
       "\n",
       "         dob             sent_dt  age  flag  \n",
       "0 1964-02-24 2020-11-19 00:46:09   56     1  \n",
       "1 1964-02-24 2020-11-26 01:58:27   56     1  \n",
       "2 1964-02-24 2020-11-27 00:24:05   56     0  \n",
       "3 1964-02-24 2020-12-03 02:21:10   56     1  \n",
       "4 1964-02-24 2020-12-04 00:46:05   56     0  "
      ]
     },
     "execution_count": 161,
     "metadata": {},
     "output_type": "execute_result"
    }
   ],
   "source": [
    "df.head()"
   ]
  },
  {
   "cell_type": "code",
   "execution_count": 162,
   "id": "4806d1b9",
   "metadata": {},
   "outputs": [
    {
     "data": {
      "text/plain": [
       "min   2020-11-19 00:10:37\n",
       "max   2021-05-31 23:18:22\n",
       "Name: sent_dt, dtype: datetime64[ns]"
      ]
     },
     "execution_count": 162,
     "metadata": {},
     "output_type": "execute_result"
    }
   ],
   "source": [
    "df.sent_dt.apply(['min', 'max'])"
   ]
  },
  {
   "cell_type": "code",
   "execution_count": 163,
   "id": "9890bce5",
   "metadata": {},
   "outputs": [],
   "source": [
    "df['hour'] = df['sent_dt_str'].str[11:13]"
   ]
  },
  {
   "cell_type": "code",
   "execution_count": 164,
   "id": "f1e451dc",
   "metadata": {},
   "outputs": [],
   "source": [
    "df['month'] = df['sent_dt_str'].str[5:7]"
   ]
  },
  {
   "cell_type": "code",
   "execution_count": 302,
   "id": "cfc0a175",
   "metadata": {},
   "outputs": [
    {
     "data": {
      "text/html": [
       "<div>\n",
       "<style scoped>\n",
       "    .dataframe tbody tr th:only-of-type {\n",
       "        vertical-align: middle;\n",
       "    }\n",
       "\n",
       "    .dataframe tbody tr th {\n",
       "        vertical-align: top;\n",
       "    }\n",
       "\n",
       "    .dataframe thead th {\n",
       "        text-align: right;\n",
       "    }\n",
       "</style>\n",
       "<table border=\"1\" class=\"dataframe\">\n",
       "  <thead>\n",
       "    <tr style=\"text-align: right;\">\n",
       "      <th></th>\n",
       "      <th>id</th>\n",
       "      <th>locality</th>\n",
       "      <th>gender</th>\n",
       "      <th>dob_str</th>\n",
       "      <th>sent_dt_str</th>\n",
       "      <th>sent_status</th>\n",
       "      <th>dob</th>\n",
       "      <th>sent_dt</th>\n",
       "      <th>age</th>\n",
       "      <th>flag</th>\n",
       "      <th>hour</th>\n",
       "      <th>month</th>\n",
       "      <th>weekday</th>\n",
       "      <th>date</th>\n",
       "    </tr>\n",
       "  </thead>\n",
       "  <tbody>\n",
       "    <tr>\n",
       "      <th>0</th>\n",
       "      <td>2</td>\n",
       "      <td>Мытищи</td>\n",
       "      <td>мужской</td>\n",
       "      <td>1964-02-24</td>\n",
       "      <td>2020-11-19 00:46:09</td>\n",
       "      <td>Открыто</td>\n",
       "      <td>1964-02-24</td>\n",
       "      <td>2020-11-19 00:46:09</td>\n",
       "      <td>56</td>\n",
       "      <td>1</td>\n",
       "      <td>24</td>\n",
       "      <td>11</td>\n",
       "      <td>Thursday</td>\n",
       "      <td>2020-11-19</td>\n",
       "    </tr>\n",
       "    <tr>\n",
       "      <th>1</th>\n",
       "      <td>2</td>\n",
       "      <td>Мытищи</td>\n",
       "      <td>мужской</td>\n",
       "      <td>1964-02-24</td>\n",
       "      <td>2020-11-26 01:58:27</td>\n",
       "      <td>Открыто</td>\n",
       "      <td>1964-02-24</td>\n",
       "      <td>2020-11-26 01:58:27</td>\n",
       "      <td>56</td>\n",
       "      <td>1</td>\n",
       "      <td>01</td>\n",
       "      <td>11</td>\n",
       "      <td>Thursday</td>\n",
       "      <td>2020-11-26</td>\n",
       "    </tr>\n",
       "    <tr>\n",
       "      <th>2</th>\n",
       "      <td>2</td>\n",
       "      <td>Мытищи</td>\n",
       "      <td>мужской</td>\n",
       "      <td>1964-02-24</td>\n",
       "      <td>2020-11-27 00:24:05</td>\n",
       "      <td>Отправлено</td>\n",
       "      <td>1964-02-24</td>\n",
       "      <td>2020-11-27 00:24:05</td>\n",
       "      <td>56</td>\n",
       "      <td>0</td>\n",
       "      <td>24</td>\n",
       "      <td>11</td>\n",
       "      <td>Friday</td>\n",
       "      <td>2020-11-27</td>\n",
       "    </tr>\n",
       "    <tr>\n",
       "      <th>3</th>\n",
       "      <td>2</td>\n",
       "      <td>Мытищи</td>\n",
       "      <td>мужской</td>\n",
       "      <td>1964-02-24</td>\n",
       "      <td>2020-12-03 02:21:10</td>\n",
       "      <td>Открыто</td>\n",
       "      <td>1964-02-24</td>\n",
       "      <td>2020-12-03 02:21:10</td>\n",
       "      <td>56</td>\n",
       "      <td>1</td>\n",
       "      <td>02</td>\n",
       "      <td>12</td>\n",
       "      <td>Thursday</td>\n",
       "      <td>2020-12-03</td>\n",
       "    </tr>\n",
       "    <tr>\n",
       "      <th>4</th>\n",
       "      <td>2</td>\n",
       "      <td>Мытищи</td>\n",
       "      <td>мужской</td>\n",
       "      <td>1964-02-24</td>\n",
       "      <td>2020-12-04 00:46:05</td>\n",
       "      <td>Отправлено</td>\n",
       "      <td>1964-02-24</td>\n",
       "      <td>2020-12-04 00:46:05</td>\n",
       "      <td>56</td>\n",
       "      <td>0</td>\n",
       "      <td>24</td>\n",
       "      <td>12</td>\n",
       "      <td>Friday</td>\n",
       "      <td>2020-12-04</td>\n",
       "    </tr>\n",
       "  </tbody>\n",
       "</table>\n",
       "</div>"
      ],
      "text/plain": [
       "   id locality   gender     dob_str          sent_dt_str sent_status  \\\n",
       "0   2   Мытищи  мужской  1964-02-24  2020-11-19 00:46:09     Открыто   \n",
       "1   2   Мытищи  мужской  1964-02-24  2020-11-26 01:58:27     Открыто   \n",
       "2   2   Мытищи  мужской  1964-02-24  2020-11-27 00:24:05  Отправлено   \n",
       "3   2   Мытищи  мужской  1964-02-24  2020-12-03 02:21:10     Открыто   \n",
       "4   2   Мытищи  мужской  1964-02-24  2020-12-04 00:46:05  Отправлено   \n",
       "\n",
       "         dob             sent_dt  age  flag hour month   weekday       date  \n",
       "0 1964-02-24 2020-11-19 00:46:09   56     1   24    11  Thursday 2020-11-19  \n",
       "1 1964-02-24 2020-11-26 01:58:27   56     1   01    11  Thursday 2020-11-26  \n",
       "2 1964-02-24 2020-11-27 00:24:05   56     0   24    11    Friday 2020-11-27  \n",
       "3 1964-02-24 2020-12-03 02:21:10   56     1   02    12  Thursday 2020-12-03  \n",
       "4 1964-02-24 2020-12-04 00:46:05   56     0   24    12    Friday 2020-12-04  "
      ]
     },
     "execution_count": 302,
     "metadata": {},
     "output_type": "execute_result"
    }
   ],
   "source": [
    "df.head()"
   ]
  },
  {
   "cell_type": "code",
   "execution_count": 207,
   "id": "8cff8bc3",
   "metadata": {},
   "outputs": [],
   "source": [
    "df['date'] = df['sent_dt'].dt.date\n",
    "df['date'] = pd.to_datetime(df['date'], format='%Y-%m-%d')"
   ]
  },
  {
   "cell_type": "code",
   "execution_count": 165,
   "id": "06c5807e",
   "metadata": {},
   "outputs": [],
   "source": [
    "df['weekday'] = pd.Series(df.sent_dt).dt.day_name()"
   ]
  },
  {
   "cell_type": "code",
   "execution_count": 180,
   "id": "5aeeca83",
   "metadata": {},
   "outputs": [],
   "source": [
    "df['hour'] = df['hour'].replace('00', '24')"
   ]
  },
  {
   "cell_type": "code",
   "execution_count": 181,
   "id": "12725f46",
   "metadata": {},
   "outputs": [],
   "source": [
    "hours = df.groupby('hour')['flag'].agg(['count', 'mean']).reset_index()"
   ]
  },
  {
   "cell_type": "code",
   "execution_count": 182,
   "id": "d9f0314b",
   "metadata": {},
   "outputs": [
    {
     "data": {
      "text/html": [
       "<div>\n",
       "<style scoped>\n",
       "    .dataframe tbody tr th:only-of-type {\n",
       "        vertical-align: middle;\n",
       "    }\n",
       "\n",
       "    .dataframe tbody tr th {\n",
       "        vertical-align: top;\n",
       "    }\n",
       "\n",
       "    .dataframe thead th {\n",
       "        text-align: right;\n",
       "    }\n",
       "</style>\n",
       "<table border=\"1\" class=\"dataframe\">\n",
       "  <thead>\n",
       "    <tr style=\"text-align: right;\">\n",
       "      <th></th>\n",
       "      <th>hour</th>\n",
       "      <th>count</th>\n",
       "      <th>mean</th>\n",
       "    </tr>\n",
       "  </thead>\n",
       "  <tbody>\n",
       "    <tr>\n",
       "      <th>0</th>\n",
       "      <td>01</td>\n",
       "      <td>7712</td>\n",
       "      <td>1.000000</td>\n",
       "    </tr>\n",
       "    <tr>\n",
       "      <th>1</th>\n",
       "      <td>02</td>\n",
       "      <td>8921</td>\n",
       "      <td>1.000000</td>\n",
       "    </tr>\n",
       "    <tr>\n",
       "      <th>2</th>\n",
       "      <td>03</td>\n",
       "      <td>80</td>\n",
       "      <td>1.000000</td>\n",
       "    </tr>\n",
       "    <tr>\n",
       "      <th>3</th>\n",
       "      <td>05</td>\n",
       "      <td>3</td>\n",
       "      <td>1.000000</td>\n",
       "    </tr>\n",
       "    <tr>\n",
       "      <th>4</th>\n",
       "      <td>09</td>\n",
       "      <td>13</td>\n",
       "      <td>1.000000</td>\n",
       "    </tr>\n",
       "    <tr>\n",
       "      <th>5</th>\n",
       "      <td>10</td>\n",
       "      <td>1619</td>\n",
       "      <td>1.000000</td>\n",
       "    </tr>\n",
       "    <tr>\n",
       "      <th>6</th>\n",
       "      <td>11</td>\n",
       "      <td>1167</td>\n",
       "      <td>1.000000</td>\n",
       "    </tr>\n",
       "    <tr>\n",
       "      <th>7</th>\n",
       "      <td>12</td>\n",
       "      <td>148</td>\n",
       "      <td>1.000000</td>\n",
       "    </tr>\n",
       "    <tr>\n",
       "      <th>8</th>\n",
       "      <td>13</td>\n",
       "      <td>1631</td>\n",
       "      <td>1.000000</td>\n",
       "    </tr>\n",
       "    <tr>\n",
       "      <th>9</th>\n",
       "      <td>14</td>\n",
       "      <td>1405</td>\n",
       "      <td>1.000000</td>\n",
       "    </tr>\n",
       "    <tr>\n",
       "      <th>10</th>\n",
       "      <td>22</td>\n",
       "      <td>15431</td>\n",
       "      <td>1.000000</td>\n",
       "    </tr>\n",
       "    <tr>\n",
       "      <th>11</th>\n",
       "      <td>23</td>\n",
       "      <td>147717</td>\n",
       "      <td>0.161356</td>\n",
       "    </tr>\n",
       "    <tr>\n",
       "      <th>12</th>\n",
       "      <td>24</td>\n",
       "      <td>174120</td>\n",
       "      <td>0.185941</td>\n",
       "    </tr>\n",
       "  </tbody>\n",
       "</table>\n",
       "</div>"
      ],
      "text/plain": [
       "   hour   count      mean\n",
       "0    01    7712  1.000000\n",
       "1    02    8921  1.000000\n",
       "2    03      80  1.000000\n",
       "3    05       3  1.000000\n",
       "4    09      13  1.000000\n",
       "5    10    1619  1.000000\n",
       "6    11    1167  1.000000\n",
       "7    12     148  1.000000\n",
       "8    13    1631  1.000000\n",
       "9    14    1405  1.000000\n",
       "10   22   15431  1.000000\n",
       "11   23  147717  0.161356\n",
       "12   24  174120  0.185941"
      ]
     },
     "execution_count": 182,
     "metadata": {},
     "output_type": "execute_result"
    }
   ],
   "source": [
    "hours"
   ]
  },
  {
   "cell_type": "code",
   "execution_count": 264,
   "id": "08f4bb66",
   "metadata": {},
   "outputs": [
    {
     "data": {
      "image/png": "[encoded data removed]",
      "text/plain": [
       "<Figure size 504x288 with 1 Axes>"
      ]
     },
     "metadata": {},
     "output_type": "display_data"
    }
   ],
   "source": [
    "ax, fig = plt.subplots(figsize=(7,4))\n",
    "ax = sns.barplot(y=hours['count'], x=hours['hour'], color=colors[3])\n",
    "ax.bar_label(ax.containers[0], fmt='%.0f')\n",
    "plt.title('Распределение отправленных рассылок по часам', fontsize=13, fontweight='bold')\n",
    "plt.ylabel('число отправленных рассылок', fontsize=12)\n",
    "plt.xlabel('час отправки в 24-часовом формате', fontsize=12)\n",
    "# plt.ylim(0,35)\n",
    "plt.show();"
   ]
  },
  {
   "cell_type": "code",
   "execution_count": 265,
   "id": "547ff25b",
   "metadata": {},
   "outputs": [
    {
     "data": {
      "image/png": "[encoded data removed]",
      "text/plain": [
       "<Figure size 504x288 with 1 Axes>"
      ]
     },
     "metadata": {},
     "output_type": "display_data"
    }
   ],
   "source": [
    "ax, fig = plt.subplots(figsize=(7,4))\n",
    "ax = sns.barplot(y=hours['mean']*100, x=hours['hour'], color=colors[3])\n",
    "ax.bar_label(ax.containers[0], fmt='%.0f%%')\n",
    "plt.title('Open rate рассылок в зависимости от часа отправления', fontsize=13, fontweight='bold')\n",
    "plt.ylabel('open rate, %', fontsize=12)\n",
    "plt.xlabel('час отправки в 24-часовом формате', fontsize=12)\n",
    "plt.ylim(0,110)\n",
    "plt.show();"
   ]
  },
  {
   "cell_type": "code",
   "execution_count": 188,
   "id": "67602642",
   "metadata": {},
   "outputs": [],
   "source": [
    "weekdays = df.groupby('weekday')['flag'].agg(['count', 'mean']).reset_index()"
   ]
  },
  {
   "cell_type": "code",
   "execution_count": 191,
   "id": "411ededf",
   "metadata": {},
   "outputs": [
    {
     "data": {
      "text/plain": [
       "array(['Friday', 'Monday', 'Saturday', 'Sunday', 'Thursday', 'Tuesday',\n",
       "       'Wednesday'], dtype=object)"
      ]
     },
     "execution_count": 191,
     "metadata": {},
     "output_type": "execute_result"
    }
   ],
   "source": [
    "weekdays.weekday.values"
   ]
  },
  {
   "cell_type": "code",
   "execution_count": 262,
   "id": "80aa7568",
   "metadata": {},
   "outputs": [
    {
     "data": {
      "image/png": "[encoded data removed]",
      "text/plain": [
       "<Figure size 504x288 with 1 Axes>"
      ]
     },
     "metadata": {},
     "output_type": "display_data"
    }
   ],
   "source": [
    "order = ['Monday','Tuesday','Wednesday', 'Thursday','Friday', 'Saturday', 'Sunday']\n",
    "ax, fig = plt.subplots(figsize=(7,4))\n",
    "ax = sns.barplot(y=weekdays['count'], x=weekdays['weekday'], color=colors[5], order=order)\n",
    "ax.bar_label(ax.containers[0], fmt='%.0f')\n",
    "plt.title('Распределение отправленных рассылок по дням недели', fontsize=13, fontweight='bold')\n",
    "plt.ylabel('число отправленных рассылок', fontsize=12)\n",
    "plt.xlabel('')\n",
    "plt.xticks(fontsize=12)\n",
    "# plt.ylim(0,35)\n",
    "plt.show();"
   ]
  },
  {
   "cell_type": "code",
   "execution_count": 263,
   "id": "628cb2ab",
   "metadata": {},
   "outputs": [
    {
     "data": {
      "image/png": "[encoded data removed]",
      "text/plain": [
       "<Figure size 504x288 with 1 Axes>"
      ]
     },
     "metadata": {},
     "output_type": "display_data"
    }
   ],
   "source": [
    "order = ['Monday','Tuesday','Wednesday', 'Thursday','Friday', 'Saturday', 'Sunday']\n",
    "ax, fig = plt.subplots(figsize=(7,4))\n",
    "ax = sns.barplot(y=weekdays['mean']*100, x=weekdays['weekday'], color=colors[5], order=order)\n",
    "ax.bar_label(ax.containers[0], fmt='%.0f%%')\n",
    "plt.title('Open rate рассылок в зависимости от дня недели', fontsize=13, fontweight='bold')\n",
    "plt.ylabel('open rate, %', fontsize=12)\n",
    "plt.xlabel('')\n",
    "plt.xticks(fontsize=12)\n",
    "# plt.ylim(0,35)\n",
    "plt.show();"
   ]
  },
  {
   "cell_type": "code",
   "execution_count": 303,
   "id": "4f655034",
   "metadata": {},
   "outputs": [],
   "source": [
    "months = df.groupby('month')['flag'].agg(['count', 'mean']).reset_index()"
   ]
  },
  {
   "cell_type": "code",
   "execution_count": 344,
   "id": "0be6be27",
   "metadata": {},
   "outputs": [
    {
     "data": {
      "text/html": [
       "<div>\n",
       "<style scoped>\n",
       "    .dataframe tbody tr th:only-of-type {\n",
       "        vertical-align: middle;\n",
       "    }\n",
       "\n",
       "    .dataframe tbody tr th {\n",
       "        vertical-align: top;\n",
       "    }\n",
       "\n",
       "    .dataframe thead th {\n",
       "        text-align: right;\n",
       "    }\n",
       "</style>\n",
       "<table border=\"1\" class=\"dataframe\">\n",
       "  <thead>\n",
       "    <tr style=\"text-align: right;\">\n",
       "      <th></th>\n",
       "      <th>month</th>\n",
       "      <th>count</th>\n",
       "      <th>mean</th>\n",
       "    </tr>\n",
       "  </thead>\n",
       "  <tbody>\n",
       "    <tr>\n",
       "      <th>0</th>\n",
       "      <td>01</td>\n",
       "      <td>46983</td>\n",
       "      <td>0.299427</td>\n",
       "    </tr>\n",
       "    <tr>\n",
       "      <th>1</th>\n",
       "      <td>02</td>\n",
       "      <td>47156</td>\n",
       "      <td>0.237361</td>\n",
       "    </tr>\n",
       "    <tr>\n",
       "      <th>2</th>\n",
       "      <td>03</td>\n",
       "      <td>64952</td>\n",
       "      <td>0.228061</td>\n",
       "    </tr>\n",
       "    <tr>\n",
       "      <th>3</th>\n",
       "      <td>04</td>\n",
       "      <td>57229</td>\n",
       "      <td>0.298083</td>\n",
       "    </tr>\n",
       "    <tr>\n",
       "      <th>4</th>\n",
       "      <td>05</td>\n",
       "      <td>69780</td>\n",
       "      <td>0.201806</td>\n",
       "    </tr>\n",
       "    <tr>\n",
       "      <th>5</th>\n",
       "      <td>11</td>\n",
       "      <td>26105</td>\n",
       "      <td>0.262364</td>\n",
       "    </tr>\n",
       "    <tr>\n",
       "      <th>6</th>\n",
       "      <td>12</td>\n",
       "      <td>47762</td>\n",
       "      <td>0.340794</td>\n",
       "    </tr>\n",
       "  </tbody>\n",
       "</table>\n",
       "</div>"
      ],
      "text/plain": [
       "  month  count      mean\n",
       "0    01  46983  0.299427\n",
       "1    02  47156  0.237361\n",
       "2    03  64952  0.228061\n",
       "3    04  57229  0.298083\n",
       "4    05  69780  0.201806\n",
       "5    11  26105  0.262364\n",
       "6    12  47762  0.340794"
      ]
     },
     "execution_count": 344,
     "metadata": {},
     "output_type": "execute_result"
    }
   ],
   "source": [
    "months"
   ]
  },
  {
   "cell_type": "code",
   "execution_count": 312,
   "id": "0e8ee0b3",
   "metadata": {},
   "outputs": [
    {
     "data": {
      "image/png": "[encoded data removed]",
      "text/plain": [
       "<Figure size 504x288 with 1 Axes>"
      ]
     },
     "metadata": {},
     "output_type": "display_data"
    }
   ],
   "source": [
    "order = ['11','12','01', '02','03', '04', '05']\n",
    "ax, fig = plt.subplots(figsize=(7,4))\n",
    "ax = sns.barplot(y=months['count'], x=months['month'], color=colors[0], order=order)\n",
    "ax.bar_label(ax.containers[0], fmt='%.0f')\n",
    "plt.title('Распределение отправленных рассылок по месяцам', fontsize=13, fontweight='bold')\n",
    "plt.ylabel('число отправленных рассылок', fontsize=12)\n",
    "plt.xlabel('месяц', fontsize=12)\n",
    "# plt.ylim(0,35)\n",
    "plt.show();"
   ]
  },
  {
   "cell_type": "code",
   "execution_count": 313,
   "id": "5314c6b4",
   "metadata": {},
   "outputs": [
    {
     "data": {
      "image/png": "[encoded data removed]",
      "text/plain": [
       "<Figure size 504x288 with 1 Axes>"
      ]
     },
     "metadata": {},
     "output_type": "display_data"
    }
   ],
   "source": [
    "order = ['11','12','01', '02','03', '04', '05']\n",
    "ax, fig = plt.subplots(figsize=(7,4))\n",
    "ax = sns.barplot(y=months['mean']*100, x=months['month'], color=colors[0], order=order)\n",
    "ax.bar_label(ax.containers[0], fmt='%.0f%%')\n",
    "plt.title('Open rate рассылок в зависимости от месяца', fontsize=13, fontweight='bold')\n",
    "plt.ylabel('open rate, %', fontsize=12)\n",
    "plt.xlabel('месяц')\n",
    "plt.xticks(fontsize=12)\n",
    "# plt.ylim(0,35)\n",
    "plt.show();"
   ]
  },
  {
   "cell_type": "code",
   "execution_count": 299,
   "id": "c8b5cd87",
   "metadata": {},
   "outputs": [],
   "source": [
    "dates_flag = df.groupby('date')['flag'].agg(['count', 'mean']).reset_index()"
   ]
  },
  {
   "cell_type": "code",
   "execution_count": 300,
   "id": "5d3951d0",
   "metadata": {},
   "outputs": [
    {
     "data": {
      "text/html": [
       "<div>\n",
       "<style scoped>\n",
       "    .dataframe tbody tr th:only-of-type {\n",
       "        vertical-align: middle;\n",
       "    }\n",
       "\n",
       "    .dataframe tbody tr th {\n",
       "        vertical-align: top;\n",
       "    }\n",
       "\n",
       "    .dataframe thead th {\n",
       "        text-align: right;\n",
       "    }\n",
       "</style>\n",
       "<table border=\"1\" class=\"dataframe\">\n",
       "  <thead>\n",
       "    <tr style=\"text-align: right;\">\n",
       "      <th></th>\n",
       "      <th>date</th>\n",
       "      <th>count</th>\n",
       "      <th>mean</th>\n",
       "    </tr>\n",
       "  </thead>\n",
       "  <tbody>\n",
       "    <tr>\n",
       "      <th>0</th>\n",
       "      <td>2020-11-19</td>\n",
       "      <td>12000</td>\n",
       "      <td>0.270500</td>\n",
       "    </tr>\n",
       "    <tr>\n",
       "      <th>1</th>\n",
       "      <td>2020-11-26</td>\n",
       "      <td>7795</td>\n",
       "      <td>0.353560</td>\n",
       "    </tr>\n",
       "    <tr>\n",
       "      <th>2</th>\n",
       "      <td>2020-11-27</td>\n",
       "      <td>6310</td>\n",
       "      <td>0.134231</td>\n",
       "    </tr>\n",
       "    <tr>\n",
       "      <th>3</th>\n",
       "      <td>2020-12-03</td>\n",
       "      <td>1912</td>\n",
       "      <td>1.000000</td>\n",
       "    </tr>\n",
       "    <tr>\n",
       "      <th>4</th>\n",
       "      <td>2020-12-04</td>\n",
       "      <td>12148</td>\n",
       "      <td>0.160520</td>\n",
       "    </tr>\n",
       "    <tr>\n",
       "      <th>...</th>\n",
       "      <td>...</td>\n",
       "      <td>...</td>\n",
       "      <td>...</td>\n",
       "    </tr>\n",
       "    <tr>\n",
       "      <th>118</th>\n",
       "      <td>2021-05-26</td>\n",
       "      <td>166</td>\n",
       "      <td>1.000000</td>\n",
       "    </tr>\n",
       "    <tr>\n",
       "      <th>119</th>\n",
       "      <td>2021-05-27</td>\n",
       "      <td>15280</td>\n",
       "      <td>0.206937</td>\n",
       "    </tr>\n",
       "    <tr>\n",
       "      <th>120</th>\n",
       "      <td>2021-05-28</td>\n",
       "      <td>1366</td>\n",
       "      <td>0.035139</td>\n",
       "    </tr>\n",
       "    <tr>\n",
       "      <th>121</th>\n",
       "      <td>2021-05-30</td>\n",
       "      <td>2</td>\n",
       "      <td>0.500000</td>\n",
       "    </tr>\n",
       "    <tr>\n",
       "      <th>122</th>\n",
       "      <td>2021-05-31</td>\n",
       "      <td>1</td>\n",
       "      <td>1.000000</td>\n",
       "    </tr>\n",
       "  </tbody>\n",
       "</table>\n",
       "<p>123 rows × 3 columns</p>\n",
       "</div>"
      ],
      "text/plain": [
       "          date  count      mean\n",
       "0   2020-11-19  12000  0.270500\n",
       "1   2020-11-26   7795  0.353560\n",
       "2   2020-11-27   6310  0.134231\n",
       "3   2020-12-03   1912  1.000000\n",
       "4   2020-12-04  12148  0.160520\n",
       "..         ...    ...       ...\n",
       "118 2021-05-26    166  1.000000\n",
       "119 2021-05-27  15280  0.206937\n",
       "120 2021-05-28   1366  0.035139\n",
       "121 2021-05-30      2  0.500000\n",
       "122 2021-05-31      1  1.000000\n",
       "\n",
       "[123 rows x 3 columns]"
      ]
     },
     "execution_count": 300,
     "metadata": {},
     "output_type": "execute_result"
    }
   ],
   "source": [
    "dates_flag"
   ]
  },
  {
   "cell_type": "code",
   "execution_count": 224,
   "id": "470d2ea2",
   "metadata": {},
   "outputs": [
    {
     "data": {
      "text/html": [
       "<div>\n",
       "<style scoped>\n",
       "    .dataframe tbody tr th:only-of-type {\n",
       "        vertical-align: middle;\n",
       "    }\n",
       "\n",
       "    .dataframe tbody tr th {\n",
       "        vertical-align: top;\n",
       "    }\n",
       "\n",
       "    .dataframe thead th {\n",
       "        text-align: right;\n",
       "    }\n",
       "</style>\n",
       "<table border=\"1\" class=\"dataframe\">\n",
       "  <thead>\n",
       "    <tr style=\"text-align: right;\">\n",
       "      <th></th>\n",
       "      <th>date</th>\n",
       "      <th>count</th>\n",
       "      <th>mean</th>\n",
       "    </tr>\n",
       "  </thead>\n",
       "  <tbody>\n",
       "    <tr>\n",
       "      <th>78</th>\n",
       "      <td>2021-04-10</td>\n",
       "      <td>6049</td>\n",
       "      <td>1.0</td>\n",
       "    </tr>\n",
       "    <tr>\n",
       "      <th>10</th>\n",
       "      <td>2020-12-24</td>\n",
       "      <td>2160</td>\n",
       "      <td>1.0</td>\n",
       "    </tr>\n",
       "    <tr>\n",
       "      <th>3</th>\n",
       "      <td>2020-12-03</td>\n",
       "      <td>1912</td>\n",
       "      <td>1.0</td>\n",
       "    </tr>\n",
       "    <tr>\n",
       "      <th>37</th>\n",
       "      <td>2021-01-20</td>\n",
       "      <td>1911</td>\n",
       "      <td>1.0</td>\n",
       "    </tr>\n",
       "    <tr>\n",
       "      <th>43</th>\n",
       "      <td>2021-01-27</td>\n",
       "      <td>1844</td>\n",
       "      <td>1.0</td>\n",
       "    </tr>\n",
       "    <tr>\n",
       "      <th>17</th>\n",
       "      <td>2020-12-31</td>\n",
       "      <td>1789</td>\n",
       "      <td>1.0</td>\n",
       "    </tr>\n",
       "    <tr>\n",
       "      <th>103</th>\n",
       "      <td>2021-05-06</td>\n",
       "      <td>1740</td>\n",
       "      <td>1.0</td>\n",
       "    </tr>\n",
       "    <tr>\n",
       "      <th>89</th>\n",
       "      <td>2021-04-21</td>\n",
       "      <td>1618</td>\n",
       "      <td>1.0</td>\n",
       "    </tr>\n",
       "    <tr>\n",
       "      <th>63</th>\n",
       "      <td>2021-02-24</td>\n",
       "      <td>1354</td>\n",
       "      <td>1.0</td>\n",
       "    </tr>\n",
       "    <tr>\n",
       "      <th>82</th>\n",
       "      <td>2021-04-14</td>\n",
       "      <td>1315</td>\n",
       "      <td>1.0</td>\n",
       "    </tr>\n",
       "  </tbody>\n",
       "</table>\n",
       "</div>"
      ],
      "text/plain": [
       "          date  count  mean\n",
       "78  2021-04-10   6049   1.0\n",
       "10  2020-12-24   2160   1.0\n",
       "3   2020-12-03   1912   1.0\n",
       "37  2021-01-20   1911   1.0\n",
       "43  2021-01-27   1844   1.0\n",
       "17  2020-12-31   1789   1.0\n",
       "103 2021-05-06   1740   1.0\n",
       "89  2021-04-21   1618   1.0\n",
       "63  2021-02-24   1354   1.0\n",
       "82  2021-04-14   1315   1.0"
      ]
     },
     "execution_count": 224,
     "metadata": {},
     "output_type": "execute_result"
    }
   ],
   "source": [
    "dates_flag.query('mean == 1').sort_values(by='count', ascending=False).head(10)"
   ]
  },
  {
   "cell_type": "code",
   "execution_count": 301,
   "id": "4c46187b",
   "metadata": {},
   "outputs": [
    {
     "data": {
      "text/plain": [
       "<AxesSubplot:xlabel='date', ylabel='mean'>"
      ]
     },
     "execution_count": 301,
     "metadata": {},
     "output_type": "execute_result"
    },
    {
     "data": {
      "image/png": "[encoded data removed]",
      "text/plain": [
       "<Figure size 864x360 with 1 Axes>"
      ]
     },
     "metadata": {},
     "output_type": "display_data"
    }
   ],
   "source": [
    "ax, fig = plt.subplots(figsize=(12,5))\n",
    "sns.scatterplot(x=dates_flag['date'], y=dates_flag['mean']*100, s=75, color=colors[0], alpha=0.7)"
   ]
  },
  {
   "cell_type": "code",
   "execution_count": 225,
   "id": "5b1c8331",
   "metadata": {},
   "outputs": [],
   "source": [
    "t = df.groupby(['date', 'flag'])['sent_dt'].agg('count').reset_index()"
   ]
  },
  {
   "cell_type": "code",
   "execution_count": 272,
   "id": "38fb8972",
   "metadata": {},
   "outputs": [],
   "source": [
    "def open_flag(x):\n",
    "    if x == 0:\n",
    "        return \"не открыто\"\n",
    "    else:\n",
    "        return \"открыто\""
   ]
  },
  {
   "cell_type": "code",
   "execution_count": 276,
   "id": "5535d982",
   "metadata": {},
   "outputs": [],
   "source": [
    "t['flag'] = t['flag'].apply(open_flag)"
   ]
  },
  {
   "cell_type": "code",
   "execution_count": 286,
   "id": "5da32d0c",
   "metadata": {},
   "outputs": [],
   "source": [
    "t = df.pivot_table(index='date', columns='flag', values='sent_dt', aggfunc='count').reset_index()"
   ]
  },
  {
   "cell_type": "code",
   "execution_count": 266,
   "id": "91629aa6",
   "metadata": {},
   "outputs": [],
   "source": [
    "sns.set()"
   ]
  },
  {
   "cell_type": "code",
   "execution_count": 290,
   "id": "738d8a66",
   "metadata": {},
   "outputs": [
    {
     "data": {
      "image/png": "[encoded data removed]",
      "text/plain": [
       "<Figure size 792x360 with 1 Axes>"
      ]
     },
     "metadata": {},
     "output_type": "display_data"
    }
   ],
   "source": [
    "ax, fig = plt.subplots(figsize=(11,5))\n",
    "sns.scatterplot(x=t['date'], y=t['не открыто'], color='tomato', s=75, alpha=0.7)\n",
    "sns.scatterplot(x=t['date'], y=t['открыто'], color='mediumaquamarine', s=75, alpha=0.7)\n",
    "plt.title('Кол-во открытых и неоткрытых рассылок по датам', fontsize=13, fontweight='bold')\n",
    "plt.legend(['не открыто', 'открыто'])\n",
    "plt.xlabel('')\n",
    "plt.ylabel('кол-во рассылок')\n",
    "plt.show();"
   ]
  },
  {
   "cell_type": "code",
   "execution_count": 294,
   "id": "0fc209e6",
   "metadata": {},
   "outputs": [
    {
     "data": {
      "text/html": [
       "<div>\n",
       "<style scoped>\n",
       "    .dataframe tbody tr th:only-of-type {\n",
       "        vertical-align: middle;\n",
       "    }\n",
       "\n",
       "    .dataframe tbody tr th {\n",
       "        vertical-align: top;\n",
       "    }\n",
       "\n",
       "    .dataframe thead th {\n",
       "        text-align: right;\n",
       "    }\n",
       "</style>\n",
       "<table border=\"1\" class=\"dataframe\">\n",
       "  <thead>\n",
       "    <tr style=\"text-align: right;\">\n",
       "      <th>flag</th>\n",
       "      <th>date</th>\n",
       "      <th>не открыто</th>\n",
       "      <th>открыто</th>\n",
       "    </tr>\n",
       "  </thead>\n",
       "  <tbody>\n",
       "    <tr>\n",
       "      <th>3</th>\n",
       "      <td>2020-12-03</td>\n",
       "      <td>0.0</td>\n",
       "      <td>1912.0</td>\n",
       "    </tr>\n",
       "    <tr>\n",
       "      <th>10</th>\n",
       "      <td>2020-12-24</td>\n",
       "      <td>0.0</td>\n",
       "      <td>2160.0</td>\n",
       "    </tr>\n",
       "    <tr>\n",
       "      <th>11</th>\n",
       "      <td>2020-12-25</td>\n",
       "      <td>0.0</td>\n",
       "      <td>987.0</td>\n",
       "    </tr>\n",
       "    <tr>\n",
       "      <th>12</th>\n",
       "      <td>2020-12-26</td>\n",
       "      <td>0.0</td>\n",
       "      <td>183.0</td>\n",
       "    </tr>\n",
       "    <tr>\n",
       "      <th>13</th>\n",
       "      <td>2020-12-27</td>\n",
       "      <td>0.0</td>\n",
       "      <td>93.0</td>\n",
       "    </tr>\n",
       "    <tr>\n",
       "      <th>...</th>\n",
       "      <td>...</td>\n",
       "      <td>...</td>\n",
       "      <td>...</td>\n",
       "    </tr>\n",
       "    <tr>\n",
       "      <th>114</th>\n",
       "      <td>2021-05-19</td>\n",
       "      <td>0.0</td>\n",
       "      <td>142.0</td>\n",
       "    </tr>\n",
       "    <tr>\n",
       "      <th>116</th>\n",
       "      <td>2021-05-21</td>\n",
       "      <td>2.0</td>\n",
       "      <td>3.0</td>\n",
       "    </tr>\n",
       "    <tr>\n",
       "      <th>117</th>\n",
       "      <td>2021-05-24</td>\n",
       "      <td>0.0</td>\n",
       "      <td>1.0</td>\n",
       "    </tr>\n",
       "    <tr>\n",
       "      <th>118</th>\n",
       "      <td>2021-05-26</td>\n",
       "      <td>0.0</td>\n",
       "      <td>166.0</td>\n",
       "    </tr>\n",
       "    <tr>\n",
       "      <th>122</th>\n",
       "      <td>2021-05-31</td>\n",
       "      <td>0.0</td>\n",
       "      <td>1.0</td>\n",
       "    </tr>\n",
       "  </tbody>\n",
       "</table>\n",
       "<p>78 rows × 3 columns</p>\n",
       "</div>"
      ],
      "text/plain": [
       "flag       date  не открыто  открыто\n",
       "3    2020-12-03         0.0   1912.0\n",
       "10   2020-12-24         0.0   2160.0\n",
       "11   2020-12-25         0.0    987.0\n",
       "12   2020-12-26         0.0    183.0\n",
       "13   2020-12-27         0.0     93.0\n",
       "..          ...         ...      ...\n",
       "114  2021-05-19         0.0    142.0\n",
       "116  2021-05-21         2.0      3.0\n",
       "117  2021-05-24         0.0      1.0\n",
       "118  2021-05-26         0.0    166.0\n",
       "122  2021-05-31         0.0      1.0\n",
       "\n",
       "[78 rows x 3 columns]"
      ]
     },
     "execution_count": 294,
     "metadata": {},
     "output_type": "execute_result"
    }
   ],
   "source": [
    "t[t['открыто'] > t['не открыто']]"
   ]
  },
  {
   "cell_type": "code",
   "execution_count": 293,
   "id": "ee3e2c25",
   "metadata": {},
   "outputs": [],
   "source": [
    "t['не открыто'] = t['не открыто'].fillna(0)\n",
    "t['открыто'] = t['открыто'].fillna(0)"
   ]
  },
  {
   "cell_type": "code",
   "execution_count": 295,
   "id": "fc1b6d45",
   "metadata": {},
   "outputs": [
    {
     "data": {
      "text/html": [
       "<div>\n",
       "<style scoped>\n",
       "    .dataframe tbody tr th:only-of-type {\n",
       "        vertical-align: middle;\n",
       "    }\n",
       "\n",
       "    .dataframe tbody tr th {\n",
       "        vertical-align: top;\n",
       "    }\n",
       "\n",
       "    .dataframe thead th {\n",
       "        text-align: right;\n",
       "    }\n",
       "</style>\n",
       "<table border=\"1\" class=\"dataframe\">\n",
       "  <thead>\n",
       "    <tr style=\"text-align: right;\">\n",
       "      <th>flag</th>\n",
       "      <th>date</th>\n",
       "      <th>не открыто</th>\n",
       "      <th>открыто</th>\n",
       "    </tr>\n",
       "  </thead>\n",
       "  <tbody>\n",
       "    <tr>\n",
       "      <th>78</th>\n",
       "      <td>2021-04-10</td>\n",
       "      <td>0.0</td>\n",
       "      <td>6049.0</td>\n",
       "    </tr>\n",
       "  </tbody>\n",
       "</table>\n",
       "</div>"
      ],
      "text/plain": [
       "flag       date  не открыто  открыто\n",
       "78   2021-04-10         0.0   6049.0"
      ]
     },
     "execution_count": 295,
     "metadata": {},
     "output_type": "execute_result"
    }
   ],
   "source": [
    "t.query('date == \"2021-04-10\"')"
   ]
  },
  {
   "cell_type": "code",
   "execution_count": 317,
   "id": "4bf64634",
   "metadata": {},
   "outputs": [],
   "source": [
    "readers = readers.drop('city', axis=1)"
   ]
  },
  {
   "cell_type": "code",
   "execution_count": 319,
   "id": "d7548e47",
   "metadata": {},
   "outputs": [],
   "source": [
    "readers = readers.drop('population', axis=1)"
   ]
  },
  {
   "cell_type": "code",
   "execution_count": 322,
   "id": "e185c917",
   "metadata": {},
   "outputs": [],
   "source": [
    "readers = readers.merge(df[['sent_dt', 'hour', 'month', 'weekday']], how='left', on='sent_dt')"
   ]
  },
  {
   "cell_type": "code",
   "execution_count": 323,
   "id": "8c0005b4",
   "metadata": {},
   "outputs": [
    {
     "data": {
      "text/html": [
       "<div>\n",
       "<style scoped>\n",
       "    .dataframe tbody tr th:only-of-type {\n",
       "        vertical-align: middle;\n",
       "    }\n",
       "\n",
       "    .dataframe tbody tr th {\n",
       "        vertical-align: top;\n",
       "    }\n",
       "\n",
       "    .dataframe thead th {\n",
       "        text-align: right;\n",
       "    }\n",
       "</style>\n",
       "<table border=\"1\" class=\"dataframe\">\n",
       "  <thead>\n",
       "    <tr style=\"text-align: right;\">\n",
       "      <th></th>\n",
       "      <th>id</th>\n",
       "      <th>locality</th>\n",
       "      <th>gender</th>\n",
       "      <th>sent_status</th>\n",
       "      <th>dob</th>\n",
       "      <th>sent_dt</th>\n",
       "      <th>age</th>\n",
       "      <th>flag</th>\n",
       "      <th>region</th>\n",
       "      <th>federal_district</th>\n",
       "      <th>age_groups</th>\n",
       "      <th>population_groups</th>\n",
       "      <th>hour</th>\n",
       "      <th>month</th>\n",
       "      <th>weekday</th>\n",
       "    </tr>\n",
       "  </thead>\n",
       "  <tbody>\n",
       "    <tr>\n",
       "      <th>0</th>\n",
       "      <td>2</td>\n",
       "      <td>Мытищи</td>\n",
       "      <td>мужчины</td>\n",
       "      <td>Открыто</td>\n",
       "      <td>1964-02-24</td>\n",
       "      <td>2020-11-19 00:46:09</td>\n",
       "      <td>56</td>\n",
       "      <td>1</td>\n",
       "      <td>Московская обл</td>\n",
       "      <td>Центральный</td>\n",
       "      <td>От 51 до 60</td>\n",
       "      <td>большой город</td>\n",
       "      <td>24</td>\n",
       "      <td>11</td>\n",
       "      <td>Thursday</td>\n",
       "    </tr>\n",
       "    <tr>\n",
       "      <th>1</th>\n",
       "      <td>2</td>\n",
       "      <td>Мытищи</td>\n",
       "      <td>мужчины</td>\n",
       "      <td>Открыто</td>\n",
       "      <td>1964-02-24</td>\n",
       "      <td>2020-11-19 00:46:09</td>\n",
       "      <td>56</td>\n",
       "      <td>1</td>\n",
       "      <td>Московская обл</td>\n",
       "      <td>Центральный</td>\n",
       "      <td>От 51 до 60</td>\n",
       "      <td>большой город</td>\n",
       "      <td>24</td>\n",
       "      <td>11</td>\n",
       "      <td>Thursday</td>\n",
       "    </tr>\n",
       "    <tr>\n",
       "      <th>2</th>\n",
       "      <td>2</td>\n",
       "      <td>Мытищи</td>\n",
       "      <td>мужчины</td>\n",
       "      <td>Открыто</td>\n",
       "      <td>1964-02-24</td>\n",
       "      <td>2020-11-19 00:46:09</td>\n",
       "      <td>56</td>\n",
       "      <td>1</td>\n",
       "      <td>Московская обл</td>\n",
       "      <td>Центральный</td>\n",
       "      <td>От 51 до 60</td>\n",
       "      <td>большой город</td>\n",
       "      <td>24</td>\n",
       "      <td>11</td>\n",
       "      <td>Thursday</td>\n",
       "    </tr>\n",
       "    <tr>\n",
       "      <th>3</th>\n",
       "      <td>2</td>\n",
       "      <td>Мытищи</td>\n",
       "      <td>мужчины</td>\n",
       "      <td>Открыто</td>\n",
       "      <td>1964-02-24</td>\n",
       "      <td>2020-11-26 01:58:27</td>\n",
       "      <td>56</td>\n",
       "      <td>1</td>\n",
       "      <td>Московская обл</td>\n",
       "      <td>Центральный</td>\n",
       "      <td>От 51 до 60</td>\n",
       "      <td>большой город</td>\n",
       "      <td>01</td>\n",
       "      <td>11</td>\n",
       "      <td>Thursday</td>\n",
       "    </tr>\n",
       "    <tr>\n",
       "      <th>4</th>\n",
       "      <td>2</td>\n",
       "      <td>Мытищи</td>\n",
       "      <td>мужчины</td>\n",
       "      <td>Открыто</td>\n",
       "      <td>1964-02-24</td>\n",
       "      <td>2020-11-26 01:58:27</td>\n",
       "      <td>56</td>\n",
       "      <td>1</td>\n",
       "      <td>Московская обл</td>\n",
       "      <td>Центральный</td>\n",
       "      <td>От 51 до 60</td>\n",
       "      <td>большой город</td>\n",
       "      <td>01</td>\n",
       "      <td>11</td>\n",
       "      <td>Thursday</td>\n",
       "    </tr>\n",
       "  </tbody>\n",
       "</table>\n",
       "</div>"
      ],
      "text/plain": [
       "   id locality   gender sent_status        dob             sent_dt  age  flag  \\\n",
       "0   2   Мытищи  мужчины     Открыто 1964-02-24 2020-11-19 00:46:09   56     1   \n",
       "1   2   Мытищи  мужчины     Открыто 1964-02-24 2020-11-19 00:46:09   56     1   \n",
       "2   2   Мытищи  мужчины     Открыто 1964-02-24 2020-11-19 00:46:09   56     1   \n",
       "3   2   Мытищи  мужчины     Открыто 1964-02-24 2020-11-26 01:58:27   56     1   \n",
       "4   2   Мытищи  мужчины     Открыто 1964-02-24 2020-11-26 01:58:27   56     1   \n",
       "\n",
       "           region federal_district   age_groups population_groups hour month  \\\n",
       "0  Московская обл      Центральный  От 51 до 60     большой город   24    11   \n",
       "1  Московская обл      Центральный  От 51 до 60     большой город   24    11   \n",
       "2  Московская обл      Центральный  От 51 до 60     большой город   24    11   \n",
       "3  Московская обл      Центральный  От 51 до 60     большой город   01    11   \n",
       "4  Московская обл      Центральный  От 51 до 60     большой город   01    11   \n",
       "\n",
       "    weekday  \n",
       "0  Thursday  \n",
       "1  Thursday  \n",
       "2  Thursday  \n",
       "3  Thursday  \n",
       "4  Thursday  "
      ]
     },
     "execution_count": 323,
     "metadata": {},
     "output_type": "execute_result"
    }
   ],
   "source": [
    "readers.head()"
   ]
  },
  {
   "cell_type": "code",
   "execution_count": 420,
   "id": "fdd2c514",
   "metadata": {},
   "outputs": [],
   "source": [
    "region_weekdays = (\n",
    "    readers.query('flag == 1')\n",
    "    .groupby(['region', 'weekday'])['sent_dt']\n",
    "    .agg('count').reset_index()\n",
    "    .sort_values(by=['region', 'sent_dt'], ascending=False).reset_index()\n",
    "    .groupby('region').agg({'weekday':'first', 'sent_dt':'max'}).reset_index()\n",
    ")"
   ]
  },
  {
   "cell_type": "code",
   "execution_count": 426,
   "id": "1f7f51b7",
   "metadata": {},
   "outputs": [
    {
     "data": {
      "text/html": [
       "<div>\n",
       "<style scoped>\n",
       "    .dataframe tbody tr th:only-of-type {\n",
       "        vertical-align: middle;\n",
       "    }\n",
       "\n",
       "    .dataframe tbody tr th {\n",
       "        vertical-align: top;\n",
       "    }\n",
       "\n",
       "    .dataframe thead th {\n",
       "        text-align: right;\n",
       "    }\n",
       "</style>\n",
       "<table border=\"1\" class=\"dataframe\">\n",
       "  <thead>\n",
       "    <tr style=\"text-align: right;\">\n",
       "      <th></th>\n",
       "      <th>region</th>\n",
       "      <th>weekday</th>\n",
       "      <th>sent_dt</th>\n",
       "    </tr>\n",
       "  </thead>\n",
       "  <tbody>\n",
       "    <tr>\n",
       "      <th>2</th>\n",
       "      <td>Алтайский край</td>\n",
       "      <td>Friday</td>\n",
       "      <td>1350</td>\n",
       "    </tr>\n",
       "    <tr>\n",
       "      <th>3</th>\n",
       "      <td>Амурская обл</td>\n",
       "      <td>Friday</td>\n",
       "      <td>1134</td>\n",
       "    </tr>\n",
       "    <tr>\n",
       "      <th>4</th>\n",
       "      <td>Архангельская обл</td>\n",
       "      <td>Friday</td>\n",
       "      <td>554</td>\n",
       "    </tr>\n",
       "    <tr>\n",
       "      <th>5</th>\n",
       "      <td>Астраханская обл</td>\n",
       "      <td>Friday</td>\n",
       "      <td>356</td>\n",
       "    </tr>\n",
       "    <tr>\n",
       "      <th>7</th>\n",
       "      <td>Белгородская обл</td>\n",
       "      <td>Friday</td>\n",
       "      <td>1807</td>\n",
       "    </tr>\n",
       "    <tr>\n",
       "      <th>10</th>\n",
       "      <td>Владимирская обл</td>\n",
       "      <td>Friday</td>\n",
       "      <td>1232</td>\n",
       "    </tr>\n",
       "    <tr>\n",
       "      <th>11</th>\n",
       "      <td>Волгоградская обл</td>\n",
       "      <td>Friday</td>\n",
       "      <td>1948</td>\n",
       "    </tr>\n",
       "    <tr>\n",
       "      <th>12</th>\n",
       "      <td>Вологодская обл</td>\n",
       "      <td>Friday</td>\n",
       "      <td>1602</td>\n",
       "    </tr>\n",
       "    <tr>\n",
       "      <th>14</th>\n",
       "      <td>Дагестан</td>\n",
       "      <td>Friday</td>\n",
       "      <td>125</td>\n",
       "    </tr>\n",
       "    <tr>\n",
       "      <th>15</th>\n",
       "      <td>Еврейская Аобл</td>\n",
       "      <td>Friday</td>\n",
       "      <td>51</td>\n",
       "    </tr>\n",
       "    <tr>\n",
       "      <th>16</th>\n",
       "      <td>Забайкальский край</td>\n",
       "      <td>Friday</td>\n",
       "      <td>163</td>\n",
       "    </tr>\n",
       "    <tr>\n",
       "      <th>18</th>\n",
       "      <td>Иркутская обл</td>\n",
       "      <td>Friday</td>\n",
       "      <td>4446</td>\n",
       "    </tr>\n",
       "    <tr>\n",
       "      <th>23</th>\n",
       "      <td>Камчатский край</td>\n",
       "      <td>Friday</td>\n",
       "      <td>660</td>\n",
       "    </tr>\n",
       "    <tr>\n",
       "      <th>24</th>\n",
       "      <td>Карачаево-Черкессия</td>\n",
       "      <td>Friday</td>\n",
       "      <td>124</td>\n",
       "    </tr>\n",
       "    <tr>\n",
       "      <th>28</th>\n",
       "      <td>Коми</td>\n",
       "      <td>Friday</td>\n",
       "      <td>1195</td>\n",
       "    </tr>\n",
       "    <tr>\n",
       "      <th>29</th>\n",
       "      <td>Костромская обл</td>\n",
       "      <td>Friday</td>\n",
       "      <td>205</td>\n",
       "    </tr>\n",
       "    <tr>\n",
       "      <th>31</th>\n",
       "      <td>Красноярский край</td>\n",
       "      <td>Friday</td>\n",
       "      <td>4410</td>\n",
       "    </tr>\n",
       "    <tr>\n",
       "      <th>33</th>\n",
       "      <td>Курганская обл</td>\n",
       "      <td>Friday</td>\n",
       "      <td>274</td>\n",
       "    </tr>\n",
       "    <tr>\n",
       "      <th>35</th>\n",
       "      <td>Ленинградская обл</td>\n",
       "      <td>Friday</td>\n",
       "      <td>783</td>\n",
       "    </tr>\n",
       "    <tr>\n",
       "      <th>38</th>\n",
       "      <td>Марий Эл</td>\n",
       "      <td>Friday</td>\n",
       "      <td>999</td>\n",
       "    </tr>\n",
       "    <tr>\n",
       "      <th>42</th>\n",
       "      <td>Мурманская обл</td>\n",
       "      <td>Friday</td>\n",
       "      <td>1061</td>\n",
       "    </tr>\n",
       "    <tr>\n",
       "      <th>48</th>\n",
       "      <td>Оренбургская обл</td>\n",
       "      <td>Friday</td>\n",
       "      <td>2249</td>\n",
       "    </tr>\n",
       "    <tr>\n",
       "      <th>49</th>\n",
       "      <td>Орловская обл</td>\n",
       "      <td>Friday</td>\n",
       "      <td>117</td>\n",
       "    </tr>\n",
       "    <tr>\n",
       "      <th>51</th>\n",
       "      <td>Пермский край</td>\n",
       "      <td>Friday</td>\n",
       "      <td>4176</td>\n",
       "    </tr>\n",
       "    <tr>\n",
       "      <th>52</th>\n",
       "      <td>Приморский край</td>\n",
       "      <td>Friday</td>\n",
       "      <td>1917</td>\n",
       "    </tr>\n",
       "    <tr>\n",
       "      <th>54</th>\n",
       "      <td>Республика Саха</td>\n",
       "      <td>Friday</td>\n",
       "      <td>369</td>\n",
       "    </tr>\n",
       "    <tr>\n",
       "      <th>57</th>\n",
       "      <td>Самарская обл</td>\n",
       "      <td>Friday</td>\n",
       "      <td>3384</td>\n",
       "    </tr>\n",
       "    <tr>\n",
       "      <th>62</th>\n",
       "      <td>Севастополь</td>\n",
       "      <td>Friday</td>\n",
       "      <td>669</td>\n",
       "    </tr>\n",
       "    <tr>\n",
       "      <th>63</th>\n",
       "      <td>Северная Осетия - Алания</td>\n",
       "      <td>Friday</td>\n",
       "      <td>378</td>\n",
       "    </tr>\n",
       "    <tr>\n",
       "      <th>68</th>\n",
       "      <td>Тверская обл</td>\n",
       "      <td>Friday</td>\n",
       "      <td>1012</td>\n",
       "    </tr>\n",
       "    <tr>\n",
       "      <th>69</th>\n",
       "      <td>Томская обл</td>\n",
       "      <td>Friday</td>\n",
       "      <td>1791</td>\n",
       "    </tr>\n",
       "    <tr>\n",
       "      <th>71</th>\n",
       "      <td>Тыва</td>\n",
       "      <td>Friday</td>\n",
       "      <td>33</td>\n",
       "    </tr>\n",
       "    <tr>\n",
       "      <th>72</th>\n",
       "      <td>Тюменская обл</td>\n",
       "      <td>Friday</td>\n",
       "      <td>1939</td>\n",
       "    </tr>\n",
       "    <tr>\n",
       "      <th>75</th>\n",
       "      <td>Хабаровский край</td>\n",
       "      <td>Friday</td>\n",
       "      <td>1515</td>\n",
       "    </tr>\n",
       "    <tr>\n",
       "      <th>78</th>\n",
       "      <td>Челябинская обл</td>\n",
       "      <td>Friday</td>\n",
       "      <td>5482</td>\n",
       "    </tr>\n",
       "    <tr>\n",
       "      <th>79</th>\n",
       "      <td>Чечня</td>\n",
       "      <td>Friday</td>\n",
       "      <td>33</td>\n",
       "    </tr>\n",
       "    <tr>\n",
       "      <th>80</th>\n",
       "      <td>Чувашия</td>\n",
       "      <td>Friday</td>\n",
       "      <td>2125</td>\n",
       "    </tr>\n",
       "    <tr>\n",
       "      <th>81</th>\n",
       "      <td>Чукотский АО</td>\n",
       "      <td>Friday</td>\n",
       "      <td>32</td>\n",
       "    </tr>\n",
       "  </tbody>\n",
       "</table>\n",
       "</div>"
      ],
      "text/plain": [
       "                      region weekday  sent_dt\n",
       "2             Алтайский край  Friday     1350\n",
       "3               Амурская обл  Friday     1134\n",
       "4          Архангельская обл  Friday      554\n",
       "5           Астраханская обл  Friday      356\n",
       "7           Белгородская обл  Friday     1807\n",
       "10          Владимирская обл  Friday     1232\n",
       "11         Волгоградская обл  Friday     1948\n",
       "12           Вологодская обл  Friday     1602\n",
       "14                  Дагестан  Friday      125\n",
       "15            Еврейская Аобл  Friday       51\n",
       "16        Забайкальский край  Friday      163\n",
       "18             Иркутская обл  Friday     4446\n",
       "23           Камчатский край  Friday      660\n",
       "24       Карачаево-Черкессия  Friday      124\n",
       "28                      Коми  Friday     1195\n",
       "29           Костромская обл  Friday      205\n",
       "31         Красноярский край  Friday     4410\n",
       "33            Курганская обл  Friday      274\n",
       "35         Ленинградская обл  Friday      783\n",
       "38                  Марий Эл  Friday      999\n",
       "42            Мурманская обл  Friday     1061\n",
       "48          Оренбургская обл  Friday     2249\n",
       "49             Орловская обл  Friday      117\n",
       "51             Пермский край  Friday     4176\n",
       "52           Приморский край  Friday     1917\n",
       "54           Республика Саха  Friday      369\n",
       "57             Самарская обл  Friday     3384\n",
       "62               Севастополь  Friday      669\n",
       "63  Северная Осетия - Алания  Friday      378\n",
       "68              Тверская обл  Friday     1012\n",
       "69               Томская обл  Friday     1791\n",
       "71                      Тыва  Friday       33\n",
       "72             Тюменская обл  Friday     1939\n",
       "75          Хабаровский край  Friday     1515\n",
       "78           Челябинская обл  Friday     5482\n",
       "79                     Чечня  Friday       33\n",
       "80                   Чувашия  Friday     2125\n",
       "81              Чукотский АО  Friday       32"
      ]
     },
     "execution_count": 426,
     "metadata": {},
     "output_type": "execute_result"
    }
   ],
   "source": [
    "region_weekdays.query('weekday == \"Friday\"')"
   ]
  },
  {
   "cell_type": "code",
   "execution_count": 342,
   "id": "5f601273",
   "metadata": {},
   "outputs": [
    {
     "data": {
      "text/html": [
       "<div>\n",
       "<style scoped>\n",
       "    .dataframe tbody tr th:only-of-type {\n",
       "        vertical-align: middle;\n",
       "    }\n",
       "\n",
       "    .dataframe tbody tr th {\n",
       "        vertical-align: top;\n",
       "    }\n",
       "\n",
       "    .dataframe thead th {\n",
       "        text-align: right;\n",
       "    }\n",
       "</style>\n",
       "<table border=\"1\" class=\"dataframe\">\n",
       "  <thead>\n",
       "    <tr style=\"text-align: right;\">\n",
       "      <th></th>\n",
       "      <th>count</th>\n",
       "      <th>mean</th>\n",
       "    </tr>\n",
       "    <tr>\n",
       "      <th>month</th>\n",
       "      <th></th>\n",
       "      <th></th>\n",
       "    </tr>\n",
       "  </thead>\n",
       "  <tbody>\n",
       "    <tr>\n",
       "      <th>01</th>\n",
       "      <td>21621</td>\n",
       "      <td>0.325748</td>\n",
       "    </tr>\n",
       "    <tr>\n",
       "      <th>02</th>\n",
       "      <td>23557</td>\n",
       "      <td>0.249862</td>\n",
       "    </tr>\n",
       "    <tr>\n",
       "      <th>03</th>\n",
       "      <td>34246</td>\n",
       "      <td>0.262921</td>\n",
       "    </tr>\n",
       "    <tr>\n",
       "      <th>04</th>\n",
       "      <td>25620</td>\n",
       "      <td>0.194575</td>\n",
       "    </tr>\n",
       "    <tr>\n",
       "      <th>05</th>\n",
       "      <td>33097</td>\n",
       "      <td>0.178687</td>\n",
       "    </tr>\n",
       "    <tr>\n",
       "      <th>11</th>\n",
       "      <td>10032</td>\n",
       "      <td>0.319876</td>\n",
       "    </tr>\n",
       "    <tr>\n",
       "      <th>12</th>\n",
       "      <td>16916</td>\n",
       "      <td>0.337609</td>\n",
       "    </tr>\n",
       "  </tbody>\n",
       "</table>\n",
       "</div>"
      ],
      "text/plain": [
       "       count      mean\n",
       "month                 \n",
       "01     21621  0.325748\n",
       "02     23557  0.249862\n",
       "03     34246  0.262921\n",
       "04     25620  0.194575\n",
       "05     33097  0.178687\n",
       "11     10032  0.319876\n",
       "12     16916  0.337609"
      ]
     },
     "execution_count": 342,
     "metadata": {},
     "output_type": "execute_result"
    }
   ],
   "source": [
    "readers.query('federal_district == \"Сибирский\"').groupby('month')['flag'].agg(['count', 'mean'])"
   ]
  },
  {
   "cell_type": "code",
   "execution_count": 343,
   "id": "2de5ab1d",
   "metadata": {},
   "outputs": [
    {
     "data": {
      "text/html": [
       "<div>\n",
       "<style scoped>\n",
       "    .dataframe tbody tr th:only-of-type {\n",
       "        vertical-align: middle;\n",
       "    }\n",
       "\n",
       "    .dataframe tbody tr th {\n",
       "        vertical-align: top;\n",
       "    }\n",
       "\n",
       "    .dataframe thead th {\n",
       "        text-align: right;\n",
       "    }\n",
       "</style>\n",
       "<table border=\"1\" class=\"dataframe\">\n",
       "  <thead>\n",
       "    <tr style=\"text-align: right;\">\n",
       "      <th></th>\n",
       "      <th>count</th>\n",
       "      <th>mean</th>\n",
       "    </tr>\n",
       "    <tr>\n",
       "      <th>month</th>\n",
       "      <th></th>\n",
       "      <th></th>\n",
       "    </tr>\n",
       "  </thead>\n",
       "  <tbody>\n",
       "    <tr>\n",
       "      <th>01</th>\n",
       "      <td>235794</td>\n",
       "      <td>0.297103</td>\n",
       "    </tr>\n",
       "    <tr>\n",
       "      <th>02</th>\n",
       "      <td>254792</td>\n",
       "      <td>0.240573</td>\n",
       "    </tr>\n",
       "    <tr>\n",
       "      <th>03</th>\n",
       "      <td>374389</td>\n",
       "      <td>0.230672</td>\n",
       "    </tr>\n",
       "    <tr>\n",
       "      <th>04</th>\n",
       "      <td>272595</td>\n",
       "      <td>0.185612</td>\n",
       "    </tr>\n",
       "    <tr>\n",
       "      <th>05</th>\n",
       "      <td>346476</td>\n",
       "      <td>0.165203</td>\n",
       "    </tr>\n",
       "    <tr>\n",
       "      <th>11</th>\n",
       "      <td>111628</td>\n",
       "      <td>0.294380</td>\n",
       "    </tr>\n",
       "    <tr>\n",
       "      <th>12</th>\n",
       "      <td>189273</td>\n",
       "      <td>0.306409</td>\n",
       "    </tr>\n",
       "  </tbody>\n",
       "</table>\n",
       "</div>"
      ],
      "text/plain": [
       "        count      mean\n",
       "month                  \n",
       "01     235794  0.297103\n",
       "02     254792  0.240573\n",
       "03     374389  0.230672\n",
       "04     272595  0.185612\n",
       "05     346476  0.165203\n",
       "11     111628  0.294380\n",
       "12     189273  0.306409"
      ]
     },
     "execution_count": 343,
     "metadata": {},
     "output_type": "execute_result"
    }
   ],
   "source": [
    "readers.groupby('month')['flag'].agg(['count', 'mean'])"
   ]
  },
  {
   "cell_type": "markdown",
   "id": "4c881ca1",
   "metadata": {},
   "source": [
    "В Москве доля женщин 30%, в Питере - 26%"
   ]
  },
  {
   "cell_type": "code",
   "execution_count": 353,
   "id": "b95c0cd2",
   "metadata": {},
   "outputs": [],
   "source": [
    "gender_grouped = readers.pivot_table(index='region', columns='gender', values='id', aggfunc='nunique').reset_index()"
   ]
  },
  {
   "cell_type": "code",
   "execution_count": 355,
   "id": "9ecfcb97",
   "metadata": {},
   "outputs": [],
   "source": [
    "gender_grouped['женщины'] = gender_grouped['женщины'].fillna(0)\n",
    "gender_grouped['мужчины'] = gender_grouped['мужчины'].fillna(0)"
   ]
  },
  {
   "cell_type": "code",
   "execution_count": 356,
   "id": "f0c49d19",
   "metadata": {},
   "outputs": [],
   "source": [
    "gender_grouped['total'] = gender_grouped['женщины'] + gender_grouped['мужчины']"
   ]
  },
  {
   "cell_type": "code",
   "execution_count": 358,
   "id": "d6d5337b",
   "metadata": {},
   "outputs": [],
   "source": [
    "gender_grouped['women_pct'] = gender_grouped['женщины']/gender_grouped['total']"
   ]
  },
  {
   "cell_type": "code",
   "execution_count": 361,
   "id": "1d2226b8",
   "metadata": {},
   "outputs": [
    {
     "data": {
      "text/html": [
       "<div>\n",
       "<style scoped>\n",
       "    .dataframe tbody tr th:only-of-type {\n",
       "        vertical-align: middle;\n",
       "    }\n",
       "\n",
       "    .dataframe tbody tr th {\n",
       "        vertical-align: top;\n",
       "    }\n",
       "\n",
       "    .dataframe thead th {\n",
       "        text-align: right;\n",
       "    }\n",
       "</style>\n",
       "<table border=\"1\" class=\"dataframe\">\n",
       "  <thead>\n",
       "    <tr style=\"text-align: right;\">\n",
       "      <th>gender</th>\n",
       "      <th>region</th>\n",
       "      <th>женщины</th>\n",
       "      <th>мужчины</th>\n",
       "      <th>total</th>\n",
       "      <th>women_pct</th>\n",
       "    </tr>\n",
       "  </thead>\n",
       "  <tbody>\n",
       "    <tr>\n",
       "      <th>71</th>\n",
       "      <td>Тыва</td>\n",
       "      <td>2.0</td>\n",
       "      <td>0.0</td>\n",
       "      <td>2.0</td>\n",
       "      <td>1.000000</td>\n",
       "    </tr>\n",
       "    <tr>\n",
       "      <th>43</th>\n",
       "      <td>Ненецкий АО</td>\n",
       "      <td>2.0</td>\n",
       "      <td>1.0</td>\n",
       "      <td>3.0</td>\n",
       "      <td>0.666667</td>\n",
       "    </tr>\n",
       "    <tr>\n",
       "      <th>54</th>\n",
       "      <td>Республика Саха</td>\n",
       "      <td>9.0</td>\n",
       "      <td>8.0</td>\n",
       "      <td>17.0</td>\n",
       "      <td>0.529412</td>\n",
       "    </tr>\n",
       "    <tr>\n",
       "      <th>9</th>\n",
       "      <td>Бурятия</td>\n",
       "      <td>11.0</td>\n",
       "      <td>13.0</td>\n",
       "      <td>24.0</td>\n",
       "      <td>0.458333</td>\n",
       "    </tr>\n",
       "    <tr>\n",
       "      <th>0</th>\n",
       "      <td>Адыгея</td>\n",
       "      <td>3.0</td>\n",
       "      <td>4.0</td>\n",
       "      <td>7.0</td>\n",
       "      <td>0.428571</td>\n",
       "    </tr>\n",
       "    <tr>\n",
       "      <th>5</th>\n",
       "      <td>Астраханская обл</td>\n",
       "      <td>9.0</td>\n",
       "      <td>12.0</td>\n",
       "      <td>21.0</td>\n",
       "      <td>0.428571</td>\n",
       "    </tr>\n",
       "    <tr>\n",
       "      <th>19</th>\n",
       "      <td>Кабардино-Балкария</td>\n",
       "      <td>3.0</td>\n",
       "      <td>4.0</td>\n",
       "      <td>7.0</td>\n",
       "      <td>0.428571</td>\n",
       "    </tr>\n",
       "    <tr>\n",
       "      <th>16</th>\n",
       "      <td>Забайкальский край</td>\n",
       "      <td>5.0</td>\n",
       "      <td>7.0</td>\n",
       "      <td>12.0</td>\n",
       "      <td>0.416667</td>\n",
       "    </tr>\n",
       "    <tr>\n",
       "      <th>21</th>\n",
       "      <td>Калмыкия</td>\n",
       "      <td>2.0</td>\n",
       "      <td>3.0</td>\n",
       "      <td>5.0</td>\n",
       "      <td>0.400000</td>\n",
       "    </tr>\n",
       "    <tr>\n",
       "      <th>49</th>\n",
       "      <td>Орловская обл</td>\n",
       "      <td>4.0</td>\n",
       "      <td>7.0</td>\n",
       "      <td>11.0</td>\n",
       "      <td>0.363636</td>\n",
       "    </tr>\n",
       "  </tbody>\n",
       "</table>\n",
       "</div>"
      ],
      "text/plain": [
       "gender              region  женщины  мужчины  total  women_pct\n",
       "71                    Тыва      2.0      0.0    2.0   1.000000\n",
       "43             Ненецкий АО      2.0      1.0    3.0   0.666667\n",
       "54         Республика Саха      9.0      8.0   17.0   0.529412\n",
       "9                  Бурятия     11.0     13.0   24.0   0.458333\n",
       "0                   Адыгея      3.0      4.0    7.0   0.428571\n",
       "5         Астраханская обл      9.0     12.0   21.0   0.428571\n",
       "19      Кабардино-Балкария      3.0      4.0    7.0   0.428571\n",
       "16      Забайкальский край      5.0      7.0   12.0   0.416667\n",
       "21                Калмыкия      2.0      3.0    5.0   0.400000\n",
       "49           Орловская обл      4.0      7.0   11.0   0.363636"
      ]
     },
     "execution_count": 361,
     "metadata": {},
     "output_type": "execute_result"
    }
   ],
   "source": [
    "gender_grouped.query('women_pct > 0.26').sort_values(by='women_pct', ascending=False).head(10)"
   ]
  },
  {
   "cell_type": "code",
   "execution_count": 398,
   "id": "6195b430",
   "metadata": {},
   "outputs": [],
   "source": [
    "top10 = regions.region.values"
   ]
  },
  {
   "cell_type": "code",
   "execution_count": 402,
   "id": "3b9e0a9c",
   "metadata": {},
   "outputs": [],
   "source": [
    "gender_top = gender_grouped.query('region in @top10').sort_values(by='total', ascending=False).reset_index()"
   ]
  },
  {
   "cell_type": "code",
   "execution_count": 405,
   "id": "5eddbd96",
   "metadata": {},
   "outputs": [
    {
     "data": {
      "image/png": "[encoded data removed]",
      "text/plain": [
       "<Figure size 432x360 with 1 Axes>"
      ]
     },
     "metadata": {},
     "output_type": "display_data"
    }
   ],
   "source": [
    "ax, fig = plt.subplots(figsize=(6,5))\n",
    "ax = sns.barplot(x=gender_top['women_pct']*100, y=gender_top['region'], palette=colors2)\n",
    "ax.bar_label(ax.containers[0], fmt='%.0f%%',fontsize=13)\n",
    "plt.title('Доля женщин среди читающих рассылки в топ-10 регионах', fontsize=13, fontweight='bold')\n",
    "plt.xlabel('%')\n",
    "plt.ylabel('')\n",
    "plt.yticks(fontsize=13)\n",
    "plt.xlim(0,35)\n",
    "plt.show();"
   ]
  },
  {
   "cell_type": "code",
   "execution_count": 368,
   "id": "3a20e752",
   "metadata": {},
   "outputs": [
    {
     "data": {
      "text/html": [
       "<div>\n",
       "<style scoped>\n",
       "    .dataframe tbody tr th:only-of-type {\n",
       "        vertical-align: middle;\n",
       "    }\n",
       "\n",
       "    .dataframe tbody tr th {\n",
       "        vertical-align: top;\n",
       "    }\n",
       "\n",
       "    .dataframe thead th {\n",
       "        text-align: right;\n",
       "    }\n",
       "</style>\n",
       "<table border=\"1\" class=\"dataframe\">\n",
       "  <thead>\n",
       "    <tr style=\"text-align: right;\">\n",
       "      <th>gender</th>\n",
       "      <th>region</th>\n",
       "      <th>женщины</th>\n",
       "      <th>мужчины</th>\n",
       "      <th>total</th>\n",
       "      <th>women_pct</th>\n",
       "    </tr>\n",
       "  </thead>\n",
       "  <tbody>\n",
       "    <tr>\n",
       "      <th>1</th>\n",
       "      <td>Алтай</td>\n",
       "      <td>0.0</td>\n",
       "      <td>2.0</td>\n",
       "      <td>2.0</td>\n",
       "      <td>0.0</td>\n",
       "    </tr>\n",
       "    <tr>\n",
       "      <th>24</th>\n",
       "      <td>Карачаево-Черкессия</td>\n",
       "      <td>0.0</td>\n",
       "      <td>6.0</td>\n",
       "      <td>6.0</td>\n",
       "      <td>0.0</td>\n",
       "    </tr>\n",
       "    <tr>\n",
       "      <th>33</th>\n",
       "      <td>Курганская обл</td>\n",
       "      <td>0.0</td>\n",
       "      <td>13.0</td>\n",
       "      <td>13.0</td>\n",
       "      <td>0.0</td>\n",
       "    </tr>\n",
       "    <tr>\n",
       "      <th>81</th>\n",
       "      <td>Чукотский АО</td>\n",
       "      <td>0.0</td>\n",
       "      <td>1.0</td>\n",
       "      <td>1.0</td>\n",
       "      <td>0.0</td>\n",
       "    </tr>\n",
       "  </tbody>\n",
       "</table>\n",
       "</div>"
      ],
      "text/plain": [
       "gender               region  женщины  мужчины  total  women_pct\n",
       "1                     Алтай      0.0      2.0    2.0        0.0\n",
       "24      Карачаево-Черкессия      0.0      6.0    6.0        0.0\n",
       "33           Курганская обл      0.0     13.0   13.0        0.0\n",
       "81             Чукотский АО      0.0      1.0    1.0        0.0"
      ]
     },
     "execution_count": 368,
     "metadata": {},
     "output_type": "execute_result"
    }
   ],
   "source": [
    "gender_grouped.query('women_pct == 0')"
   ]
  },
  {
   "cell_type": "code",
   "execution_count": 367,
   "id": "11de6ed6",
   "metadata": {},
   "outputs": [
    {
     "data": {
      "text/html": [
       "<div>\n",
       "<style scoped>\n",
       "    .dataframe tbody tr th:only-of-type {\n",
       "        vertical-align: middle;\n",
       "    }\n",
       "\n",
       "    .dataframe tbody tr th {\n",
       "        vertical-align: top;\n",
       "    }\n",
       "\n",
       "    .dataframe thead th {\n",
       "        text-align: right;\n",
       "    }\n",
       "</style>\n",
       "<table border=\"1\" class=\"dataframe\">\n",
       "  <thead>\n",
       "    <tr style=\"text-align: right;\">\n",
       "      <th>gender</th>\n",
       "      <th>region</th>\n",
       "      <th>женщины</th>\n",
       "      <th>мужчины</th>\n",
       "      <th>total</th>\n",
       "      <th>women_pct</th>\n",
       "    </tr>\n",
       "  </thead>\n",
       "  <tbody>\n",
       "    <tr>\n",
       "      <th>0</th>\n",
       "      <td>Адыгея</td>\n",
       "      <td>3.0</td>\n",
       "      <td>4.0</td>\n",
       "      <td>7.0</td>\n",
       "      <td>0.428571</td>\n",
       "    </tr>\n",
       "    <tr>\n",
       "      <th>19</th>\n",
       "      <td>Кабардино-Балкария</td>\n",
       "      <td>3.0</td>\n",
       "      <td>4.0</td>\n",
       "      <td>7.0</td>\n",
       "      <td>0.428571</td>\n",
       "    </tr>\n",
       "    <tr>\n",
       "      <th>24</th>\n",
       "      <td>Карачаево-Черкессия</td>\n",
       "      <td>0.0</td>\n",
       "      <td>6.0</td>\n",
       "      <td>6.0</td>\n",
       "      <td>0.000000</td>\n",
       "    </tr>\n",
       "    <tr>\n",
       "      <th>79</th>\n",
       "      <td>Чечня</td>\n",
       "      <td>1.0</td>\n",
       "      <td>5.0</td>\n",
       "      <td>6.0</td>\n",
       "      <td>0.166667</td>\n",
       "    </tr>\n",
       "    <tr>\n",
       "      <th>21</th>\n",
       "      <td>Калмыкия</td>\n",
       "      <td>2.0</td>\n",
       "      <td>3.0</td>\n",
       "      <td>5.0</td>\n",
       "      <td>0.400000</td>\n",
       "    </tr>\n",
       "    <tr>\n",
       "      <th>15</th>\n",
       "      <td>Еврейская Аобл</td>\n",
       "      <td>1.0</td>\n",
       "      <td>3.0</td>\n",
       "      <td>4.0</td>\n",
       "      <td>0.250000</td>\n",
       "    </tr>\n",
       "    <tr>\n",
       "      <th>37</th>\n",
       "      <td>Магаданская обл</td>\n",
       "      <td>1.0</td>\n",
       "      <td>3.0</td>\n",
       "      <td>4.0</td>\n",
       "      <td>0.250000</td>\n",
       "    </tr>\n",
       "    <tr>\n",
       "      <th>43</th>\n",
       "      <td>Ненецкий АО</td>\n",
       "      <td>2.0</td>\n",
       "      <td>1.0</td>\n",
       "      <td>3.0</td>\n",
       "      <td>0.666667</td>\n",
       "    </tr>\n",
       "    <tr>\n",
       "      <th>1</th>\n",
       "      <td>Алтай</td>\n",
       "      <td>0.0</td>\n",
       "      <td>2.0</td>\n",
       "      <td>2.0</td>\n",
       "      <td>0.000000</td>\n",
       "    </tr>\n",
       "    <tr>\n",
       "      <th>71</th>\n",
       "      <td>Тыва</td>\n",
       "      <td>2.0</td>\n",
       "      <td>0.0</td>\n",
       "      <td>2.0</td>\n",
       "      <td>1.000000</td>\n",
       "    </tr>\n",
       "    <tr>\n",
       "      <th>81</th>\n",
       "      <td>Чукотский АО</td>\n",
       "      <td>0.0</td>\n",
       "      <td>1.0</td>\n",
       "      <td>1.0</td>\n",
       "      <td>0.000000</td>\n",
       "    </tr>\n",
       "  </tbody>\n",
       "</table>\n",
       "</div>"
      ],
      "text/plain": [
       "gender               region  женщины  мужчины  total  women_pct\n",
       "0                    Адыгея      3.0      4.0    7.0   0.428571\n",
       "19       Кабардино-Балкария      3.0      4.0    7.0   0.428571\n",
       "24      Карачаево-Черкессия      0.0      6.0    6.0   0.000000\n",
       "79                    Чечня      1.0      5.0    6.0   0.166667\n",
       "21                 Калмыкия      2.0      3.0    5.0   0.400000\n",
       "15           Еврейская Аобл      1.0      3.0    4.0   0.250000\n",
       "37          Магаданская обл      1.0      3.0    4.0   0.250000\n",
       "43              Ненецкий АО      2.0      1.0    3.0   0.666667\n",
       "1                     Алтай      0.0      2.0    2.0   0.000000\n",
       "71                     Тыва      2.0      0.0    2.0   1.000000\n",
       "81             Чукотский АО      0.0      1.0    1.0   0.000000"
      ]
     },
     "execution_count": 367,
     "metadata": {},
     "output_type": "execute_result"
    }
   ],
   "source": [
    "gender_grouped.query('total < 10').sort_values(by='total', ascending=False)"
   ]
  },
  {
   "cell_type": "code",
   "execution_count": 389,
   "id": "e7a5d2fa",
   "metadata": {},
   "outputs": [
    {
     "data": {
      "text/html": [
       "<div>\n",
       "<style scoped>\n",
       "    .dataframe tbody tr th:only-of-type {\n",
       "        vertical-align: middle;\n",
       "    }\n",
       "\n",
       "    .dataframe tbody tr th {\n",
       "        vertical-align: top;\n",
       "    }\n",
       "\n",
       "    .dataframe thead th {\n",
       "        text-align: right;\n",
       "    }\n",
       "</style>\n",
       "<table border=\"1\" class=\"dataframe\">\n",
       "  <thead>\n",
       "    <tr style=\"text-align: right;\">\n",
       "      <th></th>\n",
       "      <th>id</th>\n",
       "      <th>locality</th>\n",
       "      <th>gender</th>\n",
       "      <th>sent_status</th>\n",
       "      <th>dob</th>\n",
       "      <th>sent_dt</th>\n",
       "      <th>age</th>\n",
       "      <th>flag</th>\n",
       "      <th>region</th>\n",
       "      <th>federal_district</th>\n",
       "      <th>age_groups</th>\n",
       "      <th>population_groups</th>\n",
       "      <th>hour</th>\n",
       "      <th>month</th>\n",
       "      <th>weekday</th>\n",
       "    </tr>\n",
       "  </thead>\n",
       "  <tbody>\n",
       "    <tr>\n",
       "      <th>153514</th>\n",
       "      <td>2182</td>\n",
       "      <td>Нарьян-Мар</td>\n",
       "      <td>мужчины</td>\n",
       "      <td>Отправлено</td>\n",
       "      <td>1985-07-21</td>\n",
       "      <td>2021-01-22 00:06:00</td>\n",
       "      <td>35</td>\n",
       "      <td>0</td>\n",
       "      <td>Ненецкий АО</td>\n",
       "      <td>Северо-Западный</td>\n",
       "      <td>От 31 до 40</td>\n",
       "      <td>малый город</td>\n",
       "      <td>24</td>\n",
       "      <td>01</td>\n",
       "      <td>Friday</td>\n",
       "    </tr>\n",
       "    <tr>\n",
       "      <th>153515</th>\n",
       "      <td>2182</td>\n",
       "      <td>Нарьян-Мар</td>\n",
       "      <td>мужчины</td>\n",
       "      <td>Отправлено</td>\n",
       "      <td>1985-07-21</td>\n",
       "      <td>2021-01-22 00:06:00</td>\n",
       "      <td>35</td>\n",
       "      <td>0</td>\n",
       "      <td>Ненецкий АО</td>\n",
       "      <td>Северо-Западный</td>\n",
       "      <td>От 31 до 40</td>\n",
       "      <td>малый город</td>\n",
       "      <td>24</td>\n",
       "      <td>01</td>\n",
       "      <td>Friday</td>\n",
       "    </tr>\n",
       "    <tr>\n",
       "      <th>153516</th>\n",
       "      <td>2182</td>\n",
       "      <td>Нарьян-Мар</td>\n",
       "      <td>мужчины</td>\n",
       "      <td>Отправлено</td>\n",
       "      <td>1985-07-21</td>\n",
       "      <td>2021-01-22 00:06:00</td>\n",
       "      <td>35</td>\n",
       "      <td>0</td>\n",
       "      <td>Ненецкий АО</td>\n",
       "      <td>Северо-Западный</td>\n",
       "      <td>От 31 до 40</td>\n",
       "      <td>малый город</td>\n",
       "      <td>24</td>\n",
       "      <td>01</td>\n",
       "      <td>Friday</td>\n",
       "    </tr>\n",
       "    <tr>\n",
       "      <th>153517</th>\n",
       "      <td>2182</td>\n",
       "      <td>Нарьян-Мар</td>\n",
       "      <td>мужчины</td>\n",
       "      <td>Отправлено</td>\n",
       "      <td>1985-07-21</td>\n",
       "      <td>2021-01-22 00:06:00</td>\n",
       "      <td>35</td>\n",
       "      <td>0</td>\n",
       "      <td>Ненецкий АО</td>\n",
       "      <td>Северо-Западный</td>\n",
       "      <td>От 31 до 40</td>\n",
       "      <td>малый город</td>\n",
       "      <td>24</td>\n",
       "      <td>01</td>\n",
       "      <td>Friday</td>\n",
       "    </tr>\n",
       "    <tr>\n",
       "      <th>153518</th>\n",
       "      <td>2182</td>\n",
       "      <td>Нарьян-Мар</td>\n",
       "      <td>мужчины</td>\n",
       "      <td>Отправлено</td>\n",
       "      <td>1985-07-21</td>\n",
       "      <td>2021-01-28 23:55:10</td>\n",
       "      <td>35</td>\n",
       "      <td>0</td>\n",
       "      <td>Ненецкий АО</td>\n",
       "      <td>Северо-Западный</td>\n",
       "      <td>От 31 до 40</td>\n",
       "      <td>малый город</td>\n",
       "      <td>23</td>\n",
       "      <td>01</td>\n",
       "      <td>Thursday</td>\n",
       "    </tr>\n",
       "    <tr>\n",
       "      <th>...</th>\n",
       "      <td>...</td>\n",
       "      <td>...</td>\n",
       "      <td>...</td>\n",
       "      <td>...</td>\n",
       "      <td>...</td>\n",
       "      <td>...</td>\n",
       "      <td>...</td>\n",
       "      <td>...</td>\n",
       "      <td>...</td>\n",
       "      <td>...</td>\n",
       "      <td>...</td>\n",
       "      <td>...</td>\n",
       "      <td>...</td>\n",
       "      <td>...</td>\n",
       "      <td>...</td>\n",
       "    </tr>\n",
       "    <tr>\n",
       "      <th>1558272</th>\n",
       "      <td>21577</td>\n",
       "      <td>Нарьян-Мар</td>\n",
       "      <td>женщины</td>\n",
       "      <td>Отправлено</td>\n",
       "      <td>1976-07-29</td>\n",
       "      <td>2021-05-27 23:51:47</td>\n",
       "      <td>44</td>\n",
       "      <td>0</td>\n",
       "      <td>Ненецкий АО</td>\n",
       "      <td>Северо-Западный</td>\n",
       "      <td>От 41 до 50</td>\n",
       "      <td>малый город</td>\n",
       "      <td>23</td>\n",
       "      <td>05</td>\n",
       "      <td>Thursday</td>\n",
       "    </tr>\n",
       "    <tr>\n",
       "      <th>1558273</th>\n",
       "      <td>21577</td>\n",
       "      <td>Нарьян-Мар</td>\n",
       "      <td>женщины</td>\n",
       "      <td>Отправлено</td>\n",
       "      <td>1976-07-29</td>\n",
       "      <td>2021-05-27 23:51:47</td>\n",
       "      <td>44</td>\n",
       "      <td>0</td>\n",
       "      <td>Ненецкий АО</td>\n",
       "      <td>Северо-Западный</td>\n",
       "      <td>От 41 до 50</td>\n",
       "      <td>малый город</td>\n",
       "      <td>23</td>\n",
       "      <td>05</td>\n",
       "      <td>Thursday</td>\n",
       "    </tr>\n",
       "    <tr>\n",
       "      <th>1558274</th>\n",
       "      <td>21577</td>\n",
       "      <td>Нарьян-Мар</td>\n",
       "      <td>женщины</td>\n",
       "      <td>Отправлено</td>\n",
       "      <td>1976-07-29</td>\n",
       "      <td>2021-05-27 23:51:47</td>\n",
       "      <td>44</td>\n",
       "      <td>0</td>\n",
       "      <td>Ненецкий АО</td>\n",
       "      <td>Северо-Западный</td>\n",
       "      <td>От 41 до 50</td>\n",
       "      <td>малый город</td>\n",
       "      <td>23</td>\n",
       "      <td>05</td>\n",
       "      <td>Thursday</td>\n",
       "    </tr>\n",
       "    <tr>\n",
       "      <th>1558275</th>\n",
       "      <td>21577</td>\n",
       "      <td>Нарьян-Мар</td>\n",
       "      <td>женщины</td>\n",
       "      <td>Отправлено</td>\n",
       "      <td>1976-07-29</td>\n",
       "      <td>2021-05-27 23:51:47</td>\n",
       "      <td>44</td>\n",
       "      <td>0</td>\n",
       "      <td>Ненецкий АО</td>\n",
       "      <td>Северо-Западный</td>\n",
       "      <td>От 41 до 50</td>\n",
       "      <td>малый город</td>\n",
       "      <td>23</td>\n",
       "      <td>05</td>\n",
       "      <td>Thursday</td>\n",
       "    </tr>\n",
       "    <tr>\n",
       "      <th>1558276</th>\n",
       "      <td>21577</td>\n",
       "      <td>Нарьян-Мар</td>\n",
       "      <td>женщины</td>\n",
       "      <td>Отправлено</td>\n",
       "      <td>1976-07-29</td>\n",
       "      <td>2021-05-27 23:51:47</td>\n",
       "      <td>44</td>\n",
       "      <td>0</td>\n",
       "      <td>Ненецкий АО</td>\n",
       "      <td>Северо-Западный</td>\n",
       "      <td>От 41 до 50</td>\n",
       "      <td>малый город</td>\n",
       "      <td>23</td>\n",
       "      <td>05</td>\n",
       "      <td>Thursday</td>\n",
       "    </tr>\n",
       "  </tbody>\n",
       "</table>\n",
       "<p>331 rows × 15 columns</p>\n",
       "</div>"
      ],
      "text/plain": [
       "            id    locality   gender sent_status        dob  \\\n",
       "153514    2182  Нарьян-Мар  мужчины  Отправлено 1985-07-21   \n",
       "153515    2182  Нарьян-Мар  мужчины  Отправлено 1985-07-21   \n",
       "153516    2182  Нарьян-Мар  мужчины  Отправлено 1985-07-21   \n",
       "153517    2182  Нарьян-Мар  мужчины  Отправлено 1985-07-21   \n",
       "153518    2182  Нарьян-Мар  мужчины  Отправлено 1985-07-21   \n",
       "...        ...         ...      ...         ...        ...   \n",
       "1558272  21577  Нарьян-Мар  женщины  Отправлено 1976-07-29   \n",
       "1558273  21577  Нарьян-Мар  женщины  Отправлено 1976-07-29   \n",
       "1558274  21577  Нарьян-Мар  женщины  Отправлено 1976-07-29   \n",
       "1558275  21577  Нарьян-Мар  женщины  Отправлено 1976-07-29   \n",
       "1558276  21577  Нарьян-Мар  женщины  Отправлено 1976-07-29   \n",
       "\n",
       "                    sent_dt  age  flag       region federal_district  \\\n",
       "153514  2021-01-22 00:06:00   35     0  Ненецкий АО  Северо-Западный   \n",
       "153515  2021-01-22 00:06:00   35     0  Ненецкий АО  Северо-Западный   \n",
       "153516  2021-01-22 00:06:00   35     0  Ненецкий АО  Северо-Западный   \n",
       "153517  2021-01-22 00:06:00   35     0  Ненецкий АО  Северо-Западный   \n",
       "153518  2021-01-28 23:55:10   35     0  Ненецкий АО  Северо-Западный   \n",
       "...                     ...  ...   ...          ...              ...   \n",
       "1558272 2021-05-27 23:51:47   44     0  Ненецкий АО  Северо-Западный   \n",
       "1558273 2021-05-27 23:51:47   44     0  Ненецкий АО  Северо-Западный   \n",
       "1558274 2021-05-27 23:51:47   44     0  Ненецкий АО  Северо-Западный   \n",
       "1558275 2021-05-27 23:51:47   44     0  Ненецкий АО  Северо-Западный   \n",
       "1558276 2021-05-27 23:51:47   44     0  Ненецкий АО  Северо-Западный   \n",
       "\n",
       "          age_groups population_groups hour month   weekday  \n",
       "153514   От 31 до 40       малый город   24    01    Friday  \n",
       "153515   От 31 до 40       малый город   24    01    Friday  \n",
       "153516   От 31 до 40       малый город   24    01    Friday  \n",
       "153517   От 31 до 40       малый город   24    01    Friday  \n",
       "153518   От 31 до 40       малый город   23    01  Thursday  \n",
       "...              ...               ...  ...   ...       ...  \n",
       "1558272  От 41 до 50       малый город   23    05  Thursday  \n",
       "1558273  От 41 до 50       малый город   23    05  Thursday  \n",
       "1558274  От 41 до 50       малый город   23    05  Thursday  \n",
       "1558275  От 41 до 50       малый город   23    05  Thursday  \n",
       "1558276  От 41 до 50       малый город   23    05  Thursday  \n",
       "\n",
       "[331 rows x 15 columns]"
      ]
     },
     "execution_count": 389,
     "metadata": {},
     "output_type": "execute_result"
    }
   ],
   "source": [
    "readers.query('region == \"Ненецкий АО\"')"
   ]
  },
  {
   "cell_type": "code",
   "execution_count": 393,
   "id": "2df123f4",
   "metadata": {},
   "outputs": [],
   "source": [
    "moscow_gender = readers.query('region == \"Москва\"').groupby('gender')['id'].agg('nunique')"
   ]
  },
  {
   "cell_type": "code",
   "execution_count": 395,
   "id": "ea332247",
   "metadata": {},
   "outputs": [
    {
     "data": {
      "image/png": "[encoded data removed]",
      "text/plain": [
       "<Figure size 576x432 with 1 Axes>"
      ]
     },
     "metadata": {},
     "output_type": "display_data"
    }
   ],
   "source": [
    "fig, ax = plt.subplots(figsize=(8,6))\n",
    "labels = moscow_gender.index\n",
    "explode = (0.01, 0.01)\n",
    "clrs=[colors[5], colors[0]]\n",
    "moscow_gender.plot(kind='pie',\n",
    "               y='id',\n",
    "               autopct='%1.0f%%',\n",
    "               wedgeprops=dict(width=.4), \n",
    "               textprops={'size': 'large'},\n",
    "               pctdistance=0.8, \n",
    "               labeldistance=1.1,\n",
    "               colors=clrs, \n",
    "               labels=labels,\n",
    "               explode=explode,\n",
    "               legend=False,\n",
    "               fontsize=13, \n",
    "               ax=ax).set(ylabel='')\n",
    "\n",
    "plt.title('Распределение читающих рассылки по половому признаку в Москве', fontweight='bold', fontsize=13)\n",
    "plt.show();"
   ]
  },
  {
   "cell_type": "code",
   "execution_count": null,
   "id": "023c919f",
   "metadata": {},
   "outputs": [],
   "source": []
  }
 ],
 "metadata": {
  "kernelspec": {
   "display_name": "Python 3 (ipykernel)",
   "language": "python",
   "name": "python3"
  },
  "language_info": {
   "codemirror_mode": {
    "name": "ipython",
    "version": 3
   },
   "file_extension": ".py",
   "mimetype": "text/x-python",
   "name": "python",
   "nbconvert_exporter": "python",
   "pygments_lexer": "ipython3",
   "version": "3.9.12"
  }
 },
 "nbformat": 4,
 "nbformat_minor": 5
}
